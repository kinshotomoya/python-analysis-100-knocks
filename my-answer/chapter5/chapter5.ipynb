{
 "metadata": {
  "language_info": {
   "codemirror_mode": {
    "name": "ipython",
    "version": 3
   },
   "file_extension": ".py",
   "mimetype": "text/x-python",
   "name": "python",
   "nbconvert_exporter": "python",
   "pygments_lexer": "ipython3",
   "version": "3.8.5-final"
  },
  "orig_nbformat": 2,
  "kernelspec": {
   "name": "python3",
   "display_name": "Python 3",
   "language": "python"
  }
 },
 "nbformat": 4,
 "nbformat_minor": 2,
 "cells": [
  {
   "cell_type": "code",
   "execution_count": 1,
   "metadata": {},
   "outputs": [],
   "source": [
    "import pandas as pd\n",
    "pd.set_option('display.max_columns', 50)\n",
    "pd.set_option(\"display.max_rows\", 999)"
   ]
  },
  {
   "cell_type": "code",
   "execution_count": 2,
   "metadata": {},
   "outputs": [],
   "source": [
    "customer = pd.read_csv('customer_join.csv')\n",
    "uselog_months = pd.read_csv('use_log_months.csv')"
   ]
  },
  {
   "cell_type": "code",
   "execution_count": 3,
   "metadata": {},
   "outputs": [
    {
     "output_type": "execute_result",
     "data": {
      "text/plain": [
       "       年月 customer_id  count_0  count_1\n",
       "0  201805    AS002855        5      4.0\n",
       "1  201805    AS009373        4      3.0\n",
       "2  201805    AS015233        7      NaN\n",
       "3  201805    AS015315        3      6.0\n",
       "4  201805    AS015739        5      7.0"
      ],
      "text/html": "<div>\n<style scoped>\n    .dataframe tbody tr th:only-of-type {\n        vertical-align: middle;\n    }\n\n    .dataframe tbody tr th {\n        vertical-align: top;\n    }\n\n    .dataframe thead th {\n        text-align: right;\n    }\n</style>\n<table border=\"1\" class=\"dataframe\">\n  <thead>\n    <tr style=\"text-align: right;\">\n      <th></th>\n      <th>年月</th>\n      <th>customer_id</th>\n      <th>count_0</th>\n      <th>count_1</th>\n    </tr>\n  </thead>\n  <tbody>\n    <tr>\n      <th>0</th>\n      <td>201805</td>\n      <td>AS002855</td>\n      <td>5</td>\n      <td>4.0</td>\n    </tr>\n    <tr>\n      <th>1</th>\n      <td>201805</td>\n      <td>AS009373</td>\n      <td>4</td>\n      <td>3.0</td>\n    </tr>\n    <tr>\n      <th>2</th>\n      <td>201805</td>\n      <td>AS015233</td>\n      <td>7</td>\n      <td>NaN</td>\n    </tr>\n    <tr>\n      <th>3</th>\n      <td>201805</td>\n      <td>AS015315</td>\n      <td>3</td>\n      <td>6.0</td>\n    </tr>\n    <tr>\n      <th>4</th>\n      <td>201805</td>\n      <td>AS015739</td>\n      <td>5</td>\n      <td>7.0</td>\n    </tr>\n  </tbody>\n</table>\n</div>"
     },
     "metadata": {},
     "execution_count": 3
    }
   ],
   "source": [
    "year_months = list(uselog_months[\"年月\"].unique())\n",
    "uselog = pd.DataFrame()\n",
    "for i in range(1, len(year_months)):\n",
    "    tmp = uselog_months.loc[uselog_months[\"年月\"]==year_months[i]]\n",
    "    tmp.rename(columns={\"count\":\"count_0\"}, inplace=True)\n",
    "    tmp_before = uselog_months.loc[uselog_months[\"年月\"]==year_months[i-1]]\n",
    "    del tmp_before[\"年月\"]\n",
    "    tmp_before.rename(columns={\"count\":\"count_1\"}, inplace=True)\n",
    "    tmp = pd.merge(tmp, tmp_before, on=\"customer_id\", how=\"left\")\n",
    "    uselog = pd.concat([uselog, tmp], ignore_index=True)\n",
    "uselog.head()"
   ]
  },
  {
   "source": [
    "# end_dateの1ヶ月前の年月を取得する\n",
    "from dateutil.relativedelta import relativedelta\n",
    "exit_customer = customer.loc[customer[\"is_deleted\"]==1]\n",
    "exit_customer[\"end_date\"] = pd.to_datetime(exit_customer[\"end_date\"])\n",
    "exit_customer[\"exit_date\"] = None\n",
    "for i in range(0 ,len(exit_customer)):\n",
    "    exit_customer[\"exit_date\"].iloc[i] = exit_customer[\"end_date\"].iloc[i] - relativedelta(months=1)\n",
    "\n",
    "exit_customer[\"年月\"] = pd.to_datetime(exit_customer[\"exit_date\"]).dt.strftime(\"%Y%m\")\n",
    "uselog[\"年月\"] = uselog[\"年月\"].astype(str)\n",
    "exit_uselog = pd.merge(uselog, exit_customer, on=[\"customer_id\", \"年月\"], how=\"left\")\n",
    "print(len(exit_uselog))\n",
    "exit_uselog.head()"
   ],
   "cell_type": "code",
   "metadata": {
    "tags": []
   },
   "execution_count": 42,
   "outputs": [
    {
     "output_type": "stream",
     "name": "stdout",
     "text": [
      "33851\n"
     ]
    },
    {
     "output_type": "execute_result",
     "data": {
      "text/plain": [
       "       年月 customer_id  count_0  count_1 name class gender start_date end_date  \\\n",
       "0  201805    AS002855        5      4.0  NaN   NaN    NaN        NaN      NaT   \n",
       "1  201805    AS009373        4      3.0  NaN   NaN    NaN        NaN      NaT   \n",
       "2  201805    AS015233        7      NaN  NaN   NaN    NaN        NaN      NaT   \n",
       "3  201805    AS015315        3      6.0  NaN   NaN    NaN        NaN      NaT   \n",
       "4  201805    AS015739        5      7.0  NaN   NaN    NaN        NaN      NaT   \n",
       "\n",
       "  campaign_id  is_deleted class_name  price campaign_name  mean  median  max  \\\n",
       "0         NaN         NaN        NaN    NaN           NaN   NaN     NaN  NaN   \n",
       "1         NaN         NaN        NaN    NaN           NaN   NaN     NaN  NaN   \n",
       "2         NaN         NaN        NaN    NaN           NaN   NaN     NaN  NaN   \n",
       "3         NaN         NaN        NaN    NaN           NaN   NaN     NaN  NaN   \n",
       "4         NaN         NaN        NaN    NaN           NaN   NaN     NaN  NaN   \n",
       "\n",
       "   min  routine_flg calc_date  membership_period exit_date  \n",
       "0  NaN          NaN       NaN                NaN       NaN  \n",
       "1  NaN          NaN       NaN                NaN       NaN  \n",
       "2  NaN          NaN       NaN                NaN       NaN  \n",
       "3  NaN          NaN       NaN                NaN       NaN  \n",
       "4  NaN          NaN       NaN                NaN       NaN  "
      ],
      "text/html": "<div>\n<style scoped>\n    .dataframe tbody tr th:only-of-type {\n        vertical-align: middle;\n    }\n\n    .dataframe tbody tr th {\n        vertical-align: top;\n    }\n\n    .dataframe thead th {\n        text-align: right;\n    }\n</style>\n<table border=\"1\" class=\"dataframe\">\n  <thead>\n    <tr style=\"text-align: right;\">\n      <th></th>\n      <th>年月</th>\n      <th>customer_id</th>\n      <th>count_0</th>\n      <th>count_1</th>\n      <th>name</th>\n      <th>class</th>\n      <th>gender</th>\n      <th>start_date</th>\n      <th>end_date</th>\n      <th>campaign_id</th>\n      <th>is_deleted</th>\n      <th>class_name</th>\n      <th>price</th>\n      <th>campaign_name</th>\n      <th>mean</th>\n      <th>median</th>\n      <th>max</th>\n      <th>min</th>\n      <th>routine_flg</th>\n      <th>calc_date</th>\n      <th>membership_period</th>\n      <th>exit_date</th>\n    </tr>\n  </thead>\n  <tbody>\n    <tr>\n      <th>0</th>\n      <td>201805</td>\n      <td>AS002855</td>\n      <td>5</td>\n      <td>4.0</td>\n      <td>NaN</td>\n      <td>NaN</td>\n      <td>NaN</td>\n      <td>NaN</td>\n      <td>NaT</td>\n      <td>NaN</td>\n      <td>NaN</td>\n      <td>NaN</td>\n      <td>NaN</td>\n      <td>NaN</td>\n      <td>NaN</td>\n      <td>NaN</td>\n      <td>NaN</td>\n      <td>NaN</td>\n      <td>NaN</td>\n      <td>NaN</td>\n      <td>NaN</td>\n      <td>NaN</td>\n    </tr>\n    <tr>\n      <th>1</th>\n      <td>201805</td>\n      <td>AS009373</td>\n      <td>4</td>\n      <td>3.0</td>\n      <td>NaN</td>\n      <td>NaN</td>\n      <td>NaN</td>\n      <td>NaN</td>\n      <td>NaT</td>\n      <td>NaN</td>\n      <td>NaN</td>\n      <td>NaN</td>\n      <td>NaN</td>\n      <td>NaN</td>\n      <td>NaN</td>\n      <td>NaN</td>\n      <td>NaN</td>\n      <td>NaN</td>\n      <td>NaN</td>\n      <td>NaN</td>\n      <td>NaN</td>\n      <td>NaN</td>\n    </tr>\n    <tr>\n      <th>2</th>\n      <td>201805</td>\n      <td>AS015233</td>\n      <td>7</td>\n      <td>NaN</td>\n      <td>NaN</td>\n      <td>NaN</td>\n      <td>NaN</td>\n      <td>NaN</td>\n      <td>NaT</td>\n      <td>NaN</td>\n      <td>NaN</td>\n      <td>NaN</td>\n      <td>NaN</td>\n      <td>NaN</td>\n      <td>NaN</td>\n      <td>NaN</td>\n      <td>NaN</td>\n      <td>NaN</td>\n      <td>NaN</td>\n      <td>NaN</td>\n      <td>NaN</td>\n      <td>NaN</td>\n    </tr>\n    <tr>\n      <th>3</th>\n      <td>201805</td>\n      <td>AS015315</td>\n      <td>3</td>\n      <td>6.0</td>\n      <td>NaN</td>\n      <td>NaN</td>\n      <td>NaN</td>\n      <td>NaN</td>\n      <td>NaT</td>\n      <td>NaN</td>\n      <td>NaN</td>\n      <td>NaN</td>\n      <td>NaN</td>\n      <td>NaN</td>\n      <td>NaN</td>\n      <td>NaN</td>\n      <td>NaN</td>\n      <td>NaN</td>\n      <td>NaN</td>\n      <td>NaN</td>\n      <td>NaN</td>\n      <td>NaN</td>\n    </tr>\n    <tr>\n      <th>4</th>\n      <td>201805</td>\n      <td>AS015739</td>\n      <td>5</td>\n      <td>7.0</td>\n      <td>NaN</td>\n      <td>NaN</td>\n      <td>NaN</td>\n      <td>NaN</td>\n      <td>NaT</td>\n      <td>NaN</td>\n      <td>NaN</td>\n      <td>NaN</td>\n      <td>NaN</td>\n      <td>NaN</td>\n      <td>NaN</td>\n      <td>NaN</td>\n      <td>NaN</td>\n      <td>NaN</td>\n      <td>NaN</td>\n      <td>NaN</td>\n      <td>NaN</td>\n      <td>NaN</td>\n    </tr>\n  </tbody>\n</table>\n</div>"
     },
     "metadata": {},
     "execution_count": 42
    }
   ]
  },
  {
   "cell_type": "code",
   "execution_count": 44,
   "metadata": {},
   "outputs": [
    {
     "output_type": "execute_result",
     "data": {
      "text/plain": [
       "   level_0  index      年月 customer_id  count_0  count_1   name class gender  \\\n",
       "0        0     19  201805    AS055680        3      3.0  XXXXX   C01      M   \n",
       "1        1     57  201805    AS169823        2      3.0     XX   C01      M   \n",
       "2        2    110  201805    AS305860        5      3.0   XXXX   C01      M   \n",
       "3        3    128  201805    AS363699        5      3.0  XXXXX   C01      M   \n",
       "4        4    147  201805    AS417696        1      4.0     XX   C03      F   \n",
       "\n",
       "   start_date   end_date campaign_id  is_deleted class_name    price  \\\n",
       "0  2018-03-01 2018-06-30         CA1         1.0     オールタイム  10500.0   \n",
       "1  2017-11-01 2018-06-30         CA1         1.0     オールタイム  10500.0   \n",
       "2  2017-06-01 2018-06-30         CA1         1.0     オールタイム  10500.0   \n",
       "3  2018-02-01 2018-06-30         CA1         1.0     オールタイム  10500.0   \n",
       "4  2017-09-01 2018-06-30         CA1         1.0        ナイト   6000.0   \n",
       "\n",
       "  campaign_name      mean  median  max  min  routine_flg   calc_date  \\\n",
       "0            通常  3.000000     3.0  3.0  3.0          0.0  2018-06-30   \n",
       "1            通常  3.000000     3.0  4.0  2.0          1.0  2018-06-30   \n",
       "2            通常  3.333333     3.0  5.0  2.0          0.0  2018-06-30   \n",
       "3            通常  3.333333     3.0  5.0  2.0          0.0  2018-06-30   \n",
       "4            通常  2.000000     1.0  4.0  1.0          0.0  2018-06-30   \n",
       "\n",
       "   membership_period            exit_date  \n",
       "0                3.0  2018-05-30 00:00:00  \n",
       "1                7.0  2018-05-30 00:00:00  \n",
       "2               12.0  2018-05-30 00:00:00  \n",
       "3                4.0  2018-05-30 00:00:00  \n",
       "4                9.0  2018-05-30 00:00:00  "
      ],
      "text/html": "<div>\n<style scoped>\n    .dataframe tbody tr th:only-of-type {\n        vertical-align: middle;\n    }\n\n    .dataframe tbody tr th {\n        vertical-align: top;\n    }\n\n    .dataframe thead th {\n        text-align: right;\n    }\n</style>\n<table border=\"1\" class=\"dataframe\">\n  <thead>\n    <tr style=\"text-align: right;\">\n      <th></th>\n      <th>level_0</th>\n      <th>index</th>\n      <th>年月</th>\n      <th>customer_id</th>\n      <th>count_0</th>\n      <th>count_1</th>\n      <th>name</th>\n      <th>class</th>\n      <th>gender</th>\n      <th>start_date</th>\n      <th>end_date</th>\n      <th>campaign_id</th>\n      <th>is_deleted</th>\n      <th>class_name</th>\n      <th>price</th>\n      <th>campaign_name</th>\n      <th>mean</th>\n      <th>median</th>\n      <th>max</th>\n      <th>min</th>\n      <th>routine_flg</th>\n      <th>calc_date</th>\n      <th>membership_period</th>\n      <th>exit_date</th>\n    </tr>\n  </thead>\n  <tbody>\n    <tr>\n      <th>0</th>\n      <td>0</td>\n      <td>19</td>\n      <td>201805</td>\n      <td>AS055680</td>\n      <td>3</td>\n      <td>3.0</td>\n      <td>XXXXX</td>\n      <td>C01</td>\n      <td>M</td>\n      <td>2018-03-01</td>\n      <td>2018-06-30</td>\n      <td>CA1</td>\n      <td>1.0</td>\n      <td>オールタイム</td>\n      <td>10500.0</td>\n      <td>通常</td>\n      <td>3.000000</td>\n      <td>3.0</td>\n      <td>3.0</td>\n      <td>3.0</td>\n      <td>0.0</td>\n      <td>2018-06-30</td>\n      <td>3.0</td>\n      <td>2018-05-30 00:00:00</td>\n    </tr>\n    <tr>\n      <th>1</th>\n      <td>1</td>\n      <td>57</td>\n      <td>201805</td>\n      <td>AS169823</td>\n      <td>2</td>\n      <td>3.0</td>\n      <td>XX</td>\n      <td>C01</td>\n      <td>M</td>\n      <td>2017-11-01</td>\n      <td>2018-06-30</td>\n      <td>CA1</td>\n      <td>1.0</td>\n      <td>オールタイム</td>\n      <td>10500.0</td>\n      <td>通常</td>\n      <td>3.000000</td>\n      <td>3.0</td>\n      <td>4.0</td>\n      <td>2.0</td>\n      <td>1.0</td>\n      <td>2018-06-30</td>\n      <td>7.0</td>\n      <td>2018-05-30 00:00:00</td>\n    </tr>\n    <tr>\n      <th>2</th>\n      <td>2</td>\n      <td>110</td>\n      <td>201805</td>\n      <td>AS305860</td>\n      <td>5</td>\n      <td>3.0</td>\n      <td>XXXX</td>\n      <td>C01</td>\n      <td>M</td>\n      <td>2017-06-01</td>\n      <td>2018-06-30</td>\n      <td>CA1</td>\n      <td>1.0</td>\n      <td>オールタイム</td>\n      <td>10500.0</td>\n      <td>通常</td>\n      <td>3.333333</td>\n      <td>3.0</td>\n      <td>5.0</td>\n      <td>2.0</td>\n      <td>0.0</td>\n      <td>2018-06-30</td>\n      <td>12.0</td>\n      <td>2018-05-30 00:00:00</td>\n    </tr>\n    <tr>\n      <th>3</th>\n      <td>3</td>\n      <td>128</td>\n      <td>201805</td>\n      <td>AS363699</td>\n      <td>5</td>\n      <td>3.0</td>\n      <td>XXXXX</td>\n      <td>C01</td>\n      <td>M</td>\n      <td>2018-02-01</td>\n      <td>2018-06-30</td>\n      <td>CA1</td>\n      <td>1.0</td>\n      <td>オールタイム</td>\n      <td>10500.0</td>\n      <td>通常</td>\n      <td>3.333333</td>\n      <td>3.0</td>\n      <td>5.0</td>\n      <td>2.0</td>\n      <td>0.0</td>\n      <td>2018-06-30</td>\n      <td>4.0</td>\n      <td>2018-05-30 00:00:00</td>\n    </tr>\n    <tr>\n      <th>4</th>\n      <td>4</td>\n      <td>147</td>\n      <td>201805</td>\n      <td>AS417696</td>\n      <td>1</td>\n      <td>4.0</td>\n      <td>XX</td>\n      <td>C03</td>\n      <td>F</td>\n      <td>2017-09-01</td>\n      <td>2018-06-30</td>\n      <td>CA1</td>\n      <td>1.0</td>\n      <td>ナイト</td>\n      <td>6000.0</td>\n      <td>通常</td>\n      <td>2.000000</td>\n      <td>1.0</td>\n      <td>4.0</td>\n      <td>1.0</td>\n      <td>0.0</td>\n      <td>2018-06-30</td>\n      <td>9.0</td>\n      <td>2018-05-30 00:00:00</td>\n    </tr>\n  </tbody>\n</table>\n</div>"
     },
     "metadata": {},
     "execution_count": 44
    }
   ],
   "source": [
    "# 欠損値の除去\n",
    "exit_uselog = exit_uselog.dropna(subset=[\"name\"])\n",
    "exit_uselog = exit_uselog.reset_index()\n",
    "# print(exit_uselog[\"customer_id\"].unique())\n",
    "exit_uselog.head()\n",
    "\n",
    "# これで、退会したユーザーのデータを整形できた"
   ]
  },
  {
   "cell_type": "code",
   "execution_count": null,
   "metadata": {},
   "outputs": [],
   "source": [
    "# TODO: ノック43\n",
    "# 継続ユーザーのデータを作成・整形する"
   ]
  }
 ]
}