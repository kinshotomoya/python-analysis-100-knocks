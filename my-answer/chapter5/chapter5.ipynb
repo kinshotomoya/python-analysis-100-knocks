{
 "metadata": {
  "language_info": {
   "codemirror_mode": {
    "name": "ipython",
    "version": 3
   },
   "file_extension": ".py",
   "mimetype": "text/x-python",
   "name": "python",
   "nbconvert_exporter": "python",
   "pygments_lexer": "ipython3",
   "version": "3.8.5-final"
  },
  "orig_nbformat": 2,
  "kernelspec": {
   "name": "python3",
   "display_name": "Python 3",
   "language": "python"
  }
 },
 "nbformat": 4,
 "nbformat_minor": 2,
 "cells": [
  {
   "cell_type": "code",
   "execution_count": 112,
   "metadata": {},
   "outputs": [],
   "source": [
    "import pandas as pd\n",
    "pd.set_option('display.max_columns', 50)\n",
    "pd.set_option(\"display.max_rows\", 999)"
   ]
  },
  {
   "cell_type": "code",
   "execution_count": 113,
   "metadata": {},
   "outputs": [],
   "source": [
    "customer = pd.read_csv('customer_join.csv')\n",
    "uselog_months = pd.read_csv('use_log_months.csv')"
   ]
  },
  {
   "cell_type": "code",
   "execution_count": 114,
   "metadata": {},
   "outputs": [
    {
     "output_type": "execute_result",
     "data": {
      "text/plain": [
       "       年月 customer_id  count_0  count_1\n",
       "0  201805    AS002855        5      4.0\n",
       "1  201805    AS009373        4      3.0\n",
       "2  201805    AS015233        7      NaN\n",
       "3  201805    AS015315        3      6.0\n",
       "4  201805    AS015739        5      7.0"
      ],
      "text/html": "<div>\n<style scoped>\n    .dataframe tbody tr th:only-of-type {\n        vertical-align: middle;\n    }\n\n    .dataframe tbody tr th {\n        vertical-align: top;\n    }\n\n    .dataframe thead th {\n        text-align: right;\n    }\n</style>\n<table border=\"1\" class=\"dataframe\">\n  <thead>\n    <tr style=\"text-align: right;\">\n      <th></th>\n      <th>年月</th>\n      <th>customer_id</th>\n      <th>count_0</th>\n      <th>count_1</th>\n    </tr>\n  </thead>\n  <tbody>\n    <tr>\n      <th>0</th>\n      <td>201805</td>\n      <td>AS002855</td>\n      <td>5</td>\n      <td>4.0</td>\n    </tr>\n    <tr>\n      <th>1</th>\n      <td>201805</td>\n      <td>AS009373</td>\n      <td>4</td>\n      <td>3.0</td>\n    </tr>\n    <tr>\n      <th>2</th>\n      <td>201805</td>\n      <td>AS015233</td>\n      <td>7</td>\n      <td>NaN</td>\n    </tr>\n    <tr>\n      <th>3</th>\n      <td>201805</td>\n      <td>AS015315</td>\n      <td>3</td>\n      <td>6.0</td>\n    </tr>\n    <tr>\n      <th>4</th>\n      <td>201805</td>\n      <td>AS015739</td>\n      <td>5</td>\n      <td>7.0</td>\n    </tr>\n  </tbody>\n</table>\n</div>"
     },
     "metadata": {},
     "execution_count": 114
    }
   ],
   "source": [
    "year_months = list(uselog_months[\"年月\"].unique())\n",
    "uselog = pd.DataFrame()\n",
    "for i in range(1, len(year_months)):\n",
    "    tmp = uselog_months.loc[uselog_months[\"年月\"]==year_months[i]]\n",
    "    tmp.rename(columns={\"count\":\"count_0\"}, inplace=True)\n",
    "    tmp_before = uselog_months.loc[uselog_months[\"年月\"]==year_months[i-1]]\n",
    "    del tmp_before[\"年月\"]\n",
    "    tmp_before.rename(columns={\"count\":\"count_1\"}, inplace=True)\n",
    "    tmp = pd.merge(tmp, tmp_before, on=\"customer_id\", how=\"left\")\n",
    "    uselog = pd.concat([uselog, tmp], ignore_index=True)\n",
    "uselog.head()"
   ]
  },
  {
   "source": [
    "# end_dateの1ヶ月前の年月を取得する\n",
    "from dateutil.relativedelta import relativedelta\n",
    "exit_customer = customer.loc[customer[\"is_deleted\"]==1]\n",
    "exit_customer[\"end_date\"] = pd.to_datetime(exit_customer[\"end_date\"])\n",
    "exit_customer[\"exit_date\"] = None\n",
    "for i in range(0 ,len(exit_customer)):\n",
    "    exit_customer[\"exit_date\"].iloc[i] = exit_customer[\"end_date\"].iloc[i] - relativedelta(months=1)\n",
    "\n",
    "exit_customer[\"年月\"] = pd.to_datetime(exit_customer[\"exit_date\"]).dt.strftime(\"%Y%m\")\n",
    "uselog[\"年月\"] = uselog[\"年月\"].astype(str)\n",
    "exit_uselog = pd.merge(uselog, exit_customer, on=[\"customer_id\", \"年月\"], how=\"left\")\n",
    "print(len(exit_uselog))\n",
    "exit_uselog.head()"
   ],
   "cell_type": "code",
   "metadata": {
    "tags": []
   },
   "execution_count": 115,
   "outputs": [
    {
     "output_type": "stream",
     "name": "stdout",
     "text": [
      "33851\n"
     ]
    },
    {
     "output_type": "execute_result",
     "data": {
      "text/plain": [
       "       年月 customer_id  count_0  count_1 name class gender start_date end_date  \\\n",
       "0  201805    AS002855        5      4.0  NaN   NaN    NaN        NaN      NaT   \n",
       "1  201805    AS009373        4      3.0  NaN   NaN    NaN        NaN      NaT   \n",
       "2  201805    AS015233        7      NaN  NaN   NaN    NaN        NaN      NaT   \n",
       "3  201805    AS015315        3      6.0  NaN   NaN    NaN        NaN      NaT   \n",
       "4  201805    AS015739        5      7.0  NaN   NaN    NaN        NaN      NaT   \n",
       "\n",
       "  campaign_id  is_deleted class_name  price campaign_name  mean  median  max  \\\n",
       "0         NaN         NaN        NaN    NaN           NaN   NaN     NaN  NaN   \n",
       "1         NaN         NaN        NaN    NaN           NaN   NaN     NaN  NaN   \n",
       "2         NaN         NaN        NaN    NaN           NaN   NaN     NaN  NaN   \n",
       "3         NaN         NaN        NaN    NaN           NaN   NaN     NaN  NaN   \n",
       "4         NaN         NaN        NaN    NaN           NaN   NaN     NaN  NaN   \n",
       "\n",
       "   min  routine_flg calc_date  membership_period exit_date  \n",
       "0  NaN          NaN       NaN                NaN       NaN  \n",
       "1  NaN          NaN       NaN                NaN       NaN  \n",
       "2  NaN          NaN       NaN                NaN       NaN  \n",
       "3  NaN          NaN       NaN                NaN       NaN  \n",
       "4  NaN          NaN       NaN                NaN       NaN  "
      ],
      "text/html": "<div>\n<style scoped>\n    .dataframe tbody tr th:only-of-type {\n        vertical-align: middle;\n    }\n\n    .dataframe tbody tr th {\n        vertical-align: top;\n    }\n\n    .dataframe thead th {\n        text-align: right;\n    }\n</style>\n<table border=\"1\" class=\"dataframe\">\n  <thead>\n    <tr style=\"text-align: right;\">\n      <th></th>\n      <th>年月</th>\n      <th>customer_id</th>\n      <th>count_0</th>\n      <th>count_1</th>\n      <th>name</th>\n      <th>class</th>\n      <th>gender</th>\n      <th>start_date</th>\n      <th>end_date</th>\n      <th>campaign_id</th>\n      <th>is_deleted</th>\n      <th>class_name</th>\n      <th>price</th>\n      <th>campaign_name</th>\n      <th>mean</th>\n      <th>median</th>\n      <th>max</th>\n      <th>min</th>\n      <th>routine_flg</th>\n      <th>calc_date</th>\n      <th>membership_period</th>\n      <th>exit_date</th>\n    </tr>\n  </thead>\n  <tbody>\n    <tr>\n      <th>0</th>\n      <td>201805</td>\n      <td>AS002855</td>\n      <td>5</td>\n      <td>4.0</td>\n      <td>NaN</td>\n      <td>NaN</td>\n      <td>NaN</td>\n      <td>NaN</td>\n      <td>NaT</td>\n      <td>NaN</td>\n      <td>NaN</td>\n      <td>NaN</td>\n      <td>NaN</td>\n      <td>NaN</td>\n      <td>NaN</td>\n      <td>NaN</td>\n      <td>NaN</td>\n      <td>NaN</td>\n      <td>NaN</td>\n      <td>NaN</td>\n      <td>NaN</td>\n      <td>NaN</td>\n    </tr>\n    <tr>\n      <th>1</th>\n      <td>201805</td>\n      <td>AS009373</td>\n      <td>4</td>\n      <td>3.0</td>\n      <td>NaN</td>\n      <td>NaN</td>\n      <td>NaN</td>\n      <td>NaN</td>\n      <td>NaT</td>\n      <td>NaN</td>\n      <td>NaN</td>\n      <td>NaN</td>\n      <td>NaN</td>\n      <td>NaN</td>\n      <td>NaN</td>\n      <td>NaN</td>\n      <td>NaN</td>\n      <td>NaN</td>\n      <td>NaN</td>\n      <td>NaN</td>\n      <td>NaN</td>\n      <td>NaN</td>\n    </tr>\n    <tr>\n      <th>2</th>\n      <td>201805</td>\n      <td>AS015233</td>\n      <td>7</td>\n      <td>NaN</td>\n      <td>NaN</td>\n      <td>NaN</td>\n      <td>NaN</td>\n      <td>NaN</td>\n      <td>NaT</td>\n      <td>NaN</td>\n      <td>NaN</td>\n      <td>NaN</td>\n      <td>NaN</td>\n      <td>NaN</td>\n      <td>NaN</td>\n      <td>NaN</td>\n      <td>NaN</td>\n      <td>NaN</td>\n      <td>NaN</td>\n      <td>NaN</td>\n      <td>NaN</td>\n      <td>NaN</td>\n    </tr>\n    <tr>\n      <th>3</th>\n      <td>201805</td>\n      <td>AS015315</td>\n      <td>3</td>\n      <td>6.0</td>\n      <td>NaN</td>\n      <td>NaN</td>\n      <td>NaN</td>\n      <td>NaN</td>\n      <td>NaT</td>\n      <td>NaN</td>\n      <td>NaN</td>\n      <td>NaN</td>\n      <td>NaN</td>\n      <td>NaN</td>\n      <td>NaN</td>\n      <td>NaN</td>\n      <td>NaN</td>\n      <td>NaN</td>\n      <td>NaN</td>\n      <td>NaN</td>\n      <td>NaN</td>\n      <td>NaN</td>\n    </tr>\n    <tr>\n      <th>4</th>\n      <td>201805</td>\n      <td>AS015739</td>\n      <td>5</td>\n      <td>7.0</td>\n      <td>NaN</td>\n      <td>NaN</td>\n      <td>NaN</td>\n      <td>NaN</td>\n      <td>NaT</td>\n      <td>NaN</td>\n      <td>NaN</td>\n      <td>NaN</td>\n      <td>NaN</td>\n      <td>NaN</td>\n      <td>NaN</td>\n      <td>NaN</td>\n      <td>NaN</td>\n      <td>NaN</td>\n      <td>NaN</td>\n      <td>NaN</td>\n      <td>NaN</td>\n      <td>NaN</td>\n    </tr>\n  </tbody>\n</table>\n</div>"
     },
     "metadata": {},
     "execution_count": 115
    }
   ]
  },
  {
   "cell_type": "code",
   "execution_count": 116,
   "metadata": {},
   "outputs": [
    {
     "output_type": "execute_result",
     "data": {
      "text/plain": [
       "   index      年月 customer_id  count_0  count_1   name class gender  \\\n",
       "0     19  201805    AS055680        3      3.0  XXXXX   C01      M   \n",
       "1     57  201805    AS169823        2      3.0     XX   C01      M   \n",
       "2    110  201805    AS305860        5      3.0   XXXX   C01      M   \n",
       "3    128  201805    AS363699        5      3.0  XXXXX   C01      M   \n",
       "4    147  201805    AS417696        1      4.0     XX   C03      F   \n",
       "\n",
       "   start_date   end_date campaign_id  is_deleted class_name    price  \\\n",
       "0  2018-03-01 2018-06-30         CA1         1.0     オールタイム  10500.0   \n",
       "1  2017-11-01 2018-06-30         CA1         1.0     オールタイム  10500.0   \n",
       "2  2017-06-01 2018-06-30         CA1         1.0     オールタイム  10500.0   \n",
       "3  2018-02-01 2018-06-30         CA1         1.0     オールタイム  10500.0   \n",
       "4  2017-09-01 2018-06-30         CA1         1.0        ナイト   6000.0   \n",
       "\n",
       "  campaign_name      mean  median  max  min  routine_flg   calc_date  \\\n",
       "0            通常  3.000000     3.0  3.0  3.0          0.0  2018-06-30   \n",
       "1            通常  3.000000     3.0  4.0  2.0          1.0  2018-06-30   \n",
       "2            通常  3.333333     3.0  5.0  2.0          0.0  2018-06-30   \n",
       "3            通常  3.333333     3.0  5.0  2.0          0.0  2018-06-30   \n",
       "4            通常  2.000000     1.0  4.0  1.0          0.0  2018-06-30   \n",
       "\n",
       "   membership_period            exit_date  \n",
       "0                3.0  2018-05-30 00:00:00  \n",
       "1                7.0  2018-05-30 00:00:00  \n",
       "2               12.0  2018-05-30 00:00:00  \n",
       "3                4.0  2018-05-30 00:00:00  \n",
       "4                9.0  2018-05-30 00:00:00  "
      ],
      "text/html": "<div>\n<style scoped>\n    .dataframe tbody tr th:only-of-type {\n        vertical-align: middle;\n    }\n\n    .dataframe tbody tr th {\n        vertical-align: top;\n    }\n\n    .dataframe thead th {\n        text-align: right;\n    }\n</style>\n<table border=\"1\" class=\"dataframe\">\n  <thead>\n    <tr style=\"text-align: right;\">\n      <th></th>\n      <th>index</th>\n      <th>年月</th>\n      <th>customer_id</th>\n      <th>count_0</th>\n      <th>count_1</th>\n      <th>name</th>\n      <th>class</th>\n      <th>gender</th>\n      <th>start_date</th>\n      <th>end_date</th>\n      <th>campaign_id</th>\n      <th>is_deleted</th>\n      <th>class_name</th>\n      <th>price</th>\n      <th>campaign_name</th>\n      <th>mean</th>\n      <th>median</th>\n      <th>max</th>\n      <th>min</th>\n      <th>routine_flg</th>\n      <th>calc_date</th>\n      <th>membership_period</th>\n      <th>exit_date</th>\n    </tr>\n  </thead>\n  <tbody>\n    <tr>\n      <th>0</th>\n      <td>19</td>\n      <td>201805</td>\n      <td>AS055680</td>\n      <td>3</td>\n      <td>3.0</td>\n      <td>XXXXX</td>\n      <td>C01</td>\n      <td>M</td>\n      <td>2018-03-01</td>\n      <td>2018-06-30</td>\n      <td>CA1</td>\n      <td>1.0</td>\n      <td>オールタイム</td>\n      <td>10500.0</td>\n      <td>通常</td>\n      <td>3.000000</td>\n      <td>3.0</td>\n      <td>3.0</td>\n      <td>3.0</td>\n      <td>0.0</td>\n      <td>2018-06-30</td>\n      <td>3.0</td>\n      <td>2018-05-30 00:00:00</td>\n    </tr>\n    <tr>\n      <th>1</th>\n      <td>57</td>\n      <td>201805</td>\n      <td>AS169823</td>\n      <td>2</td>\n      <td>3.0</td>\n      <td>XX</td>\n      <td>C01</td>\n      <td>M</td>\n      <td>2017-11-01</td>\n      <td>2018-06-30</td>\n      <td>CA1</td>\n      <td>1.0</td>\n      <td>オールタイム</td>\n      <td>10500.0</td>\n      <td>通常</td>\n      <td>3.000000</td>\n      <td>3.0</td>\n      <td>4.0</td>\n      <td>2.0</td>\n      <td>1.0</td>\n      <td>2018-06-30</td>\n      <td>7.0</td>\n      <td>2018-05-30 00:00:00</td>\n    </tr>\n    <tr>\n      <th>2</th>\n      <td>110</td>\n      <td>201805</td>\n      <td>AS305860</td>\n      <td>5</td>\n      <td>3.0</td>\n      <td>XXXX</td>\n      <td>C01</td>\n      <td>M</td>\n      <td>2017-06-01</td>\n      <td>2018-06-30</td>\n      <td>CA1</td>\n      <td>1.0</td>\n      <td>オールタイム</td>\n      <td>10500.0</td>\n      <td>通常</td>\n      <td>3.333333</td>\n      <td>3.0</td>\n      <td>5.0</td>\n      <td>2.0</td>\n      <td>0.0</td>\n      <td>2018-06-30</td>\n      <td>12.0</td>\n      <td>2018-05-30 00:00:00</td>\n    </tr>\n    <tr>\n      <th>3</th>\n      <td>128</td>\n      <td>201805</td>\n      <td>AS363699</td>\n      <td>5</td>\n      <td>3.0</td>\n      <td>XXXXX</td>\n      <td>C01</td>\n      <td>M</td>\n      <td>2018-02-01</td>\n      <td>2018-06-30</td>\n      <td>CA1</td>\n      <td>1.0</td>\n      <td>オールタイム</td>\n      <td>10500.0</td>\n      <td>通常</td>\n      <td>3.333333</td>\n      <td>3.0</td>\n      <td>5.0</td>\n      <td>2.0</td>\n      <td>0.0</td>\n      <td>2018-06-30</td>\n      <td>4.0</td>\n      <td>2018-05-30 00:00:00</td>\n    </tr>\n    <tr>\n      <th>4</th>\n      <td>147</td>\n      <td>201805</td>\n      <td>AS417696</td>\n      <td>1</td>\n      <td>4.0</td>\n      <td>XX</td>\n      <td>C03</td>\n      <td>F</td>\n      <td>2017-09-01</td>\n      <td>2018-06-30</td>\n      <td>CA1</td>\n      <td>1.0</td>\n      <td>ナイト</td>\n      <td>6000.0</td>\n      <td>通常</td>\n      <td>2.000000</td>\n      <td>1.0</td>\n      <td>4.0</td>\n      <td>1.0</td>\n      <td>0.0</td>\n      <td>2018-06-30</td>\n      <td>9.0</td>\n      <td>2018-05-30 00:00:00</td>\n    </tr>\n  </tbody>\n</table>\n</div>"
     },
     "metadata": {},
     "execution_count": 116
    }
   ],
   "source": [
    "# 欠損値の除去\n",
    "exit_uselog = exit_uselog.dropna(subset=[\"name\"])\n",
    "exit_uselog = exit_uselog.reset_index()\n",
    "# print(exit_uselog[\"customer_id\"].unique())\n",
    "exit_uselog.head()\n",
    "\n",
    "# これで、退会したユーザーのデータを整形できた"
   ]
  },
  {
   "cell_type": "code",
   "execution_count": 117,
   "metadata": {},
   "outputs": [
    {
     "output_type": "execute_result",
     "data": {
      "text/plain": [
       "       年月 customer_id  count_0  count_1   name class gender  start_date  \\\n",
       "0  201805    AS002855        5      4.0   XXXX   C03      F  2016-11-01   \n",
       "1  201805    AS009373        4      3.0     XX   C01      F  2015-11-01   \n",
       "2  201805    AS015233        7      NaN  XXXXX   C01      M  2018-05-13   \n",
       "3  201805    AS015315        3      6.0  XXXXX   C01      M  2015-07-01   \n",
       "4  201805    AS015739        5      7.0  XXXXX   C03      M  2017-06-01   \n",
       "\n",
       "  end_date campaign_id  is_deleted class_name    price campaign_name  \\\n",
       "0      NaN         CA1         0.0        ナイト   6000.0            通常   \n",
       "1      NaN         CA1         0.0     オールタイム  10500.0            通常   \n",
       "2      NaN         CA2         0.0     オールタイム  10500.0         入会費半額   \n",
       "3      NaN         CA1         0.0     オールタイム  10500.0            通常   \n",
       "4      NaN         CA1         0.0        ナイト   6000.0            通常   \n",
       "\n",
       "       mean  median   max  min  routine_flg   calc_date  membership_period  \n",
       "0  4.500000     5.0   7.0  2.0          1.0  2019-04-30               29.0  \n",
       "1  5.083333     5.0   7.0  3.0          1.0  2019-04-30               41.0  \n",
       "2  7.545455     7.0  11.0  4.0          1.0  2019-04-30               11.0  \n",
       "3  4.833333     5.0   7.0  3.0          1.0  2019-04-30               45.0  \n",
       "4  5.583333     5.5   8.0  4.0          1.0  2019-04-30               22.0  "
      ],
      "text/html": "<div>\n<style scoped>\n    .dataframe tbody tr th:only-of-type {\n        vertical-align: middle;\n    }\n\n    .dataframe tbody tr th {\n        vertical-align: top;\n    }\n\n    .dataframe thead th {\n        text-align: right;\n    }\n</style>\n<table border=\"1\" class=\"dataframe\">\n  <thead>\n    <tr style=\"text-align: right;\">\n      <th></th>\n      <th>年月</th>\n      <th>customer_id</th>\n      <th>count_0</th>\n      <th>count_1</th>\n      <th>name</th>\n      <th>class</th>\n      <th>gender</th>\n      <th>start_date</th>\n      <th>end_date</th>\n      <th>campaign_id</th>\n      <th>is_deleted</th>\n      <th>class_name</th>\n      <th>price</th>\n      <th>campaign_name</th>\n      <th>mean</th>\n      <th>median</th>\n      <th>max</th>\n      <th>min</th>\n      <th>routine_flg</th>\n      <th>calc_date</th>\n      <th>membership_period</th>\n    </tr>\n  </thead>\n  <tbody>\n    <tr>\n      <th>0</th>\n      <td>201805</td>\n      <td>AS002855</td>\n      <td>5</td>\n      <td>4.0</td>\n      <td>XXXX</td>\n      <td>C03</td>\n      <td>F</td>\n      <td>2016-11-01</td>\n      <td>NaN</td>\n      <td>CA1</td>\n      <td>0.0</td>\n      <td>ナイト</td>\n      <td>6000.0</td>\n      <td>通常</td>\n      <td>4.500000</td>\n      <td>5.0</td>\n      <td>7.0</td>\n      <td>2.0</td>\n      <td>1.0</td>\n      <td>2019-04-30</td>\n      <td>29.0</td>\n    </tr>\n    <tr>\n      <th>1</th>\n      <td>201805</td>\n      <td>AS009373</td>\n      <td>4</td>\n      <td>3.0</td>\n      <td>XX</td>\n      <td>C01</td>\n      <td>F</td>\n      <td>2015-11-01</td>\n      <td>NaN</td>\n      <td>CA1</td>\n      <td>0.0</td>\n      <td>オールタイム</td>\n      <td>10500.0</td>\n      <td>通常</td>\n      <td>5.083333</td>\n      <td>5.0</td>\n      <td>7.0</td>\n      <td>3.0</td>\n      <td>1.0</td>\n      <td>2019-04-30</td>\n      <td>41.0</td>\n    </tr>\n    <tr>\n      <th>2</th>\n      <td>201805</td>\n      <td>AS015233</td>\n      <td>7</td>\n      <td>NaN</td>\n      <td>XXXXX</td>\n      <td>C01</td>\n      <td>M</td>\n      <td>2018-05-13</td>\n      <td>NaN</td>\n      <td>CA2</td>\n      <td>0.0</td>\n      <td>オールタイム</td>\n      <td>10500.0</td>\n      <td>入会費半額</td>\n      <td>7.545455</td>\n      <td>7.0</td>\n      <td>11.0</td>\n      <td>4.0</td>\n      <td>1.0</td>\n      <td>2019-04-30</td>\n      <td>11.0</td>\n    </tr>\n    <tr>\n      <th>3</th>\n      <td>201805</td>\n      <td>AS015315</td>\n      <td>3</td>\n      <td>6.0</td>\n      <td>XXXXX</td>\n      <td>C01</td>\n      <td>M</td>\n      <td>2015-07-01</td>\n      <td>NaN</td>\n      <td>CA1</td>\n      <td>0.0</td>\n      <td>オールタイム</td>\n      <td>10500.0</td>\n      <td>通常</td>\n      <td>4.833333</td>\n      <td>5.0</td>\n      <td>7.0</td>\n      <td>3.0</td>\n      <td>1.0</td>\n      <td>2019-04-30</td>\n      <td>45.0</td>\n    </tr>\n    <tr>\n      <th>4</th>\n      <td>201805</td>\n      <td>AS015739</td>\n      <td>5</td>\n      <td>7.0</td>\n      <td>XXXXX</td>\n      <td>C03</td>\n      <td>M</td>\n      <td>2017-06-01</td>\n      <td>NaN</td>\n      <td>CA1</td>\n      <td>0.0</td>\n      <td>ナイト</td>\n      <td>6000.0</td>\n      <td>通常</td>\n      <td>5.583333</td>\n      <td>5.5</td>\n      <td>8.0</td>\n      <td>4.0</td>\n      <td>1.0</td>\n      <td>2019-04-30</td>\n      <td>22.0</td>\n    </tr>\n  </tbody>\n</table>\n</div>"
     },
     "metadata": {},
     "execution_count": 117
    }
   ],
   "source": [
    "# TODO: ノック43\n",
    "# 継続ユーザーのデータを作成・整形する\n",
    "conti_customer = customer.loc[customer[\"is_deleted\"]==0]\n",
    "conti_uselog = pd.merge(uselog, conti_customer, on=\"customer_id\", how=\"left\")\n",
    "conti_uselog = conti_uselog.dropna(subset=[\"name\"])\n",
    "conti_uselog.head()"
   ]
  },
  {
   "cell_type": "code",
   "execution_count": 118,
   "metadata": {},
   "outputs": [
    {
     "output_type": "execute_result",
     "data": {
      "text/plain": [
       "       年月 customer_id  count_0  count_1    name class gender  start_date  \\\n",
       "0  201805    IK391344        6      5.0      XX   C01      M  2016-09-01   \n",
       "1  201805    GD009242        5      7.0     XXX   C02      F  2015-07-01   \n",
       "2  201903    TS578667        6      4.0  XXXXXX   C02      F  2017-05-01   \n",
       "3  201901    PL758737        6      7.0      XX   C01      M  2017-07-01   \n",
       "4  201810    PL082485        6      7.0   XXXXX   C01      F  2017-12-01   \n",
       "\n",
       "  end_date campaign_id  is_deleted class_name    price campaign_name  \\\n",
       "0      NaN         CA1         0.0     オールタイム  10500.0            通常   \n",
       "1      NaN         CA1         0.0      デイタイム   7500.0            通常   \n",
       "2      NaN         CA1         0.0      デイタイム   7500.0            通常   \n",
       "3      NaN         CA2         0.0     オールタイム  10500.0         入会費半額   \n",
       "4      NaN         CA3         0.0     オールタイム  10500.0         入会費無料   \n",
       "\n",
       "       mean  median  max  min  routine_flg   calc_date  membership_period  \n",
       "0  4.750000     5.0  7.0  3.0          1.0  2019-04-30               31.0  \n",
       "1  4.750000     5.0  7.0  2.0          1.0  2019-04-30               45.0  \n",
       "2  4.916667     5.5  8.0  2.0          1.0  2019-04-30               23.0  \n",
       "3  6.000000     6.5  8.0  2.0          1.0  2019-04-30               21.0  \n",
       "4  6.583333     6.5  9.0  5.0          1.0  2019-04-30               16.0  "
      ],
      "text/html": "<div>\n<style scoped>\n    .dataframe tbody tr th:only-of-type {\n        vertical-align: middle;\n    }\n\n    .dataframe tbody tr th {\n        vertical-align: top;\n    }\n\n    .dataframe thead th {\n        text-align: right;\n    }\n</style>\n<table border=\"1\" class=\"dataframe\">\n  <thead>\n    <tr style=\"text-align: right;\">\n      <th></th>\n      <th>年月</th>\n      <th>customer_id</th>\n      <th>count_0</th>\n      <th>count_1</th>\n      <th>name</th>\n      <th>class</th>\n      <th>gender</th>\n      <th>start_date</th>\n      <th>end_date</th>\n      <th>campaign_id</th>\n      <th>is_deleted</th>\n      <th>class_name</th>\n      <th>price</th>\n      <th>campaign_name</th>\n      <th>mean</th>\n      <th>median</th>\n      <th>max</th>\n      <th>min</th>\n      <th>routine_flg</th>\n      <th>calc_date</th>\n      <th>membership_period</th>\n    </tr>\n  </thead>\n  <tbody>\n    <tr>\n      <th>0</th>\n      <td>201805</td>\n      <td>IK391344</td>\n      <td>6</td>\n      <td>5.0</td>\n      <td>XX</td>\n      <td>C01</td>\n      <td>M</td>\n      <td>2016-09-01</td>\n      <td>NaN</td>\n      <td>CA1</td>\n      <td>0.0</td>\n      <td>オールタイム</td>\n      <td>10500.0</td>\n      <td>通常</td>\n      <td>4.750000</td>\n      <td>5.0</td>\n      <td>7.0</td>\n      <td>3.0</td>\n      <td>1.0</td>\n      <td>2019-04-30</td>\n      <td>31.0</td>\n    </tr>\n    <tr>\n      <th>1</th>\n      <td>201805</td>\n      <td>GD009242</td>\n      <td>5</td>\n      <td>7.0</td>\n      <td>XXX</td>\n      <td>C02</td>\n      <td>F</td>\n      <td>2015-07-01</td>\n      <td>NaN</td>\n      <td>CA1</td>\n      <td>0.0</td>\n      <td>デイタイム</td>\n      <td>7500.0</td>\n      <td>通常</td>\n      <td>4.750000</td>\n      <td>5.0</td>\n      <td>7.0</td>\n      <td>2.0</td>\n      <td>1.0</td>\n      <td>2019-04-30</td>\n      <td>45.0</td>\n    </tr>\n    <tr>\n      <th>2</th>\n      <td>201903</td>\n      <td>TS578667</td>\n      <td>6</td>\n      <td>4.0</td>\n      <td>XXXXXX</td>\n      <td>C02</td>\n      <td>F</td>\n      <td>2017-05-01</td>\n      <td>NaN</td>\n      <td>CA1</td>\n      <td>0.0</td>\n      <td>デイタイム</td>\n      <td>7500.0</td>\n      <td>通常</td>\n      <td>4.916667</td>\n      <td>5.5</td>\n      <td>8.0</td>\n      <td>2.0</td>\n      <td>1.0</td>\n      <td>2019-04-30</td>\n      <td>23.0</td>\n    </tr>\n    <tr>\n      <th>3</th>\n      <td>201901</td>\n      <td>PL758737</td>\n      <td>6</td>\n      <td>7.0</td>\n      <td>XX</td>\n      <td>C01</td>\n      <td>M</td>\n      <td>2017-07-01</td>\n      <td>NaN</td>\n      <td>CA2</td>\n      <td>0.0</td>\n      <td>オールタイム</td>\n      <td>10500.0</td>\n      <td>入会費半額</td>\n      <td>6.000000</td>\n      <td>6.5</td>\n      <td>8.0</td>\n      <td>2.0</td>\n      <td>1.0</td>\n      <td>2019-04-30</td>\n      <td>21.0</td>\n    </tr>\n    <tr>\n      <th>4</th>\n      <td>201810</td>\n      <td>PL082485</td>\n      <td>6</td>\n      <td>7.0</td>\n      <td>XXXXX</td>\n      <td>C01</td>\n      <td>F</td>\n      <td>2017-12-01</td>\n      <td>NaN</td>\n      <td>CA3</td>\n      <td>0.0</td>\n      <td>オールタイム</td>\n      <td>10500.0</td>\n      <td>入会費無料</td>\n      <td>6.583333</td>\n      <td>6.5</td>\n      <td>9.0</td>\n      <td>5.0</td>\n      <td>1.0</td>\n      <td>2019-04-30</td>\n      <td>16.0</td>\n    </tr>\n  </tbody>\n</table>\n</div>"
     },
     "metadata": {},
     "execution_count": 118
    }
   ],
   "source": [
    "# 継続顧客の重複を省く処理をする\n",
    "# データをシャッフルし、顧客の重複を取り除く\n",
    "# sample()・・・ランダムに一件データ取得する\n",
    "# sample(frac=n) n*100%の割合でデータを取得する\n",
    "conti_uselog = conti_uselog.sample(frac=1).reset_index(drop=True)\n",
    "conti_uselog = conti_uselog.drop_duplicates(subset=\"customer_id\")\n",
    "conti_uselog.head()"
   ]
  },
  {
   "cell_type": "code",
   "execution_count": 119,
   "metadata": {},
   "outputs": [
    {
     "output_type": "execute_result",
     "data": {
      "text/plain": [
       "       年月 customer_id  count_0  count_1    name class gender  start_date  \\\n",
       "0  201805    IK391344        6      5.0      XX   C01      M  2016-09-01   \n",
       "1  201805    GD009242        5      7.0     XXX   C02      F  2015-07-01   \n",
       "2  201903    TS578667        6      4.0  XXXXXX   C02      F  2017-05-01   \n",
       "3  201901    PL758737        6      7.0      XX   C01      M  2017-07-01   \n",
       "4  201810    PL082485        6      7.0   XXXXX   C01      F  2017-12-01   \n",
       "\n",
       "  end_date campaign_id  is_deleted class_name    price campaign_name  \\\n",
       "0      NaN         CA1         0.0     オールタイム  10500.0            通常   \n",
       "1      NaN         CA1         0.0      デイタイム   7500.0            通常   \n",
       "2      NaN         CA1         0.0      デイタイム   7500.0            通常   \n",
       "3      NaN         CA2         0.0     オールタイム  10500.0         入会費半額   \n",
       "4      NaN         CA3         0.0     オールタイム  10500.0         入会費無料   \n",
       "\n",
       "       mean  median  max  min  routine_flg   calc_date  membership_period  \\\n",
       "0  4.750000     5.0  7.0  3.0          1.0  2019-04-30               31.0   \n",
       "1  4.750000     5.0  7.0  2.0          1.0  2019-04-30               45.0   \n",
       "2  4.916667     5.5  8.0  2.0          1.0  2019-04-30               23.0   \n",
       "3  6.000000     6.5  8.0  2.0          1.0  2019-04-30               21.0   \n",
       "4  6.583333     6.5  9.0  5.0          1.0  2019-04-30               16.0   \n",
       "\n",
       "   index exit_date  \n",
       "0    NaN       NaN  \n",
       "1    NaN       NaN  \n",
       "2    NaN       NaN  \n",
       "3    NaN       NaN  \n",
       "4    NaN       NaN  "
      ],
      "text/html": "<div>\n<style scoped>\n    .dataframe tbody tr th:only-of-type {\n        vertical-align: middle;\n    }\n\n    .dataframe tbody tr th {\n        vertical-align: top;\n    }\n\n    .dataframe thead th {\n        text-align: right;\n    }\n</style>\n<table border=\"1\" class=\"dataframe\">\n  <thead>\n    <tr style=\"text-align: right;\">\n      <th></th>\n      <th>年月</th>\n      <th>customer_id</th>\n      <th>count_0</th>\n      <th>count_1</th>\n      <th>name</th>\n      <th>class</th>\n      <th>gender</th>\n      <th>start_date</th>\n      <th>end_date</th>\n      <th>campaign_id</th>\n      <th>is_deleted</th>\n      <th>class_name</th>\n      <th>price</th>\n      <th>campaign_name</th>\n      <th>mean</th>\n      <th>median</th>\n      <th>max</th>\n      <th>min</th>\n      <th>routine_flg</th>\n      <th>calc_date</th>\n      <th>membership_period</th>\n      <th>index</th>\n      <th>exit_date</th>\n    </tr>\n  </thead>\n  <tbody>\n    <tr>\n      <th>0</th>\n      <td>201805</td>\n      <td>IK391344</td>\n      <td>6</td>\n      <td>5.0</td>\n      <td>XX</td>\n      <td>C01</td>\n      <td>M</td>\n      <td>2016-09-01</td>\n      <td>NaN</td>\n      <td>CA1</td>\n      <td>0.0</td>\n      <td>オールタイム</td>\n      <td>10500.0</td>\n      <td>通常</td>\n      <td>4.750000</td>\n      <td>5.0</td>\n      <td>7.0</td>\n      <td>3.0</td>\n      <td>1.0</td>\n      <td>2019-04-30</td>\n      <td>31.0</td>\n      <td>NaN</td>\n      <td>NaN</td>\n    </tr>\n    <tr>\n      <th>1</th>\n      <td>201805</td>\n      <td>GD009242</td>\n      <td>5</td>\n      <td>7.0</td>\n      <td>XXX</td>\n      <td>C02</td>\n      <td>F</td>\n      <td>2015-07-01</td>\n      <td>NaN</td>\n      <td>CA1</td>\n      <td>0.0</td>\n      <td>デイタイム</td>\n      <td>7500.0</td>\n      <td>通常</td>\n      <td>4.750000</td>\n      <td>5.0</td>\n      <td>7.0</td>\n      <td>2.0</td>\n      <td>1.0</td>\n      <td>2019-04-30</td>\n      <td>45.0</td>\n      <td>NaN</td>\n      <td>NaN</td>\n    </tr>\n    <tr>\n      <th>2</th>\n      <td>201903</td>\n      <td>TS578667</td>\n      <td>6</td>\n      <td>4.0</td>\n      <td>XXXXXX</td>\n      <td>C02</td>\n      <td>F</td>\n      <td>2017-05-01</td>\n      <td>NaN</td>\n      <td>CA1</td>\n      <td>0.0</td>\n      <td>デイタイム</td>\n      <td>7500.0</td>\n      <td>通常</td>\n      <td>4.916667</td>\n      <td>5.5</td>\n      <td>8.0</td>\n      <td>2.0</td>\n      <td>1.0</td>\n      <td>2019-04-30</td>\n      <td>23.0</td>\n      <td>NaN</td>\n      <td>NaN</td>\n    </tr>\n    <tr>\n      <th>3</th>\n      <td>201901</td>\n      <td>PL758737</td>\n      <td>6</td>\n      <td>7.0</td>\n      <td>XX</td>\n      <td>C01</td>\n      <td>M</td>\n      <td>2017-07-01</td>\n      <td>NaN</td>\n      <td>CA2</td>\n      <td>0.0</td>\n      <td>オールタイム</td>\n      <td>10500.0</td>\n      <td>入会費半額</td>\n      <td>6.000000</td>\n      <td>6.5</td>\n      <td>8.0</td>\n      <td>2.0</td>\n      <td>1.0</td>\n      <td>2019-04-30</td>\n      <td>21.0</td>\n      <td>NaN</td>\n      <td>NaN</td>\n    </tr>\n    <tr>\n      <th>4</th>\n      <td>201810</td>\n      <td>PL082485</td>\n      <td>6</td>\n      <td>7.0</td>\n      <td>XXXXX</td>\n      <td>C01</td>\n      <td>F</td>\n      <td>2017-12-01</td>\n      <td>NaN</td>\n      <td>CA3</td>\n      <td>0.0</td>\n      <td>オールタイム</td>\n      <td>10500.0</td>\n      <td>入会費無料</td>\n      <td>6.583333</td>\n      <td>6.5</td>\n      <td>9.0</td>\n      <td>5.0</td>\n      <td>1.0</td>\n      <td>2019-04-30</td>\n      <td>16.0</td>\n      <td>NaN</td>\n      <td>NaN</td>\n    </tr>\n  </tbody>\n</table>\n</div>"
     },
     "metadata": {},
     "execution_count": 119
    }
   ],
   "source": [
    "# 退会顧客と継続顧客のデータを縦に結合する\n",
    "predict_data = pd.concat([conti_uselog, exit_uselog], ignore_index=True)\n",
    "predict_data.head()\n",
    "\n",
    "# これで、退会顧客と継続顧客のデータを作成完了"
   ]
  },
  {
   "cell_type": "code",
   "execution_count": 120,
   "metadata": {
    "tags": []
   },
   "outputs": [
    {
     "output_type": "execute_result",
     "data": {
      "text/plain": [
       "       年月 customer_id  count_0  count_1    name class gender start_date  \\\n",
       "0  201805    IK391344        6      5.0      XX   C01      M 2016-09-01   \n",
       "1  201805    GD009242        5      7.0     XXX   C02      F 2015-07-01   \n",
       "2  201903    TS578667        6      4.0  XXXXXX   C02      F 2017-05-01   \n",
       "3  201901    PL758737        6      7.0      XX   C01      M 2017-07-01   \n",
       "4  201810    PL082485        6      7.0   XXXXX   C01      F 2017-12-01   \n",
       "\n",
       "  end_date campaign_id  is_deleted class_name    price campaign_name  \\\n",
       "0      NaN         CA1         0.0     オールタイム  10500.0            通常   \n",
       "1      NaN         CA1         0.0      デイタイム   7500.0            通常   \n",
       "2      NaN         CA1         0.0      デイタイム   7500.0            通常   \n",
       "3      NaN         CA2         0.0     オールタイム  10500.0         入会費半額   \n",
       "4      NaN         CA3         0.0     オールタイム  10500.0         入会費無料   \n",
       "\n",
       "       mean  median  max  min  routine_flg   calc_date  membership_period  \\\n",
       "0  4.750000     5.0  7.0  3.0          1.0  2019-04-30               31.0   \n",
       "1  4.750000     5.0  7.0  2.0          1.0  2019-04-30               45.0   \n",
       "2  4.916667     5.5  8.0  2.0          1.0  2019-04-30               23.0   \n",
       "3  6.000000     6.5  8.0  2.0          1.0  2019-04-30               21.0   \n",
       "4  6.583333     6.5  9.0  5.0          1.0  2019-04-30               16.0   \n",
       "\n",
       "   index exit_date  period   now_date  \n",
       "0    NaN       NaN      20 2018-05-01  \n",
       "1    NaN       NaN      34 2018-05-01  \n",
       "2    NaN       NaN      22 2019-03-01  \n",
       "3    NaN       NaN      18 2019-01-01  \n",
       "4    NaN       NaN      10 2018-10-01  "
      ],
      "text/html": "<div>\n<style scoped>\n    .dataframe tbody tr th:only-of-type {\n        vertical-align: middle;\n    }\n\n    .dataframe tbody tr th {\n        vertical-align: top;\n    }\n\n    .dataframe thead th {\n        text-align: right;\n    }\n</style>\n<table border=\"1\" class=\"dataframe\">\n  <thead>\n    <tr style=\"text-align: right;\">\n      <th></th>\n      <th>年月</th>\n      <th>customer_id</th>\n      <th>count_0</th>\n      <th>count_1</th>\n      <th>name</th>\n      <th>class</th>\n      <th>gender</th>\n      <th>start_date</th>\n      <th>end_date</th>\n      <th>campaign_id</th>\n      <th>is_deleted</th>\n      <th>class_name</th>\n      <th>price</th>\n      <th>campaign_name</th>\n      <th>mean</th>\n      <th>median</th>\n      <th>max</th>\n      <th>min</th>\n      <th>routine_flg</th>\n      <th>calc_date</th>\n      <th>membership_period</th>\n      <th>index</th>\n      <th>exit_date</th>\n      <th>period</th>\n      <th>now_date</th>\n    </tr>\n  </thead>\n  <tbody>\n    <tr>\n      <th>0</th>\n      <td>201805</td>\n      <td>IK391344</td>\n      <td>6</td>\n      <td>5.0</td>\n      <td>XX</td>\n      <td>C01</td>\n      <td>M</td>\n      <td>2016-09-01</td>\n      <td>NaN</td>\n      <td>CA1</td>\n      <td>0.0</td>\n      <td>オールタイム</td>\n      <td>10500.0</td>\n      <td>通常</td>\n      <td>4.750000</td>\n      <td>5.0</td>\n      <td>7.0</td>\n      <td>3.0</td>\n      <td>1.0</td>\n      <td>2019-04-30</td>\n      <td>31.0</td>\n      <td>NaN</td>\n      <td>NaN</td>\n      <td>20</td>\n      <td>2018-05-01</td>\n    </tr>\n    <tr>\n      <th>1</th>\n      <td>201805</td>\n      <td>GD009242</td>\n      <td>5</td>\n      <td>7.0</td>\n      <td>XXX</td>\n      <td>C02</td>\n      <td>F</td>\n      <td>2015-07-01</td>\n      <td>NaN</td>\n      <td>CA1</td>\n      <td>0.0</td>\n      <td>デイタイム</td>\n      <td>7500.0</td>\n      <td>通常</td>\n      <td>4.750000</td>\n      <td>5.0</td>\n      <td>7.0</td>\n      <td>2.0</td>\n      <td>1.0</td>\n      <td>2019-04-30</td>\n      <td>45.0</td>\n      <td>NaN</td>\n      <td>NaN</td>\n      <td>34</td>\n      <td>2018-05-01</td>\n    </tr>\n    <tr>\n      <th>2</th>\n      <td>201903</td>\n      <td>TS578667</td>\n      <td>6</td>\n      <td>4.0</td>\n      <td>XXXXXX</td>\n      <td>C02</td>\n      <td>F</td>\n      <td>2017-05-01</td>\n      <td>NaN</td>\n      <td>CA1</td>\n      <td>0.0</td>\n      <td>デイタイム</td>\n      <td>7500.0</td>\n      <td>通常</td>\n      <td>4.916667</td>\n      <td>5.5</td>\n      <td>8.0</td>\n      <td>2.0</td>\n      <td>1.0</td>\n      <td>2019-04-30</td>\n      <td>23.0</td>\n      <td>NaN</td>\n      <td>NaN</td>\n      <td>22</td>\n      <td>2019-03-01</td>\n    </tr>\n    <tr>\n      <th>3</th>\n      <td>201901</td>\n      <td>PL758737</td>\n      <td>6</td>\n      <td>7.0</td>\n      <td>XX</td>\n      <td>C01</td>\n      <td>M</td>\n      <td>2017-07-01</td>\n      <td>NaN</td>\n      <td>CA2</td>\n      <td>0.0</td>\n      <td>オールタイム</td>\n      <td>10500.0</td>\n      <td>入会費半額</td>\n      <td>6.000000</td>\n      <td>6.5</td>\n      <td>8.0</td>\n      <td>2.0</td>\n      <td>1.0</td>\n      <td>2019-04-30</td>\n      <td>21.0</td>\n      <td>NaN</td>\n      <td>NaN</td>\n      <td>18</td>\n      <td>2019-01-01</td>\n    </tr>\n    <tr>\n      <th>4</th>\n      <td>201810</td>\n      <td>PL082485</td>\n      <td>6</td>\n      <td>7.0</td>\n      <td>XXXXX</td>\n      <td>C01</td>\n      <td>F</td>\n      <td>2017-12-01</td>\n      <td>NaN</td>\n      <td>CA3</td>\n      <td>0.0</td>\n      <td>オールタイム</td>\n      <td>10500.0</td>\n      <td>入会費無料</td>\n      <td>6.583333</td>\n      <td>6.5</td>\n      <td>9.0</td>\n      <td>5.0</td>\n      <td>1.0</td>\n      <td>2019-04-30</td>\n      <td>16.0</td>\n      <td>NaN</td>\n      <td>NaN</td>\n      <td>10</td>\n      <td>2018-10-01</td>\n    </tr>\n  </tbody>\n</table>\n</div>"
     },
     "metadata": {},
     "execution_count": 120
    }
   ],
   "source": [
    "# 入会年月から対象の年月までの期間（月）を求める（periodカラムにデータ追加）\n",
    "predict_data[\"period\"] = 0\n",
    "predict_data[\"now_date\"] = pd.to_datetime(predict_data[\"年月\"], format=\"%Y%m\")\n",
    "predict_data[\"start_date\"] = pd.to_datetime(predict_data[\"start_date\"])\n",
    "for i in range(len(predict_data)):\n",
    "    delta = relativedelta(predict_data.iloc[i][\"now_date\"], predict_data.iloc[i][\"start_date\"])\n",
    "    predict_data[\"period\"][i] = delta.years*12 + delta.months\n",
    "predict_data.head()"
   ]
  },
  {
   "cell_type": "code",
   "execution_count": 122,
   "metadata": {},
   "outputs": [
    {
     "output_type": "execute_result",
     "data": {
      "text/plain": [
       "年月                      0\n",
       "customer_id             0\n",
       "count_0                 0\n",
       "count_1               246\n",
       "name                    0\n",
       "class                   0\n",
       "gender                  0\n",
       "start_date              0\n",
       "end_date             2842\n",
       "campaign_id             0\n",
       "is_deleted              0\n",
       "class_name              0\n",
       "price                   0\n",
       "campaign_name           0\n",
       "mean                    0\n",
       "median                  0\n",
       "max                     0\n",
       "min                     0\n",
       "routine_flg             0\n",
       "calc_date               0\n",
       "membership_period       0\n",
       "index                2842\n",
       "exit_date            2842\n",
       "period                  0\n",
       "now_date                0\n",
       "dtype: int64"
      ]
     },
     "metadata": {},
     "execution_count": 122
    }
   ],
   "source": [
    "# 欠損値を削除する\n",
    "predict_data.isna().sum()"
   ]
  },
  {
   "cell_type": "code",
   "execution_count": 123,
   "metadata": {},
   "outputs": [
    {
     "output_type": "execute_result",
     "data": {
      "text/plain": [
       "年月                      0\n",
       "customer_id             0\n",
       "count_0                 0\n",
       "count_1                 0\n",
       "name                    0\n",
       "class                   0\n",
       "gender                  0\n",
       "start_date              0\n",
       "end_date             2648\n",
       "campaign_id             0\n",
       "is_deleted              0\n",
       "class_name              0\n",
       "price                   0\n",
       "campaign_name           0\n",
       "mean                    0\n",
       "median                  0\n",
       "max                     0\n",
       "min                     0\n",
       "routine_flg             0\n",
       "calc_date               0\n",
       "membership_period       0\n",
       "index                2648\n",
       "exit_date            2648\n",
       "period                  0\n",
       "now_date                0\n",
       "dtype: int64"
      ]
     },
     "metadata": {},
     "execution_count": 123
    }
   ],
   "source": [
    "# end_dateとexit_dateの欠損は仕方ないので、count_1が欠損しているデータを削除する\n",
    "predict_data = predict_data.dropna(subset=[\"count_1\"])\n",
    "predict_data.isna().sum()"
   ]
  },
  {
   "cell_type": "code",
   "execution_count": 124,
   "metadata": {},
   "outputs": [
    {
     "output_type": "execute_result",
     "data": {
      "text/plain": [
       "  campaign_name class_name gender  count_1  routine_flg  period  is_deleted\n",
       "0            通常     オールタイム      M      5.0          1.0      20         0.0\n",
       "1            通常      デイタイム      F      7.0          1.0      34         0.0\n",
       "2            通常      デイタイム      F      4.0          1.0      22         0.0\n",
       "3         入会費半額     オールタイム      M      7.0          1.0      18         0.0\n",
       "4         入会費無料     オールタイム      F      7.0          1.0      10         0.0"
      ],
      "text/html": "<div>\n<style scoped>\n    .dataframe tbody tr th:only-of-type {\n        vertical-align: middle;\n    }\n\n    .dataframe tbody tr th {\n        vertical-align: top;\n    }\n\n    .dataframe thead th {\n        text-align: right;\n    }\n</style>\n<table border=\"1\" class=\"dataframe\">\n  <thead>\n    <tr style=\"text-align: right;\">\n      <th></th>\n      <th>campaign_name</th>\n      <th>class_name</th>\n      <th>gender</th>\n      <th>count_1</th>\n      <th>routine_flg</th>\n      <th>period</th>\n      <th>is_deleted</th>\n    </tr>\n  </thead>\n  <tbody>\n    <tr>\n      <th>0</th>\n      <td>通常</td>\n      <td>オールタイム</td>\n      <td>M</td>\n      <td>5.0</td>\n      <td>1.0</td>\n      <td>20</td>\n      <td>0.0</td>\n    </tr>\n    <tr>\n      <th>1</th>\n      <td>通常</td>\n      <td>デイタイム</td>\n      <td>F</td>\n      <td>7.0</td>\n      <td>1.0</td>\n      <td>34</td>\n      <td>0.0</td>\n    </tr>\n    <tr>\n      <th>2</th>\n      <td>通常</td>\n      <td>デイタイム</td>\n      <td>F</td>\n      <td>4.0</td>\n      <td>1.0</td>\n      <td>22</td>\n      <td>0.0</td>\n    </tr>\n    <tr>\n      <th>3</th>\n      <td>入会費半額</td>\n      <td>オールタイム</td>\n      <td>M</td>\n      <td>7.0</td>\n      <td>1.0</td>\n      <td>18</td>\n      <td>0.0</td>\n    </tr>\n    <tr>\n      <th>4</th>\n      <td>入会費無料</td>\n      <td>オールタイム</td>\n      <td>F</td>\n      <td>7.0</td>\n      <td>1.0</td>\n      <td>10</td>\n      <td>0.0</td>\n    </tr>\n  </tbody>\n</table>\n</div>"
     },
     "metadata": {},
     "execution_count": 124
    }
   ],
   "source": [
    "# 文字列型の変数を処理できるように整形する\n",
    "\n",
    "# 目的変数・説明変数に使うカラムだけを抽出する\n",
    "target_col = [\"campaign_name\", \"class_name\", \"gender\", \"count_1\", \"routine_flg\", \"period\", \"is_deleted\"]\n",
    "predict_data = predict_data[target_col]\n",
    "predict_data.head()"
   ]
  },
  {
   "cell_type": "code",
   "execution_count": 125,
   "metadata": {},
   "outputs": [
    {
     "output_type": "execute_result",
     "data": {
      "text/plain": [
       "   count_1  routine_flg  period  is_deleted  campaign_name_入会費半額  \\\n",
       "0      5.0          1.0      20         0.0                    0   \n",
       "1      7.0          1.0      34         0.0                    0   \n",
       "2      4.0          1.0      22         0.0                    0   \n",
       "3      7.0          1.0      18         0.0                    1   \n",
       "4      7.0          1.0      10         0.0                    0   \n",
       "\n",
       "   campaign_name_入会費無料  campaign_name_通常  class_name_オールタイム  class_name_デイタイム  \\\n",
       "0                    0                 1                  1                 0   \n",
       "1                    0                 1                  0                 1   \n",
       "2                    0                 1                  0                 1   \n",
       "3                    0                 0                  1                 0   \n",
       "4                    1                 0                  1                 0   \n",
       "\n",
       "   class_name_ナイト  gender_F  gender_M  \n",
       "0               0         0         1  \n",
       "1               0         1         0  \n",
       "2               0         1         0  \n",
       "3               0         0         1  \n",
       "4               0         1         0  "
      ],
      "text/html": "<div>\n<style scoped>\n    .dataframe tbody tr th:only-of-type {\n        vertical-align: middle;\n    }\n\n    .dataframe tbody tr th {\n        vertical-align: top;\n    }\n\n    .dataframe thead th {\n        text-align: right;\n    }\n</style>\n<table border=\"1\" class=\"dataframe\">\n  <thead>\n    <tr style=\"text-align: right;\">\n      <th></th>\n      <th>count_1</th>\n      <th>routine_flg</th>\n      <th>period</th>\n      <th>is_deleted</th>\n      <th>campaign_name_入会費半額</th>\n      <th>campaign_name_入会費無料</th>\n      <th>campaign_name_通常</th>\n      <th>class_name_オールタイム</th>\n      <th>class_name_デイタイム</th>\n      <th>class_name_ナイト</th>\n      <th>gender_F</th>\n      <th>gender_M</th>\n    </tr>\n  </thead>\n  <tbody>\n    <tr>\n      <th>0</th>\n      <td>5.0</td>\n      <td>1.0</td>\n      <td>20</td>\n      <td>0.0</td>\n      <td>0</td>\n      <td>0</td>\n      <td>1</td>\n      <td>1</td>\n      <td>0</td>\n      <td>0</td>\n      <td>0</td>\n      <td>1</td>\n    </tr>\n    <tr>\n      <th>1</th>\n      <td>7.0</td>\n      <td>1.0</td>\n      <td>34</td>\n      <td>0.0</td>\n      <td>0</td>\n      <td>0</td>\n      <td>1</td>\n      <td>0</td>\n      <td>1</td>\n      <td>0</td>\n      <td>1</td>\n      <td>0</td>\n    </tr>\n    <tr>\n      <th>2</th>\n      <td>4.0</td>\n      <td>1.0</td>\n      <td>22</td>\n      <td>0.0</td>\n      <td>0</td>\n      <td>0</td>\n      <td>1</td>\n      <td>0</td>\n      <td>1</td>\n      <td>0</td>\n      <td>1</td>\n      <td>0</td>\n    </tr>\n    <tr>\n      <th>3</th>\n      <td>7.0</td>\n      <td>1.0</td>\n      <td>18</td>\n      <td>0.0</td>\n      <td>1</td>\n      <td>0</td>\n      <td>0</td>\n      <td>1</td>\n      <td>0</td>\n      <td>0</td>\n      <td>0</td>\n      <td>1</td>\n    </tr>\n    <tr>\n      <th>4</th>\n      <td>7.0</td>\n      <td>1.0</td>\n      <td>10</td>\n      <td>0.0</td>\n      <td>0</td>\n      <td>1</td>\n      <td>0</td>\n      <td>1</td>\n      <td>0</td>\n      <td>0</td>\n      <td>1</td>\n      <td>0</td>\n    </tr>\n  </tbody>\n</table>\n</div>"
     },
     "metadata": {},
     "execution_count": 125
    }
   ],
   "source": [
    "# ダミー変数化する\n",
    "predict_data = pd.get_dummies(predict_data)\n",
    "predict_data.head()"
   ]
  },
  {
   "cell_type": "code",
   "execution_count": 126,
   "metadata": {},
   "outputs": [
    {
     "output_type": "execute_result",
     "data": {
      "text/plain": [
       "   count_1  routine_flg  period  is_deleted  campaign_name_入会費半額  \\\n",
       "0      5.0          1.0      20         0.0                    0   \n",
       "1      7.0          1.0      34         0.0                    0   \n",
       "2      4.0          1.0      22         0.0                    0   \n",
       "3      7.0          1.0      18         0.0                    1   \n",
       "4      7.0          1.0      10         0.0                    0   \n",
       "\n",
       "   campaign_name_入会費無料  class_name_オールタイム  class_name_デイタイム  gender_F  \n",
       "0                    0                  1                 0         0  \n",
       "1                    0                  0                 1         1  \n",
       "2                    0                  0                 1         1  \n",
       "3                    0                  1                 0         0  \n",
       "4                    1                  1                 0         1  "
      ],
      "text/html": "<div>\n<style scoped>\n    .dataframe tbody tr th:only-of-type {\n        vertical-align: middle;\n    }\n\n    .dataframe tbody tr th {\n        vertical-align: top;\n    }\n\n    .dataframe thead th {\n        text-align: right;\n    }\n</style>\n<table border=\"1\" class=\"dataframe\">\n  <thead>\n    <tr style=\"text-align: right;\">\n      <th></th>\n      <th>count_1</th>\n      <th>routine_flg</th>\n      <th>period</th>\n      <th>is_deleted</th>\n      <th>campaign_name_入会費半額</th>\n      <th>campaign_name_入会費無料</th>\n      <th>class_name_オールタイム</th>\n      <th>class_name_デイタイム</th>\n      <th>gender_F</th>\n    </tr>\n  </thead>\n  <tbody>\n    <tr>\n      <th>0</th>\n      <td>5.0</td>\n      <td>1.0</td>\n      <td>20</td>\n      <td>0.0</td>\n      <td>0</td>\n      <td>0</td>\n      <td>1</td>\n      <td>0</td>\n      <td>0</td>\n    </tr>\n    <tr>\n      <th>1</th>\n      <td>7.0</td>\n      <td>1.0</td>\n      <td>34</td>\n      <td>0.0</td>\n      <td>0</td>\n      <td>0</td>\n      <td>0</td>\n      <td>1</td>\n      <td>1</td>\n    </tr>\n    <tr>\n      <th>2</th>\n      <td>4.0</td>\n      <td>1.0</td>\n      <td>22</td>\n      <td>0.0</td>\n      <td>0</td>\n      <td>0</td>\n      <td>0</td>\n      <td>1</td>\n      <td>1</td>\n    </tr>\n    <tr>\n      <th>3</th>\n      <td>7.0</td>\n      <td>1.0</td>\n      <td>18</td>\n      <td>0.0</td>\n      <td>1</td>\n      <td>0</td>\n      <td>1</td>\n      <td>0</td>\n      <td>0</td>\n    </tr>\n    <tr>\n      <th>4</th>\n      <td>7.0</td>\n      <td>1.0</td>\n      <td>10</td>\n      <td>0.0</td>\n      <td>0</td>\n      <td>1</td>\n      <td>1</td>\n      <td>0</td>\n      <td>1</td>\n    </tr>\n  </tbody>\n</table>\n</div>"
     },
     "metadata": {},
     "execution_count": 126
    }
   ],
   "source": [
    "# gender_M, campaign_name_通常, class_name_ナイト, を削除する\n",
    "# これは、三つのうち二つが0ならば、必然的にもう一つのカラムが1だと判断できるから必要ない\n",
    "\n",
    "del predict_data[\"campaign_name_通常\"]\n",
    "del predict_data[\"class_name_ナイト\"]\n",
    "del predict_data[\"gender_M\"]\n",
    "predict_data.head()"
   ]
  },
  {
   "cell_type": "code",
   "execution_count": null,
   "metadata": {},
   "outputs": [],
   "source": [
    "# これで、機械学習前のデータ加工が終わった\n",
    "# TODO: ノック47"
   ]
  }
 ]
}