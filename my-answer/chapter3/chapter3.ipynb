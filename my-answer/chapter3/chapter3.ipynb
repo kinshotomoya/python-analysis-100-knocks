{
 "metadata": {
  "language_info": {
   "codemirror_mode": {
    "name": "ipython",
    "version": 3
   },
   "file_extension": ".py",
   "mimetype": "text/x-python",
   "name": "python",
   "nbconvert_exporter": "python",
   "pygments_lexer": "ipython3",
   "version": "3.8.5-final"
  },
  "orig_nbformat": 2,
  "kernelspec": {
   "name": "python3",
   "display_name": "Python 3",
   "language": "python"
  }
 },
 "nbformat": 4,
 "nbformat_minor": 2,
 "cells": [
  {
   "cell_type": "code",
   "execution_count": 235,
   "metadata": {},
   "outputs": [],
   "source": [
    "import pandas as pd\n",
    "pd.set_option('display.max_columns', 50)\n",
    "pd.set_option(\"display.max_rows\", 999)"
   ]
  },
  {
   "cell_type": "code",
   "execution_count": 236,
   "metadata": {},
   "outputs": [
    {
     "output_type": "execute_result",
     "data": {
      "text/plain": [
       "  customer_id   name class gender           start_date end_date campaign_id  \\\n",
       "0    OA832399   XXXX   C01      F  2015-05-01 00:00:00      NaN         CA1   \n",
       "1    PL270116  XXXXX   C01      M  2015-05-01 00:00:00      NaN         CA1   \n",
       "2    OA974876  XXXXX   C01      M  2015-05-01 00:00:00      NaN         CA1   \n",
       "3    HD024127  XXXXX   C01      F  2015-05-01 00:00:00      NaN         CA1   \n",
       "4    HD661448  XXXXX   C03      F  2015-05-01 00:00:00      NaN         CA1   \n",
       "\n",
       "   is_deleted  \n",
       "0           0  \n",
       "1           0  \n",
       "2           0  \n",
       "3           0  \n",
       "4           0  "
      ],
      "text/html": "<div>\n<style scoped>\n    .dataframe tbody tr th:only-of-type {\n        vertical-align: middle;\n    }\n\n    .dataframe tbody tr th {\n        vertical-align: top;\n    }\n\n    .dataframe thead th {\n        text-align: right;\n    }\n</style>\n<table border=\"1\" class=\"dataframe\">\n  <thead>\n    <tr style=\"text-align: right;\">\n      <th></th>\n      <th>customer_id</th>\n      <th>name</th>\n      <th>class</th>\n      <th>gender</th>\n      <th>start_date</th>\n      <th>end_date</th>\n      <th>campaign_id</th>\n      <th>is_deleted</th>\n    </tr>\n  </thead>\n  <tbody>\n    <tr>\n      <th>0</th>\n      <td>OA832399</td>\n      <td>XXXX</td>\n      <td>C01</td>\n      <td>F</td>\n      <td>2015-05-01 00:00:00</td>\n      <td>NaN</td>\n      <td>CA1</td>\n      <td>0</td>\n    </tr>\n    <tr>\n      <th>1</th>\n      <td>PL270116</td>\n      <td>XXXXX</td>\n      <td>C01</td>\n      <td>M</td>\n      <td>2015-05-01 00:00:00</td>\n      <td>NaN</td>\n      <td>CA1</td>\n      <td>0</td>\n    </tr>\n    <tr>\n      <th>2</th>\n      <td>OA974876</td>\n      <td>XXXXX</td>\n      <td>C01</td>\n      <td>M</td>\n      <td>2015-05-01 00:00:00</td>\n      <td>NaN</td>\n      <td>CA1</td>\n      <td>0</td>\n    </tr>\n    <tr>\n      <th>3</th>\n      <td>HD024127</td>\n      <td>XXXXX</td>\n      <td>C01</td>\n      <td>F</td>\n      <td>2015-05-01 00:00:00</td>\n      <td>NaN</td>\n      <td>CA1</td>\n      <td>0</td>\n    </tr>\n    <tr>\n      <th>4</th>\n      <td>HD661448</td>\n      <td>XXXXX</td>\n      <td>C03</td>\n      <td>F</td>\n      <td>2015-05-01 00:00:00</td>\n      <td>NaN</td>\n      <td>CA1</td>\n      <td>0</td>\n    </tr>\n  </tbody>\n</table>\n</div>"
     },
     "metadata": {},
     "execution_count": 236
    }
   ],
   "source": [
    "customer_data = pd.read_csv(\"customer_master.csv\")\n",
    "customer_data.head()"
   ]
  },
  {
   "cell_type": "code",
   "execution_count": 237,
   "metadata": {},
   "outputs": [
    {
     "output_type": "execute_result",
     "data": {
      "text/plain": [
       "            log_id customer_id     usedate\n",
       "0  L00000049012330    AS009373  2018-04-01\n",
       "1  L00000049012331    AS015315  2018-04-01\n",
       "2  L00000049012332    AS040841  2018-04-01\n",
       "3  L00000049012333    AS046594  2018-04-01\n",
       "4  L00000049012334    AS073285  2018-04-01"
      ],
      "text/html": "<div>\n<style scoped>\n    .dataframe tbody tr th:only-of-type {\n        vertical-align: middle;\n    }\n\n    .dataframe tbody tr th {\n        vertical-align: top;\n    }\n\n    .dataframe thead th {\n        text-align: right;\n    }\n</style>\n<table border=\"1\" class=\"dataframe\">\n  <thead>\n    <tr style=\"text-align: right;\">\n      <th></th>\n      <th>log_id</th>\n      <th>customer_id</th>\n      <th>usedate</th>\n    </tr>\n  </thead>\n  <tbody>\n    <tr>\n      <th>0</th>\n      <td>L00000049012330</td>\n      <td>AS009373</td>\n      <td>2018-04-01</td>\n    </tr>\n    <tr>\n      <th>1</th>\n      <td>L00000049012331</td>\n      <td>AS015315</td>\n      <td>2018-04-01</td>\n    </tr>\n    <tr>\n      <th>2</th>\n      <td>L00000049012332</td>\n      <td>AS040841</td>\n      <td>2018-04-01</td>\n    </tr>\n    <tr>\n      <th>3</th>\n      <td>L00000049012333</td>\n      <td>AS046594</td>\n      <td>2018-04-01</td>\n    </tr>\n    <tr>\n      <th>4</th>\n      <td>L00000049012334</td>\n      <td>AS073285</td>\n      <td>2018-04-01</td>\n    </tr>\n  </tbody>\n</table>\n</div>"
     },
     "metadata": {},
     "execution_count": 237
    }
   ],
   "source": [
    "use_log_data = pd.read_csv(\"use_log.csv\")\n",
    "use_log_data.head()"
   ]
  },
  {
   "cell_type": "code",
   "execution_count": 11,
   "metadata": {},
   "outputs": [
    {
     "output_type": "execute_result",
     "data": {
      "text/plain": [
       "  campaign_id campaign_name\n",
       "0         CA1            通常\n",
       "1         CA2         入会費半額\n",
       "2         CA3         入会費無料"
      ],
      "text/html": "<div>\n<style scoped>\n    .dataframe tbody tr th:only-of-type {\n        vertical-align: middle;\n    }\n\n    .dataframe tbody tr th {\n        vertical-align: top;\n    }\n\n    .dataframe thead th {\n        text-align: right;\n    }\n</style>\n<table border=\"1\" class=\"dataframe\">\n  <thead>\n    <tr style=\"text-align: right;\">\n      <th></th>\n      <th>campaign_id</th>\n      <th>campaign_name</th>\n    </tr>\n  </thead>\n  <tbody>\n    <tr>\n      <th>0</th>\n      <td>CA1</td>\n      <td>通常</td>\n    </tr>\n    <tr>\n      <th>1</th>\n      <td>CA2</td>\n      <td>入会費半額</td>\n    </tr>\n    <tr>\n      <th>2</th>\n      <td>CA3</td>\n      <td>入会費無料</td>\n    </tr>\n  </tbody>\n</table>\n</div>"
     },
     "metadata": {},
     "execution_count": 11
    }
   ],
   "source": [
    "campaign_data = pd.read_csv(\"campaign_master.csv\")\n",
    "campaign_data.head()"
   ]
  },
  {
   "cell_type": "code",
   "execution_count": 13,
   "metadata": {},
   "outputs": [
    {
     "output_type": "execute_result",
     "data": {
      "text/plain": [
       "  class class_name  price\n",
       "0   C01     オールタイム  10500\n",
       "1   C02      デイタイム   7500\n",
       "2   C03        ナイト   6000"
      ],
      "text/html": "<div>\n<style scoped>\n    .dataframe tbody tr th:only-of-type {\n        vertical-align: middle;\n    }\n\n    .dataframe tbody tr th {\n        vertical-align: top;\n    }\n\n    .dataframe thead th {\n        text-align: right;\n    }\n</style>\n<table border=\"1\" class=\"dataframe\">\n  <thead>\n    <tr style=\"text-align: right;\">\n      <th></th>\n      <th>class</th>\n      <th>class_name</th>\n      <th>price</th>\n    </tr>\n  </thead>\n  <tbody>\n    <tr>\n      <th>0</th>\n      <td>C01</td>\n      <td>オールタイム</td>\n      <td>10500</td>\n    </tr>\n    <tr>\n      <th>1</th>\n      <td>C02</td>\n      <td>デイタイム</td>\n      <td>7500</td>\n    </tr>\n    <tr>\n      <th>2</th>\n      <td>C03</td>\n      <td>ナイト</td>\n      <td>6000</td>\n    </tr>\n  </tbody>\n</table>\n</div>"
     },
     "metadata": {},
     "execution_count": 13
    }
   ],
   "source": [
    "class_data = pd.read_csv(\"class_master.csv\")\n",
    "class_data.head()"
   ]
  },
  {
   "cell_type": "code",
   "execution_count": 20,
   "metadata": {},
   "outputs": [
    {
     "output_type": "execute_result",
     "data": {
      "text/plain": [
       "  customer_id   name class gender           start_date end_date campaign_id  \\\n",
       "0    OA832399   XXXX   C01      F  2015-05-01 00:00:00      NaN         CA1   \n",
       "1    PL270116  XXXXX   C01      M  2015-05-01 00:00:00      NaN         CA1   \n",
       "2    OA974876  XXXXX   C01      M  2015-05-01 00:00:00      NaN         CA1   \n",
       "3    HD024127  XXXXX   C01      F  2015-05-01 00:00:00      NaN         CA1   \n",
       "4    HD661448  XXXXX   C03      F  2015-05-01 00:00:00      NaN         CA1   \n",
       "\n",
       "   is_deleted campaign_name class_name  price  \n",
       "0           0            通常     オールタイム  10500  \n",
       "1           0            通常     オールタイム  10500  \n",
       "2           0            通常     オールタイム  10500  \n",
       "3           0            通常     オールタイム  10500  \n",
       "4           0            通常        ナイト   6000  "
      ],
      "text/html": "<div>\n<style scoped>\n    .dataframe tbody tr th:only-of-type {\n        vertical-align: middle;\n    }\n\n    .dataframe tbody tr th {\n        vertical-align: top;\n    }\n\n    .dataframe thead th {\n        text-align: right;\n    }\n</style>\n<table border=\"1\" class=\"dataframe\">\n  <thead>\n    <tr style=\"text-align: right;\">\n      <th></th>\n      <th>customer_id</th>\n      <th>name</th>\n      <th>class</th>\n      <th>gender</th>\n      <th>start_date</th>\n      <th>end_date</th>\n      <th>campaign_id</th>\n      <th>is_deleted</th>\n      <th>campaign_name</th>\n      <th>class_name</th>\n      <th>price</th>\n    </tr>\n  </thead>\n  <tbody>\n    <tr>\n      <th>0</th>\n      <td>OA832399</td>\n      <td>XXXX</td>\n      <td>C01</td>\n      <td>F</td>\n      <td>2015-05-01 00:00:00</td>\n      <td>NaN</td>\n      <td>CA1</td>\n      <td>0</td>\n      <td>通常</td>\n      <td>オールタイム</td>\n      <td>10500</td>\n    </tr>\n    <tr>\n      <th>1</th>\n      <td>PL270116</td>\n      <td>XXXXX</td>\n      <td>C01</td>\n      <td>M</td>\n      <td>2015-05-01 00:00:00</td>\n      <td>NaN</td>\n      <td>CA1</td>\n      <td>0</td>\n      <td>通常</td>\n      <td>オールタイム</td>\n      <td>10500</td>\n    </tr>\n    <tr>\n      <th>2</th>\n      <td>OA974876</td>\n      <td>XXXXX</td>\n      <td>C01</td>\n      <td>M</td>\n      <td>2015-05-01 00:00:00</td>\n      <td>NaN</td>\n      <td>CA1</td>\n      <td>0</td>\n      <td>通常</td>\n      <td>オールタイム</td>\n      <td>10500</td>\n    </tr>\n    <tr>\n      <th>3</th>\n      <td>HD024127</td>\n      <td>XXXXX</td>\n      <td>C01</td>\n      <td>F</td>\n      <td>2015-05-01 00:00:00</td>\n      <td>NaN</td>\n      <td>CA1</td>\n      <td>0</td>\n      <td>通常</td>\n      <td>オールタイム</td>\n      <td>10500</td>\n    </tr>\n    <tr>\n      <th>4</th>\n      <td>HD661448</td>\n      <td>XXXXX</td>\n      <td>C03</td>\n      <td>F</td>\n      <td>2015-05-01 00:00:00</td>\n      <td>NaN</td>\n      <td>CA1</td>\n      <td>0</td>\n      <td>通常</td>\n      <td>ナイト</td>\n      <td>6000</td>\n    </tr>\n  </tbody>\n</table>\n</div>"
     },
     "metadata": {},
     "execution_count": 20
    }
   ],
   "source": [
    "customer_join_data = pd.merge(customer_data, campaign_data, left_on=\"campaign_id\", right_on=\"campaign_id\", how=\"left\")\n",
    "customer_join_data.head()\n",
    "customer_join_data = pd.merge(customer_join_data, class_data, left_on=\"class\", right_on=\"class\", how=\"left\")\n",
    "customer_join_data.head()"
   ]
  },
  {
   "cell_type": "code",
   "execution_count": 24,
   "metadata": {},
   "outputs": [
    {
     "output_type": "execute_result",
     "data": {
      "text/plain": [
       "customer_id         0\n",
       "name                0\n",
       "class               0\n",
       "gender              0\n",
       "start_date          0\n",
       "end_date         2842\n",
       "campaign_id         0\n",
       "is_deleted          0\n",
       "campaign_name       0\n",
       "class_name          0\n",
       "price               0\n",
       "dtype: int64"
      ]
     },
     "metadata": {},
     "execution_count": 24
    }
   ],
   "source": [
    "customer_join_data.isnull().sum()"
   ]
  },
  {
   "cell_type": "code",
   "execution_count": 30,
   "metadata": {},
   "outputs": [
    {
     "output_type": "execute_result",
     "data": {
      "text/plain": [
       "class_name\n",
       "オールタイム    2045\n",
       "デイタイム     1019\n",
       "ナイト       1128\n",
       "Name: customer_id, dtype: int64"
      ]
     },
     "metadata": {},
     "execution_count": 30
    }
   ],
   "source": [
    "customer_join_data.groupby(\"class_name\").count()[\"customer_id\"]"
   ]
  },
  {
   "cell_type": "code",
   "execution_count": 34,
   "metadata": {},
   "outputs": [
    {
     "output_type": "execute_result",
     "data": {
      "text/plain": [
       "campaign_name\n",
       "入会費半額     650\n",
       "入会費無料     492\n",
       "通常       3050\n",
       "Name: customer_id, dtype: int64"
      ]
     },
     "metadata": {},
     "execution_count": 34
    }
   ],
   "source": [
    "customer_join_data.groupby(\"campaign_name\").count()[\"customer_id\"]"
   ]
  },
  {
   "cell_type": "code",
   "execution_count": 38,
   "metadata": {},
   "outputs": [
    {
     "output_type": "execute_result",
     "data": {
      "text/plain": [
       "gender\n",
       "F    1983\n",
       "M    2209\n",
       "Name: customer_id, dtype: int64"
      ]
     },
     "metadata": {},
     "execution_count": 38
    }
   ],
   "source": [
    "customer_join_data.groupby(\"gender\").count()[\"customer_id\"]"
   ]
  },
  {
   "cell_type": "code",
   "execution_count": 42,
   "metadata": {},
   "outputs": [
    {
     "output_type": "execute_result",
     "data": {
      "text/plain": [
       "is_deleted\n",
       "0    2842\n",
       "1    1350\n",
       "Name: customer_id, dtype: int64"
      ]
     },
     "metadata": {},
     "execution_count": 42
    }
   ],
   "source": [
    "customer_join_data.groupby(\"is_deleted\").count()[\"customer_id\"]"
   ]
  },
  {
   "cell_type": "code",
   "execution_count": 44,
   "metadata": {},
   "outputs": [
    {
     "output_type": "execute_result",
     "data": {
      "text/plain": [
       "  customer_id   name class gender           start_date end_date campaign_id  \\\n",
       "0    OA832399   XXXX   C01      F  2015-05-01 00:00:00      NaN         CA1   \n",
       "1    PL270116  XXXXX   C01      M  2015-05-01 00:00:00      NaN         CA1   \n",
       "2    OA974876  XXXXX   C01      M  2015-05-01 00:00:00      NaN         CA1   \n",
       "3    HD024127  XXXXX   C01      F  2015-05-01 00:00:00      NaN         CA1   \n",
       "4    HD661448  XXXXX   C03      F  2015-05-01 00:00:00      NaN         CA1   \n",
       "\n",
       "   is_deleted campaign_name class_name  price  \n",
       "0           0            通常     オールタイム  10500  \n",
       "1           0            通常     オールタイム  10500  \n",
       "2           0            通常     オールタイム  10500  \n",
       "3           0            通常     オールタイム  10500  \n",
       "4           0            通常        ナイト   6000  "
      ],
      "text/html": "<div>\n<style scoped>\n    .dataframe tbody tr th:only-of-type {\n        vertical-align: middle;\n    }\n\n    .dataframe tbody tr th {\n        vertical-align: top;\n    }\n\n    .dataframe thead th {\n        text-align: right;\n    }\n</style>\n<table border=\"1\" class=\"dataframe\">\n  <thead>\n    <tr style=\"text-align: right;\">\n      <th></th>\n      <th>customer_id</th>\n      <th>name</th>\n      <th>class</th>\n      <th>gender</th>\n      <th>start_date</th>\n      <th>end_date</th>\n      <th>campaign_id</th>\n      <th>is_deleted</th>\n      <th>campaign_name</th>\n      <th>class_name</th>\n      <th>price</th>\n    </tr>\n  </thead>\n  <tbody>\n    <tr>\n      <th>0</th>\n      <td>OA832399</td>\n      <td>XXXX</td>\n      <td>C01</td>\n      <td>F</td>\n      <td>2015-05-01 00:00:00</td>\n      <td>NaN</td>\n      <td>CA1</td>\n      <td>0</td>\n      <td>通常</td>\n      <td>オールタイム</td>\n      <td>10500</td>\n    </tr>\n    <tr>\n      <th>1</th>\n      <td>PL270116</td>\n      <td>XXXXX</td>\n      <td>C01</td>\n      <td>M</td>\n      <td>2015-05-01 00:00:00</td>\n      <td>NaN</td>\n      <td>CA1</td>\n      <td>0</td>\n      <td>通常</td>\n      <td>オールタイム</td>\n      <td>10500</td>\n    </tr>\n    <tr>\n      <th>2</th>\n      <td>OA974876</td>\n      <td>XXXXX</td>\n      <td>C01</td>\n      <td>M</td>\n      <td>2015-05-01 00:00:00</td>\n      <td>NaN</td>\n      <td>CA1</td>\n      <td>0</td>\n      <td>通常</td>\n      <td>オールタイム</td>\n      <td>10500</td>\n    </tr>\n    <tr>\n      <th>3</th>\n      <td>HD024127</td>\n      <td>XXXXX</td>\n      <td>C01</td>\n      <td>F</td>\n      <td>2015-05-01 00:00:00</td>\n      <td>NaN</td>\n      <td>CA1</td>\n      <td>0</td>\n      <td>通常</td>\n      <td>オールタイム</td>\n      <td>10500</td>\n    </tr>\n    <tr>\n      <th>4</th>\n      <td>HD661448</td>\n      <td>XXXXX</td>\n      <td>C03</td>\n      <td>F</td>\n      <td>2015-05-01 00:00:00</td>\n      <td>NaN</td>\n      <td>CA1</td>\n      <td>0</td>\n      <td>通常</td>\n      <td>ナイト</td>\n      <td>6000</td>\n    </tr>\n  </tbody>\n</table>\n</div>"
     },
     "metadata": {},
     "execution_count": 44
    }
   ],
   "source": [
    "customer_join_data.head()"
   ]
  },
  {
   "cell_type": "code",
   "execution_count": 48,
   "metadata": {},
   "outputs": [
    {
     "output_type": "execute_result",
     "data": {
      "text/plain": [
       "  customer_id   name class gender           start_date end_date campaign_id  \\\n",
       "0    OA832399   XXXX   C01      F  2015-05-01 00:00:00      NaN         CA1   \n",
       "1    PL270116  XXXXX   C01      M  2015-05-01 00:00:00      NaN         CA1   \n",
       "2    OA974876  XXXXX   C01      M  2015-05-01 00:00:00      NaN         CA1   \n",
       "3    HD024127  XXXXX   C01      F  2015-05-01 00:00:00      NaN         CA1   \n",
       "4    HD661448  XXXXX   C03      F  2015-05-01 00:00:00      NaN         CA1   \n",
       "\n",
       "   is_deleted campaign_name class_name  price customer_start  \n",
       "0           0            通常     オールタイム  10500     2015-05-01  \n",
       "1           0            通常     オールタイム  10500     2015-05-01  \n",
       "2           0            通常     オールタイム  10500     2015-05-01  \n",
       "3           0            通常     オールタイム  10500     2015-05-01  \n",
       "4           0            通常        ナイト   6000     2015-05-01  "
      ],
      "text/html": "<div>\n<style scoped>\n    .dataframe tbody tr th:only-of-type {\n        vertical-align: middle;\n    }\n\n    .dataframe tbody tr th {\n        vertical-align: top;\n    }\n\n    .dataframe thead th {\n        text-align: right;\n    }\n</style>\n<table border=\"1\" class=\"dataframe\">\n  <thead>\n    <tr style=\"text-align: right;\">\n      <th></th>\n      <th>customer_id</th>\n      <th>name</th>\n      <th>class</th>\n      <th>gender</th>\n      <th>start_date</th>\n      <th>end_date</th>\n      <th>campaign_id</th>\n      <th>is_deleted</th>\n      <th>campaign_name</th>\n      <th>class_name</th>\n      <th>price</th>\n      <th>customer_start</th>\n    </tr>\n  </thead>\n  <tbody>\n    <tr>\n      <th>0</th>\n      <td>OA832399</td>\n      <td>XXXX</td>\n      <td>C01</td>\n      <td>F</td>\n      <td>2015-05-01 00:00:00</td>\n      <td>NaN</td>\n      <td>CA1</td>\n      <td>0</td>\n      <td>通常</td>\n      <td>オールタイム</td>\n      <td>10500</td>\n      <td>2015-05-01</td>\n    </tr>\n    <tr>\n      <th>1</th>\n      <td>PL270116</td>\n      <td>XXXXX</td>\n      <td>C01</td>\n      <td>M</td>\n      <td>2015-05-01 00:00:00</td>\n      <td>NaN</td>\n      <td>CA1</td>\n      <td>0</td>\n      <td>通常</td>\n      <td>オールタイム</td>\n      <td>10500</td>\n      <td>2015-05-01</td>\n    </tr>\n    <tr>\n      <th>2</th>\n      <td>OA974876</td>\n      <td>XXXXX</td>\n      <td>C01</td>\n      <td>M</td>\n      <td>2015-05-01 00:00:00</td>\n      <td>NaN</td>\n      <td>CA1</td>\n      <td>0</td>\n      <td>通常</td>\n      <td>オールタイム</td>\n      <td>10500</td>\n      <td>2015-05-01</td>\n    </tr>\n    <tr>\n      <th>3</th>\n      <td>HD024127</td>\n      <td>XXXXX</td>\n      <td>C01</td>\n      <td>F</td>\n      <td>2015-05-01 00:00:00</td>\n      <td>NaN</td>\n      <td>CA1</td>\n      <td>0</td>\n      <td>通常</td>\n      <td>オールタイム</td>\n      <td>10500</td>\n      <td>2015-05-01</td>\n    </tr>\n    <tr>\n      <th>4</th>\n      <td>HD661448</td>\n      <td>XXXXX</td>\n      <td>C03</td>\n      <td>F</td>\n      <td>2015-05-01 00:00:00</td>\n      <td>NaN</td>\n      <td>CA1</td>\n      <td>0</td>\n      <td>通常</td>\n      <td>ナイト</td>\n      <td>6000</td>\n      <td>2015-05-01</td>\n    </tr>\n  </tbody>\n</table>\n</div>"
     },
     "metadata": {},
     "execution_count": 48
    }
   ],
   "source": [
    "customer_join_data[\"customer_start\"] = pd.to_datetime(customer_join_data[\"start_date\"])\n",
    "customer_join_data.head()"
   ]
  },
  {
   "cell_type": "code",
   "execution_count": 59,
   "metadata": {},
   "outputs": [
    {
     "output_type": "execute_result",
     "data": {
      "text/plain": [
       "     customer_id   name class gender           start_date  \\\n",
       "2831    HI195873    XXX   C01      F  2018-04-02 00:00:00   \n",
       "2832    TS322485     XX   C03      F  2018-04-02 00:00:00   \n",
       "2833    IK552971  XXXXX   C02      F  2018-04-02 00:00:00   \n",
       "2834    PL000560    XXX   C01      M  2018-04-02 00:00:00   \n",
       "2835    HD218970  XXXXX   C01      F  2018-04-02 00:00:00   \n",
       "...          ...    ...   ...    ...                  ...   \n",
       "4187    HD676663   XXXX   C01      M  2019-03-14 00:00:00   \n",
       "4188    HD246549  XXXXX   C01      F  2019-03-14 00:00:00   \n",
       "4189    GD037007  XXXXX   C03      M  2019-03-14 00:00:00   \n",
       "4190    OA953150  XXXXX   C01      M  2019-03-14 00:00:00   \n",
       "4191    IK692635  XXXXX   C02      F  2019-03-15 00:00:00   \n",
       "\n",
       "                 end_date campaign_id  is_deleted campaign_name class_name  \\\n",
       "2831  2018-08-31 00:00:00         CA3           1         入会費無料     オールタイム   \n",
       "2832  2018-08-31 00:00:00         CA3           1         入会費無料        ナイト   \n",
       "2833  2018-08-31 00:00:00         CA3           1         入会費無料      デイタイム   \n",
       "2834  2018-07-31 00:00:00         CA3           1         入会費無料     オールタイム   \n",
       "2835  2018-11-30 00:00:00         CA3           1         入会費無料     オールタイム   \n",
       "...                   ...         ...         ...           ...        ...   \n",
       "4187                  NaN         CA1           0            通常     オールタイム   \n",
       "4188                  NaN         CA1           0            通常     オールタイム   \n",
       "4189                  NaN         CA1           0            通常        ナイト   \n",
       "4190                  NaN         CA1           0            通常     オールタイム   \n",
       "4191                  NaN         CA1           0            通常      デイタイム   \n",
       "\n",
       "      price customer_start  \n",
       "2831  10500     2018-04-02  \n",
       "2832   6000     2018-04-02  \n",
       "2833   7500     2018-04-02  \n",
       "2834  10500     2018-04-02  \n",
       "2835  10500     2018-04-02  \n",
       "...     ...            ...  \n",
       "4187  10500     2019-03-14  \n",
       "4188  10500     2019-03-14  \n",
       "4189   6000     2019-03-14  \n",
       "4190  10500     2019-03-14  \n",
       "4191   7500     2019-03-15  \n",
       "\n",
       "[1361 rows x 12 columns]"
      ],
      "text/html": "<div>\n<style scoped>\n    .dataframe tbody tr th:only-of-type {\n        vertical-align: middle;\n    }\n\n    .dataframe tbody tr th {\n        vertical-align: top;\n    }\n\n    .dataframe thead th {\n        text-align: right;\n    }\n</style>\n<table border=\"1\" class=\"dataframe\">\n  <thead>\n    <tr style=\"text-align: right;\">\n      <th></th>\n      <th>customer_id</th>\n      <th>name</th>\n      <th>class</th>\n      <th>gender</th>\n      <th>start_date</th>\n      <th>end_date</th>\n      <th>campaign_id</th>\n      <th>is_deleted</th>\n      <th>campaign_name</th>\n      <th>class_name</th>\n      <th>price</th>\n      <th>customer_start</th>\n    </tr>\n  </thead>\n  <tbody>\n    <tr>\n      <th>2831</th>\n      <td>HI195873</td>\n      <td>XXX</td>\n      <td>C01</td>\n      <td>F</td>\n      <td>2018-04-02 00:00:00</td>\n      <td>2018-08-31 00:00:00</td>\n      <td>CA3</td>\n      <td>1</td>\n      <td>入会費無料</td>\n      <td>オールタイム</td>\n      <td>10500</td>\n      <td>2018-04-02</td>\n    </tr>\n    <tr>\n      <th>2832</th>\n      <td>TS322485</td>\n      <td>XX</td>\n      <td>C03</td>\n      <td>F</td>\n      <td>2018-04-02 00:00:00</td>\n      <td>2018-08-31 00:00:00</td>\n      <td>CA3</td>\n      <td>1</td>\n      <td>入会費無料</td>\n      <td>ナイト</td>\n      <td>6000</td>\n      <td>2018-04-02</td>\n    </tr>\n    <tr>\n      <th>2833</th>\n      <td>IK552971</td>\n      <td>XXXXX</td>\n      <td>C02</td>\n      <td>F</td>\n      <td>2018-04-02 00:00:00</td>\n      <td>2018-08-31 00:00:00</td>\n      <td>CA3</td>\n      <td>1</td>\n      <td>入会費無料</td>\n      <td>デイタイム</td>\n      <td>7500</td>\n      <td>2018-04-02</td>\n    </tr>\n    <tr>\n      <th>2834</th>\n      <td>PL000560</td>\n      <td>XXX</td>\n      <td>C01</td>\n      <td>M</td>\n      <td>2018-04-02 00:00:00</td>\n      <td>2018-07-31 00:00:00</td>\n      <td>CA3</td>\n      <td>1</td>\n      <td>入会費無料</td>\n      <td>オールタイム</td>\n      <td>10500</td>\n      <td>2018-04-02</td>\n    </tr>\n    <tr>\n      <th>2835</th>\n      <td>HD218970</td>\n      <td>XXXXX</td>\n      <td>C01</td>\n      <td>F</td>\n      <td>2018-04-02 00:00:00</td>\n      <td>2018-11-30 00:00:00</td>\n      <td>CA3</td>\n      <td>1</td>\n      <td>入会費無料</td>\n      <td>オールタイム</td>\n      <td>10500</td>\n      <td>2018-04-02</td>\n    </tr>\n    <tr>\n      <th>...</th>\n      <td>...</td>\n      <td>...</td>\n      <td>...</td>\n      <td>...</td>\n      <td>...</td>\n      <td>...</td>\n      <td>...</td>\n      <td>...</td>\n      <td>...</td>\n      <td>...</td>\n      <td>...</td>\n      <td>...</td>\n    </tr>\n    <tr>\n      <th>4187</th>\n      <td>HD676663</td>\n      <td>XXXX</td>\n      <td>C01</td>\n      <td>M</td>\n      <td>2019-03-14 00:00:00</td>\n      <td>NaN</td>\n      <td>CA1</td>\n      <td>0</td>\n      <td>通常</td>\n      <td>オールタイム</td>\n      <td>10500</td>\n      <td>2019-03-14</td>\n    </tr>\n    <tr>\n      <th>4188</th>\n      <td>HD246549</td>\n      <td>XXXXX</td>\n      <td>C01</td>\n      <td>F</td>\n      <td>2019-03-14 00:00:00</td>\n      <td>NaN</td>\n      <td>CA1</td>\n      <td>0</td>\n      <td>通常</td>\n      <td>オールタイム</td>\n      <td>10500</td>\n      <td>2019-03-14</td>\n    </tr>\n    <tr>\n      <th>4189</th>\n      <td>GD037007</td>\n      <td>XXXXX</td>\n      <td>C03</td>\n      <td>M</td>\n      <td>2019-03-14 00:00:00</td>\n      <td>NaN</td>\n      <td>CA1</td>\n      <td>0</td>\n      <td>通常</td>\n      <td>ナイト</td>\n      <td>6000</td>\n      <td>2019-03-14</td>\n    </tr>\n    <tr>\n      <th>4190</th>\n      <td>OA953150</td>\n      <td>XXXXX</td>\n      <td>C01</td>\n      <td>M</td>\n      <td>2019-03-14 00:00:00</td>\n      <td>NaN</td>\n      <td>CA1</td>\n      <td>0</td>\n      <td>通常</td>\n      <td>オールタイム</td>\n      <td>10500</td>\n      <td>2019-03-14</td>\n    </tr>\n    <tr>\n      <th>4191</th>\n      <td>IK692635</td>\n      <td>XXXXX</td>\n      <td>C02</td>\n      <td>F</td>\n      <td>2019-03-15 00:00:00</td>\n      <td>NaN</td>\n      <td>CA1</td>\n      <td>0</td>\n      <td>通常</td>\n      <td>デイタイム</td>\n      <td>7500</td>\n      <td>2019-03-15</td>\n    </tr>\n  </tbody>\n</table>\n<p>1361 rows × 12 columns</p>\n</div>"
     },
     "metadata": {},
     "execution_count": 59
    }
   ],
   "source": [
    "# 2018/04~の顧客を絞り込む\n",
    "customer_join_data.sort_values(\"customer_start\", ascending=False)\n",
    "customer_join_data.loc[customer_join_data[\"customer_start\"] > \"2018-04-01\"]"
   ]
  },
  {
   "cell_type": "code",
   "execution_count": 77,
   "metadata": {},
   "outputs": [
    {
     "output_type": "execute_result",
     "data": {
      "text/plain": [
       "campaign_name\n",
       "入会費半額     98\n",
       "入会費無料    157\n",
       "通常       461\n",
       "Name: customer_id, dtype: int64"
      ]
     },
     "metadata": {},
     "execution_count": 77
    }
   ],
   "source": [
    "# 2018/04~まだ入会している顧客を絞り込む\n",
    "is_started_customer_from_20180401 = customer_join_data[\"customer_start\"] > \"2018-04-01\"\n",
    "is_started_customer_from_20180401\n",
    "is_still_exist_customer = customer_join_data[\"is_deleted\"] == 0\n",
    "is_still_exist_customer\n",
    "still_customer = customer_join_data.loc[is_started_customer_from_20180401 & is_still_exist_customer]\n",
    "still_customer.groupby(\"campaign_name\").count()[\"customer_id\"]"
   ]
  },
  {
   "cell_type": "code",
   "execution_count": 108,
   "metadata": {},
   "outputs": [
    {
     "output_type": "stream",
     "name": "stdout",
     "text": [
      "  customer_id   name class gender           start_date end_date campaign_id  \\\n0    OA832399   XXXX   C01      F  2015-05-01 00:00:00      NaN         CA1   \n1    PL270116  XXXXX   C01      M  2015-05-01 00:00:00      NaN         CA1   \n2    OA974876  XXXXX   C01      M  2015-05-01 00:00:00      NaN         CA1   \n3    HD024127  XXXXX   C01      F  2015-05-01 00:00:00      NaN         CA1   \n4    HD661448  XXXXX   C03      F  2015-05-01 00:00:00      NaN         CA1   \n\n   is_deleted campaign_name class_name  price customer_start customer_end  \n0           0            通常     オールタイム  10500     2015-05-01          NaT  \n1           0            通常     オールタイム  10500     2015-05-01          NaT  \n2           0            通常     オールタイム  10500     2015-05-01          NaT  \n3           0            通常     オールタイム  10500     2015-05-01          NaT  \n4           0            通常        ナイト   6000     2015-05-01          NaT  \n2953\n"
     ]
    }
   ],
   "source": [
    "# 最新月で在籍していたユーザーのみで絞る\n",
    "customer_join_data[\"customer_end\"] = pd.to_datetime(customer_join_data[\"end_date\"])\n",
    "customer_join_data.head()\n",
    "customer_newer = customer_join_data.loc[(customer_join_data[\"customer_end\"] >= \"2019-03-31\") | (customer_join_data[\"customer_end\"].isna())]\n",
    "print(customer_newer.head())\n",
    "print(len(customer_newer))"
   ]
  },
  {
   "cell_type": "code",
   "execution_count": 112,
   "metadata": {},
   "outputs": [
    {
     "output_type": "execute_result",
     "data": {
      "text/plain": [
       "campaign_name\n",
       "入会費半額     311\n",
       "入会費無料     242\n",
       "通常       2400\n",
       "Name: customer_id, dtype: int64"
      ]
     },
     "metadata": {},
     "execution_count": 112
    }
   ],
   "source": [
    "customer_newer.groupby(\"campaign_name\").count()[\"customer_id\"]"
   ]
  },
  {
   "cell_type": "code",
   "execution_count": 114,
   "metadata": {},
   "outputs": [
    {
     "output_type": "execute_result",
     "data": {
      "text/plain": [
       "gender\n",
       "F    1400\n",
       "M    1553\n",
       "Name: customer_id, dtype: int64"
      ]
     },
     "metadata": {},
     "execution_count": 114
    }
   ],
   "source": [
    "customer_newer.groupby(\"gender\").count()[\"customer_id\"]"
   ]
  },
  {
   "cell_type": "code",
   "execution_count": 116,
   "metadata": {},
   "outputs": [
    {
     "output_type": "execute_result",
     "data": {
      "text/plain": [
       "class_name\n",
       "オールタイム    1444\n",
       "デイタイム      696\n",
       "ナイト        813\n",
       "Name: customer_id, dtype: int64"
      ]
     },
     "metadata": {},
     "execution_count": 116
    }
   ],
   "source": [
    "customer_newer.groupby(\"class_name\").count()[\"customer_id\"]"
   ]
  },
  {
   "cell_type": "code",
   "execution_count": 119,
   "metadata": {},
   "outputs": [
    {
     "output_type": "execute_result",
     "data": {
      "text/plain": [
       "array([                          'NaT', '2019-03-31T00:00:00.000000000'],\n",
       "      dtype='datetime64[ns]')"
      ]
     },
     "metadata": {},
     "execution_count": 119
    }
   ],
   "source": [
    "customer_newer[\"customer_end\"].unique()"
   ]
  },
  {
   "cell_type": "code",
   "execution_count": 121,
   "metadata": {},
   "outputs": [
    {
     "output_type": "execute_result",
     "data": {
      "text/plain": [
       "            log_id customer_id     usedate\n",
       "0  L00000049012330    AS009373  2018-04-01\n",
       "1  L00000049012331    AS015315  2018-04-01\n",
       "2  L00000049012332    AS040841  2018-04-01\n",
       "3  L00000049012333    AS046594  2018-04-01\n",
       "4  L00000049012334    AS073285  2018-04-01"
      ],
      "text/html": "<div>\n<style scoped>\n    .dataframe tbody tr th:only-of-type {\n        vertical-align: middle;\n    }\n\n    .dataframe tbody tr th {\n        vertical-align: top;\n    }\n\n    .dataframe thead th {\n        text-align: right;\n    }\n</style>\n<table border=\"1\" class=\"dataframe\">\n  <thead>\n    <tr style=\"text-align: right;\">\n      <th></th>\n      <th>log_id</th>\n      <th>customer_id</th>\n      <th>usedate</th>\n    </tr>\n  </thead>\n  <tbody>\n    <tr>\n      <th>0</th>\n      <td>L00000049012330</td>\n      <td>AS009373</td>\n      <td>2018-04-01</td>\n    </tr>\n    <tr>\n      <th>1</th>\n      <td>L00000049012331</td>\n      <td>AS015315</td>\n      <td>2018-04-01</td>\n    </tr>\n    <tr>\n      <th>2</th>\n      <td>L00000049012332</td>\n      <td>AS040841</td>\n      <td>2018-04-01</td>\n    </tr>\n    <tr>\n      <th>3</th>\n      <td>L00000049012333</td>\n      <td>AS046594</td>\n      <td>2018-04-01</td>\n    </tr>\n    <tr>\n      <th>4</th>\n      <td>L00000049012334</td>\n      <td>AS073285</td>\n      <td>2018-04-01</td>\n    </tr>\n  </tbody>\n</table>\n</div>"
     },
     "metadata": {},
     "execution_count": 121
    }
   ],
   "source": [
    "# 利用履歴データから分析してみる\n",
    "use_log_data.head()"
   ]
  },
  {
   "cell_type": "code",
   "execution_count": 128,
   "metadata": {},
   "outputs": [
    {
     "output_type": "execute_result",
     "data": {
      "text/plain": [
       "            log_id customer_id     usedate   name class gender  \\\n",
       "0  L00000049012330    AS009373  2018-04-01     XX   C01      F   \n",
       "1  L00000049012331    AS015315  2018-04-01  XXXXX   C01      M   \n",
       "2  L00000049012332    AS040841  2018-04-01  XXXXX   C01      F   \n",
       "3  L00000049012333    AS046594  2018-04-01    XXX   C01      M   \n",
       "4  L00000049012334    AS073285  2018-04-01   XXXX   C01      M   \n",
       "\n",
       "            start_date end_date campaign_id  is_deleted campaign_name  \\\n",
       "0  2015-11-01 00:00:00      NaN         CA1           0            通常   \n",
       "1  2015-07-01 00:00:00      NaN         CA1           0            通常   \n",
       "2  2017-05-01 00:00:00      NaN         CA1           0            通常   \n",
       "3  2018-03-01 00:00:00      NaN         CA1           0            通常   \n",
       "4  2016-09-01 00:00:00      NaN         CA1           0            通常   \n",
       "\n",
       "  class_name  price customer_start customer_end  \n",
       "0     オールタイム  10500     2015-11-01          NaT  \n",
       "1     オールタイム  10500     2015-07-01          NaT  \n",
       "2     オールタイム  10500     2017-05-01          NaT  \n",
       "3     オールタイム  10500     2018-03-01          NaT  \n",
       "4     オールタイム  10500     2016-09-01          NaT  "
      ],
      "text/html": "<div>\n<style scoped>\n    .dataframe tbody tr th:only-of-type {\n        vertical-align: middle;\n    }\n\n    .dataframe tbody tr th {\n        vertical-align: top;\n    }\n\n    .dataframe thead th {\n        text-align: right;\n    }\n</style>\n<table border=\"1\" class=\"dataframe\">\n  <thead>\n    <tr style=\"text-align: right;\">\n      <th></th>\n      <th>log_id</th>\n      <th>customer_id</th>\n      <th>usedate</th>\n      <th>name</th>\n      <th>class</th>\n      <th>gender</th>\n      <th>start_date</th>\n      <th>end_date</th>\n      <th>campaign_id</th>\n      <th>is_deleted</th>\n      <th>campaign_name</th>\n      <th>class_name</th>\n      <th>price</th>\n      <th>customer_start</th>\n      <th>customer_end</th>\n    </tr>\n  </thead>\n  <tbody>\n    <tr>\n      <th>0</th>\n      <td>L00000049012330</td>\n      <td>AS009373</td>\n      <td>2018-04-01</td>\n      <td>XX</td>\n      <td>C01</td>\n      <td>F</td>\n      <td>2015-11-01 00:00:00</td>\n      <td>NaN</td>\n      <td>CA1</td>\n      <td>0</td>\n      <td>通常</td>\n      <td>オールタイム</td>\n      <td>10500</td>\n      <td>2015-11-01</td>\n      <td>NaT</td>\n    </tr>\n    <tr>\n      <th>1</th>\n      <td>L00000049012331</td>\n      <td>AS015315</td>\n      <td>2018-04-01</td>\n      <td>XXXXX</td>\n      <td>C01</td>\n      <td>M</td>\n      <td>2015-07-01 00:00:00</td>\n      <td>NaN</td>\n      <td>CA1</td>\n      <td>0</td>\n      <td>通常</td>\n      <td>オールタイム</td>\n      <td>10500</td>\n      <td>2015-07-01</td>\n      <td>NaT</td>\n    </tr>\n    <tr>\n      <th>2</th>\n      <td>L00000049012332</td>\n      <td>AS040841</td>\n      <td>2018-04-01</td>\n      <td>XXXXX</td>\n      <td>C01</td>\n      <td>F</td>\n      <td>2017-05-01 00:00:00</td>\n      <td>NaN</td>\n      <td>CA1</td>\n      <td>0</td>\n      <td>通常</td>\n      <td>オールタイム</td>\n      <td>10500</td>\n      <td>2017-05-01</td>\n      <td>NaT</td>\n    </tr>\n    <tr>\n      <th>3</th>\n      <td>L00000049012333</td>\n      <td>AS046594</td>\n      <td>2018-04-01</td>\n      <td>XXX</td>\n      <td>C01</td>\n      <td>M</td>\n      <td>2018-03-01 00:00:00</td>\n      <td>NaN</td>\n      <td>CA1</td>\n      <td>0</td>\n      <td>通常</td>\n      <td>オールタイム</td>\n      <td>10500</td>\n      <td>2018-03-01</td>\n      <td>NaT</td>\n    </tr>\n    <tr>\n      <th>4</th>\n      <td>L00000049012334</td>\n      <td>AS073285</td>\n      <td>2018-04-01</td>\n      <td>XXXX</td>\n      <td>C01</td>\n      <td>M</td>\n      <td>2016-09-01 00:00:00</td>\n      <td>NaN</td>\n      <td>CA1</td>\n      <td>0</td>\n      <td>通常</td>\n      <td>オールタイム</td>\n      <td>10500</td>\n      <td>2016-09-01</td>\n      <td>NaT</td>\n    </tr>\n  </tbody>\n</table>\n</div>"
     },
     "metadata": {},
     "execution_count": 128
    }
   ],
   "source": [
    "join_use_data = pd.merge(use_log_data, customer_join_data, left_on=\"customer_id\", right_on=\"customer_id\", how=\"left\")\n",
    "join_use_data.head()"
   ]
  },
  {
   "cell_type": "code",
   "execution_count": 238,
   "metadata": {},
   "outputs": [
    {
     "output_type": "execute_result",
     "data": {
      "text/plain": [
       "customer_id    AS002855  AS008805  AS009013  AS009373  AS015233  AS015315  \\\n",
       "usedate_month                                                               \n",
       "201804                4         0         2         3         0         6   \n",
       "201805                5         0         0         4         7         3   \n",
       "201806                5         8         0         4         7         3   \n",
       "201807                5         7         0         7         5         6   \n",
       "201808                3         5         0         6        11         3   \n",
       "201809                7         2         0         6         9         7   \n",
       "201810                3         2         0         5         7         4   \n",
       "201811                5         3         0         4         7         7   \n",
       "201812                2         5         0         4         9         5   \n",
       "201901                6         1         0         7         9         5   \n",
       "201902                5         6         0         6         4         5   \n",
       "201903                4         1         0         5         8         4   \n",
       "\n",
       "customer_id    AS015739  AS015746  AS019120  AS019860  AS024181  AS025956  \\\n",
       "usedate_month                                                               \n",
       "201804                7         4         0         6         4         0   \n",
       "201805                5         1         0         8         6         6   \n",
       "201806                6         2         0         6         4         6   \n",
       "201807                8         3         0         4         3         7   \n",
       "201808                5         3         8         7         8         7   \n",
       "201809                6         0         5         5         6         5   \n",
       "201810                5         0         3         7         5         4   \n",
       "201811                4         0         0         7         5         4   \n",
       "201812                4         0         0         5         6         1   \n",
       "201901                5         0         0         9         3         1   \n",
       "201902                6         0         0         5         6         3   \n",
       "201903                6         0         0         4         5         0   \n",
       "\n",
       "customer_id    AS029624  AS030404  AS030590  AS031206  AS036678  AS038564  \\\n",
       "usedate_month                                                               \n",
       "201804                0         1         0         4         7         6   \n",
       "201805                8         1         0         6         6         5   \n",
       "201806                5         0         0         5         8         4   \n",
       "201807                7         0         0         7         5         2   \n",
       "201808                5         0         0         6         6         2   \n",
       "201809                1         0         0         6         4         5   \n",
       "201810                4         0         0         5         6         5   \n",
       "201811                6         0         0         5         7         3   \n",
       "201812                5         0         0         5         5         3   \n",
       "201901                2         0         0         5         3         3   \n",
       "201902                0         0         0         4         2         6   \n",
       "201903                0         0        12         5         2         6   \n",
       "\n",
       "customer_id    AS040841  AS040860  AS046594  AS047907  AS055659  AS055680  \\\n",
       "usedate_month                                                               \n",
       "201804                8         6         9         3         7         3   \n",
       "201805                6         6         8         4        10         3   \n",
       "201806                4         8         8         5        10         3   \n",
       "201807                5         6        10         4         8         0   \n",
       "201808                5         5         6         4         9         0   \n",
       "201809                6         6         7         0         7         0   \n",
       "201810                4         7         7         0         5         0   \n",
       "201811                6         4         5         0        10         0   \n",
       "201812               10         5         7         0         5         0   \n",
       "201901                4         2         7         0         8         0   \n",
       "201902                6         6         7         0         6         0   \n",
       "201903                8         5         5         0         6         0   \n",
       "\n",
       "customer_id    AS057808  ...  TS963437  TS964483  TS966353  TS969622  \\\n",
       "usedate_month            ...                                           \n",
       "201804                8  ...         8         0        10         8   \n",
       "201805                6  ...         5         0         7         7   \n",
       "201806                2  ...         4         9         2         6   \n",
       "201807                5  ...         3        11         7         8   \n",
       "201808                5  ...         7         8         7         6   \n",
       "201809                5  ...         4         8         8         8   \n",
       "201810                5  ...         5         8         3         7   \n",
       "201811                5  ...         5         9         6         6   \n",
       "201812                5  ...         4         6         3         6   \n",
       "201901                3  ...         4         5         6         5   \n",
       "201902                5  ...         6         8         8         8   \n",
       "201903                3  ...         2         7         5         6   \n",
       "\n",
       "customer_id    TS971314  TS972175  TS973306  TS974079  TS975153  TS977703  \\\n",
       "usedate_month                                                               \n",
       "201804                0         6         4         9         7         8   \n",
       "201805                0         8         4         6         5         4   \n",
       "201806                0         8         2         7         3         7   \n",
       "201807                0         6         1         7         7         8   \n",
       "201808                0         3         0         5         7         8   \n",
       "201809                0         7         0         5         5         8   \n",
       "201810                0         5         0         5         8         8   \n",
       "201811                0         4         0         5         7         5   \n",
       "201812                7         6         0         5         5         7   \n",
       "201901                4         6         0         4         6         6   \n",
       "201902                0         9         0         8         3         8   \n",
       "201903                0         6         0         7         4         7   \n",
       "\n",
       "customer_id    TS978415  TS979550  TS982240  TS982817  TS985617  TS989364  \\\n",
       "usedate_month                                                               \n",
       "201804                0         0         3         7         0         3   \n",
       "201805                0         0         0         7         0         8   \n",
       "201806                0         0         0         6         0         8   \n",
       "201807               14         0         0         8         0         7   \n",
       "201808               10         0         0         5         0         7   \n",
       "201809                6         0         0         5         9         9   \n",
       "201810                8         7         0         8         8         9   \n",
       "201811               10         7         0         6         8        10   \n",
       "201812                6        10         0         6         9         6   \n",
       "201901                7         8         0         7        10         7   \n",
       "201902               10         7         0         2        10         6   \n",
       "201903                7         9         0         4        10         4   \n",
       "\n",
       "customer_id    TS989482  TS993439  TS995238  TS995299  TS995853  TS998593  \\\n",
       "usedate_month                                                               \n",
       "201804                6         0         0         4         0         0   \n",
       "201805                7        10         0         7         0         0   \n",
       "201806                4         3         0         2         0         0   \n",
       "201807                8         0         0         5         0         0   \n",
       "201808                6         0         0         7         0         0   \n",
       "201809                7         0         0         5         0         9   \n",
       "201810                2         0         0         4         0         9   \n",
       "201811                4         0         0         5         0         9   \n",
       "201812                3         0         8         4         0         7   \n",
       "201901                1         0         7         5         0         8   \n",
       "201902                6         0        10         3        11         7   \n",
       "201903                0         0         7         3         8         8   \n",
       "\n",
       "customer_id    TS999079  TS999231  TS999855  \n",
       "usedate_month                                \n",
       "201804                7         6         6  \n",
       "201805                5         4         3  \n",
       "201806                6         1         6  \n",
       "201807                2         5         4  \n",
       "201808                3         3         3  \n",
       "201809                4         4         5  \n",
       "201810                6         5         4  \n",
       "201811                6         5         4  \n",
       "201812                9         8         5  \n",
       "201901                6         3         7  \n",
       "201902                2         6         4  \n",
       "201903                3         6         4  \n",
       "\n",
       "[12 rows x 4192 columns]"
      ],
      "text/html": "<div>\n<style scoped>\n    .dataframe tbody tr th:only-of-type {\n        vertical-align: middle;\n    }\n\n    .dataframe tbody tr th {\n        vertical-align: top;\n    }\n\n    .dataframe thead th {\n        text-align: right;\n    }\n</style>\n<table border=\"1\" class=\"dataframe\">\n  <thead>\n    <tr style=\"text-align: right;\">\n      <th>customer_id</th>\n      <th>AS002855</th>\n      <th>AS008805</th>\n      <th>AS009013</th>\n      <th>AS009373</th>\n      <th>AS015233</th>\n      <th>AS015315</th>\n      <th>AS015739</th>\n      <th>AS015746</th>\n      <th>AS019120</th>\n      <th>AS019860</th>\n      <th>AS024181</th>\n      <th>AS025956</th>\n      <th>AS029624</th>\n      <th>AS030404</th>\n      <th>AS030590</th>\n      <th>AS031206</th>\n      <th>AS036678</th>\n      <th>AS038564</th>\n      <th>AS040841</th>\n      <th>AS040860</th>\n      <th>AS046594</th>\n      <th>AS047907</th>\n      <th>AS055659</th>\n      <th>AS055680</th>\n      <th>AS057808</th>\n      <th>...</th>\n      <th>TS963437</th>\n      <th>TS964483</th>\n      <th>TS966353</th>\n      <th>TS969622</th>\n      <th>TS971314</th>\n      <th>TS972175</th>\n      <th>TS973306</th>\n      <th>TS974079</th>\n      <th>TS975153</th>\n      <th>TS977703</th>\n      <th>TS978415</th>\n      <th>TS979550</th>\n      <th>TS982240</th>\n      <th>TS982817</th>\n      <th>TS985617</th>\n      <th>TS989364</th>\n      <th>TS989482</th>\n      <th>TS993439</th>\n      <th>TS995238</th>\n      <th>TS995299</th>\n      <th>TS995853</th>\n      <th>TS998593</th>\n      <th>TS999079</th>\n      <th>TS999231</th>\n      <th>TS999855</th>\n    </tr>\n    <tr>\n      <th>usedate_month</th>\n      <th></th>\n      <th></th>\n      <th></th>\n      <th></th>\n      <th></th>\n      <th></th>\n      <th></th>\n      <th></th>\n      <th></th>\n      <th></th>\n      <th></th>\n      <th></th>\n      <th></th>\n      <th></th>\n      <th></th>\n      <th></th>\n      <th></th>\n      <th></th>\n      <th></th>\n      <th></th>\n      <th></th>\n      <th></th>\n      <th></th>\n      <th></th>\n      <th></th>\n      <th></th>\n      <th></th>\n      <th></th>\n      <th></th>\n      <th></th>\n      <th></th>\n      <th></th>\n      <th></th>\n      <th></th>\n      <th></th>\n      <th></th>\n      <th></th>\n      <th></th>\n      <th></th>\n      <th></th>\n      <th></th>\n      <th></th>\n      <th></th>\n      <th></th>\n      <th></th>\n      <th></th>\n      <th></th>\n      <th></th>\n      <th></th>\n      <th></th>\n      <th></th>\n    </tr>\n  </thead>\n  <tbody>\n    <tr>\n      <th>201804</th>\n      <td>4</td>\n      <td>0</td>\n      <td>2</td>\n      <td>3</td>\n      <td>0</td>\n      <td>6</td>\n      <td>7</td>\n      <td>4</td>\n      <td>0</td>\n      <td>6</td>\n      <td>4</td>\n      <td>0</td>\n      <td>0</td>\n      <td>1</td>\n      <td>0</td>\n      <td>4</td>\n      <td>7</td>\n      <td>6</td>\n      <td>8</td>\n      <td>6</td>\n      <td>9</td>\n      <td>3</td>\n      <td>7</td>\n      <td>3</td>\n      <td>8</td>\n      <td>...</td>\n      <td>8</td>\n      <td>0</td>\n      <td>10</td>\n      <td>8</td>\n      <td>0</td>\n      <td>6</td>\n      <td>4</td>\n      <td>9</td>\n      <td>7</td>\n      <td>8</td>\n      <td>0</td>\n      <td>0</td>\n      <td>3</td>\n      <td>7</td>\n      <td>0</td>\n      <td>3</td>\n      <td>6</td>\n      <td>0</td>\n      <td>0</td>\n      <td>4</td>\n      <td>0</td>\n      <td>0</td>\n      <td>7</td>\n      <td>6</td>\n      <td>6</td>\n    </tr>\n    <tr>\n      <th>201805</th>\n      <td>5</td>\n      <td>0</td>\n      <td>0</td>\n      <td>4</td>\n      <td>7</td>\n      <td>3</td>\n      <td>5</td>\n      <td>1</td>\n      <td>0</td>\n      <td>8</td>\n      <td>6</td>\n      <td>6</td>\n      <td>8</td>\n      <td>1</td>\n      <td>0</td>\n      <td>6</td>\n      <td>6</td>\n      <td>5</td>\n      <td>6</td>\n      <td>6</td>\n      <td>8</td>\n      <td>4</td>\n      <td>10</td>\n      <td>3</td>\n      <td>6</td>\n      <td>...</td>\n      <td>5</td>\n      <td>0</td>\n      <td>7</td>\n      <td>7</td>\n      <td>0</td>\n      <td>8</td>\n      <td>4</td>\n      <td>6</td>\n      <td>5</td>\n      <td>4</td>\n      <td>0</td>\n      <td>0</td>\n      <td>0</td>\n      <td>7</td>\n      <td>0</td>\n      <td>8</td>\n      <td>7</td>\n      <td>10</td>\n      <td>0</td>\n      <td>7</td>\n      <td>0</td>\n      <td>0</td>\n      <td>5</td>\n      <td>4</td>\n      <td>3</td>\n    </tr>\n    <tr>\n      <th>201806</th>\n      <td>5</td>\n      <td>8</td>\n      <td>0</td>\n      <td>4</td>\n      <td>7</td>\n      <td>3</td>\n      <td>6</td>\n      <td>2</td>\n      <td>0</td>\n      <td>6</td>\n      <td>4</td>\n      <td>6</td>\n      <td>5</td>\n      <td>0</td>\n      <td>0</td>\n      <td>5</td>\n      <td>8</td>\n      <td>4</td>\n      <td>4</td>\n      <td>8</td>\n      <td>8</td>\n      <td>5</td>\n      <td>10</td>\n      <td>3</td>\n      <td>2</td>\n      <td>...</td>\n      <td>4</td>\n      <td>9</td>\n      <td>2</td>\n      <td>6</td>\n      <td>0</td>\n      <td>8</td>\n      <td>2</td>\n      <td>7</td>\n      <td>3</td>\n      <td>7</td>\n      <td>0</td>\n      <td>0</td>\n      <td>0</td>\n      <td>6</td>\n      <td>0</td>\n      <td>8</td>\n      <td>4</td>\n      <td>3</td>\n      <td>0</td>\n      <td>2</td>\n      <td>0</td>\n      <td>0</td>\n      <td>6</td>\n      <td>1</td>\n      <td>6</td>\n    </tr>\n    <tr>\n      <th>201807</th>\n      <td>5</td>\n      <td>7</td>\n      <td>0</td>\n      <td>7</td>\n      <td>5</td>\n      <td>6</td>\n      <td>8</td>\n      <td>3</td>\n      <td>0</td>\n      <td>4</td>\n      <td>3</td>\n      <td>7</td>\n      <td>7</td>\n      <td>0</td>\n      <td>0</td>\n      <td>7</td>\n      <td>5</td>\n      <td>2</td>\n      <td>5</td>\n      <td>6</td>\n      <td>10</td>\n      <td>4</td>\n      <td>8</td>\n      <td>0</td>\n      <td>5</td>\n      <td>...</td>\n      <td>3</td>\n      <td>11</td>\n      <td>7</td>\n      <td>8</td>\n      <td>0</td>\n      <td>6</td>\n      <td>1</td>\n      <td>7</td>\n      <td>7</td>\n      <td>8</td>\n      <td>14</td>\n      <td>0</td>\n      <td>0</td>\n      <td>8</td>\n      <td>0</td>\n      <td>7</td>\n      <td>8</td>\n      <td>0</td>\n      <td>0</td>\n      <td>5</td>\n      <td>0</td>\n      <td>0</td>\n      <td>2</td>\n      <td>5</td>\n      <td>4</td>\n    </tr>\n    <tr>\n      <th>201808</th>\n      <td>3</td>\n      <td>5</td>\n      <td>0</td>\n      <td>6</td>\n      <td>11</td>\n      <td>3</td>\n      <td>5</td>\n      <td>3</td>\n      <td>8</td>\n      <td>7</td>\n      <td>8</td>\n      <td>7</td>\n      <td>5</td>\n      <td>0</td>\n      <td>0</td>\n      <td>6</td>\n      <td>6</td>\n      <td>2</td>\n      <td>5</td>\n      <td>5</td>\n      <td>6</td>\n      <td>4</td>\n      <td>9</td>\n      <td>0</td>\n      <td>5</td>\n      <td>...</td>\n      <td>7</td>\n      <td>8</td>\n      <td>7</td>\n      <td>6</td>\n      <td>0</td>\n      <td>3</td>\n      <td>0</td>\n      <td>5</td>\n      <td>7</td>\n      <td>8</td>\n      <td>10</td>\n      <td>0</td>\n      <td>0</td>\n      <td>5</td>\n      <td>0</td>\n      <td>7</td>\n      <td>6</td>\n      <td>0</td>\n      <td>0</td>\n      <td>7</td>\n      <td>0</td>\n      <td>0</td>\n      <td>3</td>\n      <td>3</td>\n      <td>3</td>\n    </tr>\n    <tr>\n      <th>201809</th>\n      <td>7</td>\n      <td>2</td>\n      <td>0</td>\n      <td>6</td>\n      <td>9</td>\n      <td>7</td>\n      <td>6</td>\n      <td>0</td>\n      <td>5</td>\n      <td>5</td>\n      <td>6</td>\n      <td>5</td>\n      <td>1</td>\n      <td>0</td>\n      <td>0</td>\n      <td>6</td>\n      <td>4</td>\n      <td>5</td>\n      <td>6</td>\n      <td>6</td>\n      <td>7</td>\n      <td>0</td>\n      <td>7</td>\n      <td>0</td>\n      <td>5</td>\n      <td>...</td>\n      <td>4</td>\n      <td>8</td>\n      <td>8</td>\n      <td>8</td>\n      <td>0</td>\n      <td>7</td>\n      <td>0</td>\n      <td>5</td>\n      <td>5</td>\n      <td>8</td>\n      <td>6</td>\n      <td>0</td>\n      <td>0</td>\n      <td>5</td>\n      <td>9</td>\n      <td>9</td>\n      <td>7</td>\n      <td>0</td>\n      <td>0</td>\n      <td>5</td>\n      <td>0</td>\n      <td>9</td>\n      <td>4</td>\n      <td>4</td>\n      <td>5</td>\n    </tr>\n    <tr>\n      <th>201810</th>\n      <td>3</td>\n      <td>2</td>\n      <td>0</td>\n      <td>5</td>\n      <td>7</td>\n      <td>4</td>\n      <td>5</td>\n      <td>0</td>\n      <td>3</td>\n      <td>7</td>\n      <td>5</td>\n      <td>4</td>\n      <td>4</td>\n      <td>0</td>\n      <td>0</td>\n      <td>5</td>\n      <td>6</td>\n      <td>5</td>\n      <td>4</td>\n      <td>7</td>\n      <td>7</td>\n      <td>0</td>\n      <td>5</td>\n      <td>0</td>\n      <td>5</td>\n      <td>...</td>\n      <td>5</td>\n      <td>8</td>\n      <td>3</td>\n      <td>7</td>\n      <td>0</td>\n      <td>5</td>\n      <td>0</td>\n      <td>5</td>\n      <td>8</td>\n      <td>8</td>\n      <td>8</td>\n      <td>7</td>\n      <td>0</td>\n      <td>8</td>\n      <td>8</td>\n      <td>9</td>\n      <td>2</td>\n      <td>0</td>\n      <td>0</td>\n      <td>4</td>\n      <td>0</td>\n      <td>9</td>\n      <td>6</td>\n      <td>5</td>\n      <td>4</td>\n    </tr>\n    <tr>\n      <th>201811</th>\n      <td>5</td>\n      <td>3</td>\n      <td>0</td>\n      <td>4</td>\n      <td>7</td>\n      <td>7</td>\n      <td>4</td>\n      <td>0</td>\n      <td>0</td>\n      <td>7</td>\n      <td>5</td>\n      <td>4</td>\n      <td>6</td>\n      <td>0</td>\n      <td>0</td>\n      <td>5</td>\n      <td>7</td>\n      <td>3</td>\n      <td>6</td>\n      <td>4</td>\n      <td>5</td>\n      <td>0</td>\n      <td>10</td>\n      <td>0</td>\n      <td>5</td>\n      <td>...</td>\n      <td>5</td>\n      <td>9</td>\n      <td>6</td>\n      <td>6</td>\n      <td>0</td>\n      <td>4</td>\n      <td>0</td>\n      <td>5</td>\n      <td>7</td>\n      <td>5</td>\n      <td>10</td>\n      <td>7</td>\n      <td>0</td>\n      <td>6</td>\n      <td>8</td>\n      <td>10</td>\n      <td>4</td>\n      <td>0</td>\n      <td>0</td>\n      <td>5</td>\n      <td>0</td>\n      <td>9</td>\n      <td>6</td>\n      <td>5</td>\n      <td>4</td>\n    </tr>\n    <tr>\n      <th>201812</th>\n      <td>2</td>\n      <td>5</td>\n      <td>0</td>\n      <td>4</td>\n      <td>9</td>\n      <td>5</td>\n      <td>4</td>\n      <td>0</td>\n      <td>0</td>\n      <td>5</td>\n      <td>6</td>\n      <td>1</td>\n      <td>5</td>\n      <td>0</td>\n      <td>0</td>\n      <td>5</td>\n      <td>5</td>\n      <td>3</td>\n      <td>10</td>\n      <td>5</td>\n      <td>7</td>\n      <td>0</td>\n      <td>5</td>\n      <td>0</td>\n      <td>5</td>\n      <td>...</td>\n      <td>4</td>\n      <td>6</td>\n      <td>3</td>\n      <td>6</td>\n      <td>7</td>\n      <td>6</td>\n      <td>0</td>\n      <td>5</td>\n      <td>5</td>\n      <td>7</td>\n      <td>6</td>\n      <td>10</td>\n      <td>0</td>\n      <td>6</td>\n      <td>9</td>\n      <td>6</td>\n      <td>3</td>\n      <td>0</td>\n      <td>8</td>\n      <td>4</td>\n      <td>0</td>\n      <td>7</td>\n      <td>9</td>\n      <td>8</td>\n      <td>5</td>\n    </tr>\n    <tr>\n      <th>201901</th>\n      <td>6</td>\n      <td>1</td>\n      <td>0</td>\n      <td>7</td>\n      <td>9</td>\n      <td>5</td>\n      <td>5</td>\n      <td>0</td>\n      <td>0</td>\n      <td>9</td>\n      <td>3</td>\n      <td>1</td>\n      <td>2</td>\n      <td>0</td>\n      <td>0</td>\n      <td>5</td>\n      <td>3</td>\n      <td>3</td>\n      <td>4</td>\n      <td>2</td>\n      <td>7</td>\n      <td>0</td>\n      <td>8</td>\n      <td>0</td>\n      <td>3</td>\n      <td>...</td>\n      <td>4</td>\n      <td>5</td>\n      <td>6</td>\n      <td>5</td>\n      <td>4</td>\n      <td>6</td>\n      <td>0</td>\n      <td>4</td>\n      <td>6</td>\n      <td>6</td>\n      <td>7</td>\n      <td>8</td>\n      <td>0</td>\n      <td>7</td>\n      <td>10</td>\n      <td>7</td>\n      <td>1</td>\n      <td>0</td>\n      <td>7</td>\n      <td>5</td>\n      <td>0</td>\n      <td>8</td>\n      <td>6</td>\n      <td>3</td>\n      <td>7</td>\n    </tr>\n    <tr>\n      <th>201902</th>\n      <td>5</td>\n      <td>6</td>\n      <td>0</td>\n      <td>6</td>\n      <td>4</td>\n      <td>5</td>\n      <td>6</td>\n      <td>0</td>\n      <td>0</td>\n      <td>5</td>\n      <td>6</td>\n      <td>3</td>\n      <td>0</td>\n      <td>0</td>\n      <td>0</td>\n      <td>4</td>\n      <td>2</td>\n      <td>6</td>\n      <td>6</td>\n      <td>6</td>\n      <td>7</td>\n      <td>0</td>\n      <td>6</td>\n      <td>0</td>\n      <td>5</td>\n      <td>...</td>\n      <td>6</td>\n      <td>8</td>\n      <td>8</td>\n      <td>8</td>\n      <td>0</td>\n      <td>9</td>\n      <td>0</td>\n      <td>8</td>\n      <td>3</td>\n      <td>8</td>\n      <td>10</td>\n      <td>7</td>\n      <td>0</td>\n      <td>2</td>\n      <td>10</td>\n      <td>6</td>\n      <td>6</td>\n      <td>0</td>\n      <td>10</td>\n      <td>3</td>\n      <td>11</td>\n      <td>7</td>\n      <td>2</td>\n      <td>6</td>\n      <td>4</td>\n    </tr>\n    <tr>\n      <th>201903</th>\n      <td>4</td>\n      <td>1</td>\n      <td>0</td>\n      <td>5</td>\n      <td>8</td>\n      <td>4</td>\n      <td>6</td>\n      <td>0</td>\n      <td>0</td>\n      <td>4</td>\n      <td>5</td>\n      <td>0</td>\n      <td>0</td>\n      <td>0</td>\n      <td>12</td>\n      <td>5</td>\n      <td>2</td>\n      <td>6</td>\n      <td>8</td>\n      <td>5</td>\n      <td>5</td>\n      <td>0</td>\n      <td>6</td>\n      <td>0</td>\n      <td>3</td>\n      <td>...</td>\n      <td>2</td>\n      <td>7</td>\n      <td>5</td>\n      <td>6</td>\n      <td>0</td>\n      <td>6</td>\n      <td>0</td>\n      <td>7</td>\n      <td>4</td>\n      <td>7</td>\n      <td>7</td>\n      <td>9</td>\n      <td>0</td>\n      <td>4</td>\n      <td>10</td>\n      <td>4</td>\n      <td>0</td>\n      <td>0</td>\n      <td>7</td>\n      <td>3</td>\n      <td>8</td>\n      <td>8</td>\n      <td>3</td>\n      <td>6</td>\n      <td>4</td>\n    </tr>\n  </tbody>\n</table>\n<p>12 rows × 4192 columns</p>\n</div>"
     },
     "metadata": {},
     "execution_count": 238
    }
   ],
   "source": [
    "# 顧客毎、月ごとの利用回数\n",
    "join_use_data[\"usedate\"] = pd.to_datetime(join_use_data[\"usedate\"])\n",
    "join_use_data[\"usedate_month\"] = join_use_data[\"usedate\"].dt.strftime(\"%Y%m\")\n",
    "join_use_data.head()\n",
    "join_use_data.groupby([\"customer_id\", \"usedate_month\"]).count()\n",
    "pd.pivot_table(join_use_data, index=\"usedate_month\", columns=\"customer_id\", aggfunc=\"size\", fill_value=0)"
   ]
  },
  {
   "cell_type": "code",
   "execution_count": 155,
   "metadata": {},
   "outputs": [
    {
     "output_type": "execute_result",
     "data": {
      "text/plain": [
       "  usedate_month customer_id  count  name  class  gender  start_date  end_date  \\\n",
       "0        201804    AS002855      4     4      4       4           4         0   \n",
       "1        201804    AS009013      2     2      2       2           2         2   \n",
       "2        201804    AS009373      3     3      3       3           3         0   \n",
       "3        201804    AS015315      6     6      6       6           6         0   \n",
       "4        201804    AS015739      7     7      7       7           7         0   \n",
       "\n",
       "   campaign_id  is_deleted  campaign_name  class_name  price  customer_start  \\\n",
       "0            4           4              4           4      4               4   \n",
       "1            2           2              2           2      2               2   \n",
       "2            3           3              3           3      3               3   \n",
       "3            6           6              6           6      6               6   \n",
       "4            7           7              7           7      7               7   \n",
       "\n",
       "   customer_end  \n",
       "0             0  \n",
       "1             2  \n",
       "2             0  \n",
       "3             0  \n",
       "4             0  "
      ],
      "text/html": "<div>\n<style scoped>\n    .dataframe tbody tr th:only-of-type {\n        vertical-align: middle;\n    }\n\n    .dataframe tbody tr th {\n        vertical-align: top;\n    }\n\n    .dataframe thead th {\n        text-align: right;\n    }\n</style>\n<table border=\"1\" class=\"dataframe\">\n  <thead>\n    <tr style=\"text-align: right;\">\n      <th></th>\n      <th>usedate_month</th>\n      <th>customer_id</th>\n      <th>count</th>\n      <th>name</th>\n      <th>class</th>\n      <th>gender</th>\n      <th>start_date</th>\n      <th>end_date</th>\n      <th>campaign_id</th>\n      <th>is_deleted</th>\n      <th>campaign_name</th>\n      <th>class_name</th>\n      <th>price</th>\n      <th>customer_start</th>\n      <th>customer_end</th>\n    </tr>\n  </thead>\n  <tbody>\n    <tr>\n      <th>0</th>\n      <td>201804</td>\n      <td>AS002855</td>\n      <td>4</td>\n      <td>4</td>\n      <td>4</td>\n      <td>4</td>\n      <td>4</td>\n      <td>0</td>\n      <td>4</td>\n      <td>4</td>\n      <td>4</td>\n      <td>4</td>\n      <td>4</td>\n      <td>4</td>\n      <td>0</td>\n    </tr>\n    <tr>\n      <th>1</th>\n      <td>201804</td>\n      <td>AS009013</td>\n      <td>2</td>\n      <td>2</td>\n      <td>2</td>\n      <td>2</td>\n      <td>2</td>\n      <td>2</td>\n      <td>2</td>\n      <td>2</td>\n      <td>2</td>\n      <td>2</td>\n      <td>2</td>\n      <td>2</td>\n      <td>2</td>\n    </tr>\n    <tr>\n      <th>2</th>\n      <td>201804</td>\n      <td>AS009373</td>\n      <td>3</td>\n      <td>3</td>\n      <td>3</td>\n      <td>3</td>\n      <td>3</td>\n      <td>0</td>\n      <td>3</td>\n      <td>3</td>\n      <td>3</td>\n      <td>3</td>\n      <td>3</td>\n      <td>3</td>\n      <td>0</td>\n    </tr>\n    <tr>\n      <th>3</th>\n      <td>201804</td>\n      <td>AS015315</td>\n      <td>6</td>\n      <td>6</td>\n      <td>6</td>\n      <td>6</td>\n      <td>6</td>\n      <td>0</td>\n      <td>6</td>\n      <td>6</td>\n      <td>6</td>\n      <td>6</td>\n      <td>6</td>\n      <td>6</td>\n      <td>0</td>\n    </tr>\n    <tr>\n      <th>4</th>\n      <td>201804</td>\n      <td>AS015739</td>\n      <td>7</td>\n      <td>7</td>\n      <td>7</td>\n      <td>7</td>\n      <td>7</td>\n      <td>0</td>\n      <td>7</td>\n      <td>7</td>\n      <td>7</td>\n      <td>7</td>\n      <td>7</td>\n      <td>7</td>\n      <td>0</td>\n    </tr>\n  </tbody>\n</table>\n</div>"
     },
     "metadata": {},
     "execution_count": 155
    }
   ],
   "source": [
    "uselog_month = join_use_data.groupby([\"usedate_month\", \"customer_id\"], as_index=False).count()\n",
    "uselog_month\n",
    "uselog_month.rename(columns={\"log_id\": \"count\"}, inplace=True)\n",
    "del uselog_month[\"usedate\"] # usedateカラムを削除\n",
    "uselog_month.head()"
   ]
  },
  {
   "cell_type": "code",
   "execution_count": 179,
   "metadata": {},
   "outputs": [
    {
     "output_type": "execute_result",
     "data": {
      "text/plain": [
       "  customer_id      mean  median  max  min\n",
       "0    AS002855  4.500000     5.0    7    2\n",
       "1    AS008805  4.000000     4.0    8    1\n",
       "2    AS009013  2.000000     2.0    2    2\n",
       "3    AS009373  5.083333     5.0    7    3\n",
       "4    AS015233  7.545455     7.0   11    4"
      ],
      "text/html": "<div>\n<style scoped>\n    .dataframe tbody tr th:only-of-type {\n        vertical-align: middle;\n    }\n\n    .dataframe tbody tr th {\n        vertical-align: top;\n    }\n\n    .dataframe thead th {\n        text-align: right;\n    }\n</style>\n<table border=\"1\" class=\"dataframe\">\n  <thead>\n    <tr style=\"text-align: right;\">\n      <th></th>\n      <th>customer_id</th>\n      <th>mean</th>\n      <th>median</th>\n      <th>max</th>\n      <th>min</th>\n    </tr>\n  </thead>\n  <tbody>\n    <tr>\n      <th>0</th>\n      <td>AS002855</td>\n      <td>4.500000</td>\n      <td>5.0</td>\n      <td>7</td>\n      <td>2</td>\n    </tr>\n    <tr>\n      <th>1</th>\n      <td>AS008805</td>\n      <td>4.000000</td>\n      <td>4.0</td>\n      <td>8</td>\n      <td>1</td>\n    </tr>\n    <tr>\n      <th>2</th>\n      <td>AS009013</td>\n      <td>2.000000</td>\n      <td>2.0</td>\n      <td>2</td>\n      <td>2</td>\n    </tr>\n    <tr>\n      <th>3</th>\n      <td>AS009373</td>\n      <td>5.083333</td>\n      <td>5.0</td>\n      <td>7</td>\n      <td>3</td>\n    </tr>\n    <tr>\n      <th>4</th>\n      <td>AS015233</td>\n      <td>7.545455</td>\n      <td>7.0</td>\n      <td>11</td>\n      <td>4</td>\n    </tr>\n  </tbody>\n</table>\n</div>"
     },
     "metadata": {},
     "execution_count": 179
    }
   ],
   "source": [
    "# 顧客毎の、利用回数平均・中央値・最大・最小を求める\n",
    "use_log_customer = uselog_month.groupby(\"customer_id\").agg([\"mean\", \"median\", \"max\", \"min\"])[\"count\"]\n",
    "use_log_customer = use_log_customer.reset_index(drop=False) # indexを振り直す。groupbyなどデータ結合、合成をするとindexが歯抜けになるので、0~indexを振り直すときに使う\n",
    "use_log_customer.head()"
   ]
  },
  {
   "cell_type": "code",
   "execution_count": 191,
   "metadata": {},
   "outputs": [
    {
     "output_type": "execute_result",
     "data": {
      "text/plain": [
       "            log_id customer_id    usedate   name class gender  \\\n",
       "0  L00000049012330    AS009373 2018-04-01     XX   C01      F   \n",
       "1  L00000049012331    AS015315 2018-04-01  XXXXX   C01      M   \n",
       "2  L00000049012332    AS040841 2018-04-01  XXXXX   C01      F   \n",
       "3  L00000049012333    AS046594 2018-04-01    XXX   C01      M   \n",
       "4  L00000049012334    AS073285 2018-04-01   XXXX   C01      M   \n",
       "\n",
       "            start_date end_date campaign_id  is_deleted campaign_name  \\\n",
       "0  2015-11-01 00:00:00      NaN         CA1           0            通常   \n",
       "1  2015-07-01 00:00:00      NaN         CA1           0            通常   \n",
       "2  2017-05-01 00:00:00      NaN         CA1           0            通常   \n",
       "3  2018-03-01 00:00:00      NaN         CA1           0            通常   \n",
       "4  2016-09-01 00:00:00      NaN         CA1           0            通常   \n",
       "\n",
       "  class_name  price customer_start customer_end usedate_month  weekday  \n",
       "0     オールタイム  10500     2015-11-01          NaT        201804        6  \n",
       "1     オールタイム  10500     2015-07-01          NaT        201804        6  \n",
       "2     オールタイム  10500     2017-05-01          NaT        201804        6  \n",
       "3     オールタイム  10500     2018-03-01          NaT        201804        6  \n",
       "4     オールタイム  10500     2016-09-01          NaT        201804        6  "
      ],
      "text/html": "<div>\n<style scoped>\n    .dataframe tbody tr th:only-of-type {\n        vertical-align: middle;\n    }\n\n    .dataframe tbody tr th {\n        vertical-align: top;\n    }\n\n    .dataframe thead th {\n        text-align: right;\n    }\n</style>\n<table border=\"1\" class=\"dataframe\">\n  <thead>\n    <tr style=\"text-align: right;\">\n      <th></th>\n      <th>log_id</th>\n      <th>customer_id</th>\n      <th>usedate</th>\n      <th>name</th>\n      <th>class</th>\n      <th>gender</th>\n      <th>start_date</th>\n      <th>end_date</th>\n      <th>campaign_id</th>\n      <th>is_deleted</th>\n      <th>campaign_name</th>\n      <th>class_name</th>\n      <th>price</th>\n      <th>customer_start</th>\n      <th>customer_end</th>\n      <th>usedate_month</th>\n      <th>weekday</th>\n    </tr>\n  </thead>\n  <tbody>\n    <tr>\n      <th>0</th>\n      <td>L00000049012330</td>\n      <td>AS009373</td>\n      <td>2018-04-01</td>\n      <td>XX</td>\n      <td>C01</td>\n      <td>F</td>\n      <td>2015-11-01 00:00:00</td>\n      <td>NaN</td>\n      <td>CA1</td>\n      <td>0</td>\n      <td>通常</td>\n      <td>オールタイム</td>\n      <td>10500</td>\n      <td>2015-11-01</td>\n      <td>NaT</td>\n      <td>201804</td>\n      <td>6</td>\n    </tr>\n    <tr>\n      <th>1</th>\n      <td>L00000049012331</td>\n      <td>AS015315</td>\n      <td>2018-04-01</td>\n      <td>XXXXX</td>\n      <td>C01</td>\n      <td>M</td>\n      <td>2015-07-01 00:00:00</td>\n      <td>NaN</td>\n      <td>CA1</td>\n      <td>0</td>\n      <td>通常</td>\n      <td>オールタイム</td>\n      <td>10500</td>\n      <td>2015-07-01</td>\n      <td>NaT</td>\n      <td>201804</td>\n      <td>6</td>\n    </tr>\n    <tr>\n      <th>2</th>\n      <td>L00000049012332</td>\n      <td>AS040841</td>\n      <td>2018-04-01</td>\n      <td>XXXXX</td>\n      <td>C01</td>\n      <td>F</td>\n      <td>2017-05-01 00:00:00</td>\n      <td>NaN</td>\n      <td>CA1</td>\n      <td>0</td>\n      <td>通常</td>\n      <td>オールタイム</td>\n      <td>10500</td>\n      <td>2017-05-01</td>\n      <td>NaT</td>\n      <td>201804</td>\n      <td>6</td>\n    </tr>\n    <tr>\n      <th>3</th>\n      <td>L00000049012333</td>\n      <td>AS046594</td>\n      <td>2018-04-01</td>\n      <td>XXX</td>\n      <td>C01</td>\n      <td>M</td>\n      <td>2018-03-01 00:00:00</td>\n      <td>NaN</td>\n      <td>CA1</td>\n      <td>0</td>\n      <td>通常</td>\n      <td>オールタイム</td>\n      <td>10500</td>\n      <td>2018-03-01</td>\n      <td>NaT</td>\n      <td>201804</td>\n      <td>6</td>\n    </tr>\n    <tr>\n      <th>4</th>\n      <td>L00000049012334</td>\n      <td>AS073285</td>\n      <td>2018-04-01</td>\n      <td>XXXX</td>\n      <td>C01</td>\n      <td>M</td>\n      <td>2016-09-01 00:00:00</td>\n      <td>NaN</td>\n      <td>CA1</td>\n      <td>0</td>\n      <td>通常</td>\n      <td>オールタイム</td>\n      <td>10500</td>\n      <td>2016-09-01</td>\n      <td>NaT</td>\n      <td>201804</td>\n      <td>6</td>\n    </tr>\n  </tbody>\n</table>\n</div>"
     },
     "metadata": {},
     "execution_count": 191
    }
   ],
   "source": [
    "# TODO: ノック26\n",
    "join_use_data.head()\n",
    "join_use_data[\"weekday\"] = join_use_data[\"usedate\"].dt.weekday\n",
    "join_use_data.head()"
   ]
  },
  {
   "cell_type": "code",
   "execution_count": 243,
   "metadata": {},
   "outputs": [
    {
     "output_type": "execute_result",
     "data": {
      "text/plain": [
       "  customer_id usedate_month  weekday  count\n",
       "0    AS002855        201804        5      4\n",
       "1    AS002855        201805        2      1\n",
       "2    AS002855        201805        5      4\n",
       "3    AS002855        201806        5      5\n",
       "4    AS002855        201807        1      1"
      ],
      "text/html": "<div>\n<style scoped>\n    .dataframe tbody tr th:only-of-type {\n        vertical-align: middle;\n    }\n\n    .dataframe tbody tr th {\n        vertical-align: top;\n    }\n\n    .dataframe thead th {\n        text-align: right;\n    }\n</style>\n<table border=\"1\" class=\"dataframe\">\n  <thead>\n    <tr style=\"text-align: right;\">\n      <th></th>\n      <th>customer_id</th>\n      <th>usedate_month</th>\n      <th>weekday</th>\n      <th>count</th>\n    </tr>\n  </thead>\n  <tbody>\n    <tr>\n      <th>0</th>\n      <td>AS002855</td>\n      <td>201804</td>\n      <td>5</td>\n      <td>4</td>\n    </tr>\n    <tr>\n      <th>1</th>\n      <td>AS002855</td>\n      <td>201805</td>\n      <td>2</td>\n      <td>1</td>\n    </tr>\n    <tr>\n      <th>2</th>\n      <td>AS002855</td>\n      <td>201805</td>\n      <td>5</td>\n      <td>4</td>\n    </tr>\n    <tr>\n      <th>3</th>\n      <td>AS002855</td>\n      <td>201806</td>\n      <td>5</td>\n      <td>5</td>\n    </tr>\n    <tr>\n      <th>4</th>\n      <td>AS002855</td>\n      <td>201807</td>\n      <td>1</td>\n      <td>1</td>\n    </tr>\n  </tbody>\n</table>\n</div>"
     },
     "metadata": {},
     "execution_count": 243
    }
   ],
   "source": [
    "# join_use_data.groupby([\"customer_id\", \"usedate_month\", \"weekday\"], as_index=False).count() # asIndex=Trueの場合、groupbyで指定したkeyがindexになってしまうので、asIndex=Falseにする\n",
    "weekday_data = join_use_data.groupby([\"customer_id\", \"usedate_month\", \"weekday\"], as_index=False).count()[[\"customer_id\", \"usedate_month\", \"weekday\", \"log_id\"]]\n",
    "weekday_data.head()\n",
    "weekday_data.rename(columns={\"log_id\": \"count\"}, inplace=True)\n",
    "weekday_data.head()"
   ]
  },
  {
   "cell_type": "code",
   "execution_count": 261,
   "metadata": {},
   "outputs": [
    {
     "output_type": "execute_result",
     "data": {
      "text/plain": [
       "  customer_id  count  routine_flg\n",
       "0    AS002855      5            1\n",
       "1    AS008805      4            1\n",
       "2    AS009013      2            0\n",
       "3    AS009373      5            1\n",
       "4    AS015233      5            1"
      ],
      "text/html": "<div>\n<style scoped>\n    .dataframe tbody tr th:only-of-type {\n        vertical-align: middle;\n    }\n\n    .dataframe tbody tr th {\n        vertical-align: top;\n    }\n\n    .dataframe thead th {\n        text-align: right;\n    }\n</style>\n<table border=\"1\" class=\"dataframe\">\n  <thead>\n    <tr style=\"text-align: right;\">\n      <th></th>\n      <th>customer_id</th>\n      <th>count</th>\n      <th>routine_flg</th>\n    </tr>\n  </thead>\n  <tbody>\n    <tr>\n      <th>0</th>\n      <td>AS002855</td>\n      <td>5</td>\n      <td>1</td>\n    </tr>\n    <tr>\n      <th>1</th>\n      <td>AS008805</td>\n      <td>4</td>\n      <td>1</td>\n    </tr>\n    <tr>\n      <th>2</th>\n      <td>AS009013</td>\n      <td>2</td>\n      <td>0</td>\n    </tr>\n    <tr>\n      <th>3</th>\n      <td>AS009373</td>\n      <td>5</td>\n      <td>1</td>\n    </tr>\n    <tr>\n      <th>4</th>\n      <td>AS015233</td>\n      <td>5</td>\n      <td>1</td>\n    </tr>\n  </tbody>\n</table>\n</div>"
     },
     "metadata": {},
     "execution_count": 261
    }
   ],
   "source": [
    "# 顧客毎の各月の最大値を求める\n",
    "weekday_data = weekday_data.groupby([\"customer_id\"], as_index=False).max()[[\"customer_id\", \"count\"]] # max()を適応すると、各列毎の最大値が取得されるので注意すること\n",
    "weekday_data.head()\n",
    "weekday_data[\"routine_flg\"] = 0\n",
    "weekday_data[\"routine_flg\"] = weekday_data[\"routine_flg\"].where(weekday_data[\"count\"] < 4, 1) # whereは()は、Trueの場合は要素はそのまま、Falseの場合は第二引数で指定した要素に入れ替える\n",
    "weekday_data.head()"
   ]
  },
  {
   "cell_type": "code",
   "execution_count": 270,
   "metadata": {},
   "outputs": [
    {
     "output_type": "execute_result",
     "data": {
      "text/plain": [
       "  customer_id  routine_flg   name class gender           start_date  \\\n",
       "0    AS002855            1   XXXX   C03      F  2016-11-01 00:00:00   \n",
       "1    AS008805            1  XXXXX   C01      M  2018-06-07 00:00:00   \n",
       "2    AS009013            0  XXXXX   C03      M  2017-08-01 00:00:00   \n",
       "3    AS009373            1     XX   C01      F  2015-11-01 00:00:00   \n",
       "4    AS015233            1  XXXXX   C01      M  2018-05-13 00:00:00   \n",
       "\n",
       "              end_date campaign_id  is_deleted campaign_name class_name  \\\n",
       "0                  NaN         CA1           0            通常        ナイト   \n",
       "1  2019-03-31 00:00:00         CA2           1         入会費半額     オールタイム   \n",
       "2  2018-04-30 00:00:00         CA2           1         入会費半額        ナイト   \n",
       "3                  NaN         CA1           0            通常     オールタイム   \n",
       "4                  NaN         CA2           0         入会費半額     オールタイム   \n",
       "\n",
       "   price customer_start customer_end  \n",
       "0   6000     2016-11-01          NaT  \n",
       "1  10500     2018-06-07   2019-03-31  \n",
       "2   6000     2017-08-01   2018-04-30  \n",
       "3  10500     2015-11-01          NaT  \n",
       "4  10500     2018-05-13          NaT  "
      ],
      "text/html": "<div>\n<style scoped>\n    .dataframe tbody tr th:only-of-type {\n        vertical-align: middle;\n    }\n\n    .dataframe tbody tr th {\n        vertical-align: top;\n    }\n\n    .dataframe thead th {\n        text-align: right;\n    }\n</style>\n<table border=\"1\" class=\"dataframe\">\n  <thead>\n    <tr style=\"text-align: right;\">\n      <th></th>\n      <th>customer_id</th>\n      <th>routine_flg</th>\n      <th>name</th>\n      <th>class</th>\n      <th>gender</th>\n      <th>start_date</th>\n      <th>end_date</th>\n      <th>campaign_id</th>\n      <th>is_deleted</th>\n      <th>campaign_name</th>\n      <th>class_name</th>\n      <th>price</th>\n      <th>customer_start</th>\n      <th>customer_end</th>\n    </tr>\n  </thead>\n  <tbody>\n    <tr>\n      <th>0</th>\n      <td>AS002855</td>\n      <td>1</td>\n      <td>XXXX</td>\n      <td>C03</td>\n      <td>F</td>\n      <td>2016-11-01 00:00:00</td>\n      <td>NaN</td>\n      <td>CA1</td>\n      <td>0</td>\n      <td>通常</td>\n      <td>ナイト</td>\n      <td>6000</td>\n      <td>2016-11-01</td>\n      <td>NaT</td>\n    </tr>\n    <tr>\n      <th>1</th>\n      <td>AS008805</td>\n      <td>1</td>\n      <td>XXXXX</td>\n      <td>C01</td>\n      <td>M</td>\n      <td>2018-06-07 00:00:00</td>\n      <td>2019-03-31 00:00:00</td>\n      <td>CA2</td>\n      <td>1</td>\n      <td>入会費半額</td>\n      <td>オールタイム</td>\n      <td>10500</td>\n      <td>2018-06-07</td>\n      <td>2019-03-31</td>\n    </tr>\n    <tr>\n      <th>2</th>\n      <td>AS009013</td>\n      <td>0</td>\n      <td>XXXXX</td>\n      <td>C03</td>\n      <td>M</td>\n      <td>2017-08-01 00:00:00</td>\n      <td>2018-04-30 00:00:00</td>\n      <td>CA2</td>\n      <td>1</td>\n      <td>入会費半額</td>\n      <td>ナイト</td>\n      <td>6000</td>\n      <td>2017-08-01</td>\n      <td>2018-04-30</td>\n    </tr>\n    <tr>\n      <th>3</th>\n      <td>AS009373</td>\n      <td>1</td>\n      <td>XX</td>\n      <td>C01</td>\n      <td>F</td>\n      <td>2015-11-01 00:00:00</td>\n      <td>NaN</td>\n      <td>CA1</td>\n      <td>0</td>\n      <td>通常</td>\n      <td>オールタイム</td>\n      <td>10500</td>\n      <td>2015-11-01</td>\n      <td>NaT</td>\n    </tr>\n    <tr>\n      <th>4</th>\n      <td>AS015233</td>\n      <td>1</td>\n      <td>XXXXX</td>\n      <td>C01</td>\n      <td>M</td>\n      <td>2018-05-13 00:00:00</td>\n      <td>NaN</td>\n      <td>CA2</td>\n      <td>0</td>\n      <td>入会費半額</td>\n      <td>オールタイム</td>\n      <td>10500</td>\n      <td>2018-05-13</td>\n      <td>NaT</td>\n    </tr>\n  </tbody>\n</table>\n</div>"
     },
     "metadata": {},
     "execution_count": 270
    }
   ],
   "source": [
    "weekday_customer_join_data = pd.merge(weekday_data[[\"customer_id\", \"routine_flg\"]], customer_join_data, left_on=\"customer_id\", right_on=\"customer_id\", how=\"left\")\n",
    "weekday_customer_join_data.head()"
   ]
  },
  {
   "cell_type": "code",
   "execution_count": 292,
   "metadata": {},
   "outputs": [
    {
     "output_type": "execute_result",
     "data": {
      "text/plain": [
       "  customer_id  routine_flg   name class gender           start_date  \\\n",
       "0    AS002855            1   XXXX   C03      F  2016-11-01 00:00:00   \n",
       "1    AS008805            1  XXXXX   C01      M  2018-06-07 00:00:00   \n",
       "2    AS009013            0  XXXXX   C03      M  2017-08-01 00:00:00   \n",
       "3    AS009373            1     XX   C01      F  2015-11-01 00:00:00   \n",
       "4    AS015233            1  XXXXX   C01      M  2018-05-13 00:00:00   \n",
       "\n",
       "              end_date campaign_id  is_deleted campaign_name class_name  \\\n",
       "0                  NaN         CA1           0            通常        ナイト   \n",
       "1  2019-03-31 00:00:00         CA2           1         入会費半額     オールタイム   \n",
       "2  2018-04-30 00:00:00         CA2           1         入会費半額        ナイト   \n",
       "3                  NaN         CA1           0            通常     オールタイム   \n",
       "4                  NaN         CA2           0         入会費半額     オールタイム   \n",
       "\n",
       "   price customer_start customer_end      mean  median  max  min  \n",
       "0   6000     2016-11-01          NaT  4.500000     5.0    7    2  \n",
       "1  10500     2018-06-07   2019-03-31  4.000000     4.0    8    1  \n",
       "2   6000     2017-08-01   2018-04-30  2.000000     2.0    2    2  \n",
       "3  10500     2015-11-01          NaT  5.083333     5.0    7    3  \n",
       "4  10500     2018-05-13          NaT  7.545455     7.0   11    4  "
      ],
      "text/html": "<div>\n<style scoped>\n    .dataframe tbody tr th:only-of-type {\n        vertical-align: middle;\n    }\n\n    .dataframe tbody tr th {\n        vertical-align: top;\n    }\n\n    .dataframe thead th {\n        text-align: right;\n    }\n</style>\n<table border=\"1\" class=\"dataframe\">\n  <thead>\n    <tr style=\"text-align: right;\">\n      <th></th>\n      <th>customer_id</th>\n      <th>routine_flg</th>\n      <th>name</th>\n      <th>class</th>\n      <th>gender</th>\n      <th>start_date</th>\n      <th>end_date</th>\n      <th>campaign_id</th>\n      <th>is_deleted</th>\n      <th>campaign_name</th>\n      <th>class_name</th>\n      <th>price</th>\n      <th>customer_start</th>\n      <th>customer_end</th>\n      <th>mean</th>\n      <th>median</th>\n      <th>max</th>\n      <th>min</th>\n    </tr>\n  </thead>\n  <tbody>\n    <tr>\n      <th>0</th>\n      <td>AS002855</td>\n      <td>1</td>\n      <td>XXXX</td>\n      <td>C03</td>\n      <td>F</td>\n      <td>2016-11-01 00:00:00</td>\n      <td>NaN</td>\n      <td>CA1</td>\n      <td>0</td>\n      <td>通常</td>\n      <td>ナイト</td>\n      <td>6000</td>\n      <td>2016-11-01</td>\n      <td>NaT</td>\n      <td>4.500000</td>\n      <td>5.0</td>\n      <td>7</td>\n      <td>2</td>\n    </tr>\n    <tr>\n      <th>1</th>\n      <td>AS008805</td>\n      <td>1</td>\n      <td>XXXXX</td>\n      <td>C01</td>\n      <td>M</td>\n      <td>2018-06-07 00:00:00</td>\n      <td>2019-03-31 00:00:00</td>\n      <td>CA2</td>\n      <td>1</td>\n      <td>入会費半額</td>\n      <td>オールタイム</td>\n      <td>10500</td>\n      <td>2018-06-07</td>\n      <td>2019-03-31</td>\n      <td>4.000000</td>\n      <td>4.0</td>\n      <td>8</td>\n      <td>1</td>\n    </tr>\n    <tr>\n      <th>2</th>\n      <td>AS009013</td>\n      <td>0</td>\n      <td>XXXXX</td>\n      <td>C03</td>\n      <td>M</td>\n      <td>2017-08-01 00:00:00</td>\n      <td>2018-04-30 00:00:00</td>\n      <td>CA2</td>\n      <td>1</td>\n      <td>入会費半額</td>\n      <td>ナイト</td>\n      <td>6000</td>\n      <td>2017-08-01</td>\n      <td>2018-04-30</td>\n      <td>2.000000</td>\n      <td>2.0</td>\n      <td>2</td>\n      <td>2</td>\n    </tr>\n    <tr>\n      <th>3</th>\n      <td>AS009373</td>\n      <td>1</td>\n      <td>XX</td>\n      <td>C01</td>\n      <td>F</td>\n      <td>2015-11-01 00:00:00</td>\n      <td>NaN</td>\n      <td>CA1</td>\n      <td>0</td>\n      <td>通常</td>\n      <td>オールタイム</td>\n      <td>10500</td>\n      <td>2015-11-01</td>\n      <td>NaT</td>\n      <td>5.083333</td>\n      <td>5.0</td>\n      <td>7</td>\n      <td>3</td>\n    </tr>\n    <tr>\n      <th>4</th>\n      <td>AS015233</td>\n      <td>1</td>\n      <td>XXXXX</td>\n      <td>C01</td>\n      <td>M</td>\n      <td>2018-05-13 00:00:00</td>\n      <td>NaN</td>\n      <td>CA2</td>\n      <td>0</td>\n      <td>入会費半額</td>\n      <td>オールタイム</td>\n      <td>10500</td>\n      <td>2018-05-13</td>\n      <td>NaT</td>\n      <td>7.545455</td>\n      <td>7.0</td>\n      <td>11</td>\n      <td>4</td>\n    </tr>\n  </tbody>\n</table>\n</div>"
     },
     "metadata": {},
     "execution_count": 292
    }
   ],
   "source": [
    "customer_join = pd.merge(weekday_customer_join_data, use_log_customer, left_on=\"customer_id\", right_on=\"customer_id\", how=\"left\")\n",
    "customer_join.head()"
   ]
  },
  {
   "cell_type": "code",
   "execution_count": 290,
   "metadata": {},
   "outputs": [
    {
     "output_type": "execute_result",
     "data": {
      "text/plain": [
       "customer_id         0\n",
       "routine_flg         0\n",
       "name                0\n",
       "class               0\n",
       "gender              0\n",
       "start_date          0\n",
       "end_date            0\n",
       "campaign_id         0\n",
       "is_deleted          0\n",
       "campaign_name       0\n",
       "class_name          0\n",
       "price               0\n",
       "customer_start      0\n",
       "customer_end        0\n",
       "mean                0\n",
       "median              0\n",
       "max                 0\n",
       "min                 0\n",
       "tmp_customer_end    0\n",
       "dtype: int64"
      ]
     },
     "metadata": {},
     "execution_count": 290
    }
   ],
   "source": [
    "customer_join.isnull().sum()"
   ]
  },
  {
   "cell_type": "code",
   "execution_count": 328,
   "metadata": {
    "tags": []
   },
   "outputs": [
    {
     "output_type": "execute_result",
     "data": {
      "text/plain": [
       "     customer_id  routine_flg    name class gender           start_date  \\\n",
       "0       AS002855            1    XXXX   C03      F  2016-11-01 00:00:00   \n",
       "1       AS008805            1   XXXXX   C01      M  2018-06-07 00:00:00   \n",
       "2       AS009013            0   XXXXX   C03      M  2017-08-01 00:00:00   \n",
       "3       AS009373            1      XX   C01      F  2015-11-01 00:00:00   \n",
       "4       AS015233            1   XXXXX   C01      M  2018-05-13 00:00:00   \n",
       "...          ...          ...     ...   ...    ...                  ...   \n",
       "4187    TS995853            1    XXXX   C01      M  2019-02-08 00:00:00   \n",
       "4188    TS998593            1   XXXXX   C03      M  2018-09-01 00:00:00   \n",
       "4189    TS999079            1     XXX   C03      M  2016-06-01 00:00:00   \n",
       "4190    TS999231            1    XXXX   C01      M  2017-03-01 00:00:00   \n",
       "4191    TS999855            1  XXXXXX   C01      F  2017-04-01 00:00:00   \n",
       "\n",
       "                 end_date campaign_id  is_deleted campaign_name class_name  \\\n",
       "0                     NaN         CA1           0            通常        ナイト   \n",
       "1     2019-03-31 00:00:00         CA2           1         入会費半額     オールタイム   \n",
       "2     2018-04-30 00:00:00         CA2           1         入会費半額        ナイト   \n",
       "3                     NaN         CA1           0            通常     オールタイム   \n",
       "4                     NaN         CA2           0         入会費半額     オールタイム   \n",
       "...                   ...         ...         ...           ...        ...   \n",
       "4187                  NaN         CA1           0            通常     オールタイム   \n",
       "4188                  NaN         CA1           0            通常        ナイト   \n",
       "4189                  NaN         CA1           0            通常        ナイト   \n",
       "4190                  NaN         CA1           0            通常     オールタイム   \n",
       "4191                  NaN         CA1           0            通常     オールタイム   \n",
       "\n",
       "      price customer_start customer_end      mean  median  max  min  \\\n",
       "0      6000     2016-11-01          NaT  4.500000     5.0    7    2   \n",
       "1     10500     2018-06-07   2019-03-31  4.000000     4.0    8    1   \n",
       "2      6000     2017-08-01   2018-04-30  2.000000     2.0    2    2   \n",
       "3     10500     2015-11-01          NaT  5.083333     5.0    7    3   \n",
       "4     10500     2018-05-13          NaT  7.545455     7.0   11    4   \n",
       "...     ...            ...          ...       ...     ...  ...  ...   \n",
       "4187  10500     2019-02-08          NaT  9.500000     9.5   11    8   \n",
       "4188   6000     2018-09-01          NaT  8.142857     8.0    9    7   \n",
       "4189   6000     2016-06-01          NaT  4.916667     5.5    9    2   \n",
       "4190  10500     2017-03-01          NaT  4.666667     5.0    8    1   \n",
       "4191  10500     2017-04-01          NaT  4.583333     4.0    7    3   \n",
       "\n",
       "     tmp_customer_end  membership_period  \n",
       "0          2019-04-30                 29  \n",
       "1          2019-03-31                  9  \n",
       "2          2018-04-30                  8  \n",
       "3          2019-04-30                 41  \n",
       "4          2019-04-30                 11  \n",
       "...               ...                ...  \n",
       "4187       2019-04-30                  2  \n",
       "4188       2019-04-30                  7  \n",
       "4189       2019-04-30                 34  \n",
       "4190       2019-04-30                 25  \n",
       "4191       2019-04-30                 24  \n",
       "\n",
       "[4192 rows x 20 columns]"
      ],
      "text/html": "<div>\n<style scoped>\n    .dataframe tbody tr th:only-of-type {\n        vertical-align: middle;\n    }\n\n    .dataframe tbody tr th {\n        vertical-align: top;\n    }\n\n    .dataframe thead th {\n        text-align: right;\n    }\n</style>\n<table border=\"1\" class=\"dataframe\">\n  <thead>\n    <tr style=\"text-align: right;\">\n      <th></th>\n      <th>customer_id</th>\n      <th>routine_flg</th>\n      <th>name</th>\n      <th>class</th>\n      <th>gender</th>\n      <th>start_date</th>\n      <th>end_date</th>\n      <th>campaign_id</th>\n      <th>is_deleted</th>\n      <th>campaign_name</th>\n      <th>class_name</th>\n      <th>price</th>\n      <th>customer_start</th>\n      <th>customer_end</th>\n      <th>mean</th>\n      <th>median</th>\n      <th>max</th>\n      <th>min</th>\n      <th>tmp_customer_end</th>\n      <th>membership_period</th>\n    </tr>\n  </thead>\n  <tbody>\n    <tr>\n      <th>0</th>\n      <td>AS002855</td>\n      <td>1</td>\n      <td>XXXX</td>\n      <td>C03</td>\n      <td>F</td>\n      <td>2016-11-01 00:00:00</td>\n      <td>NaN</td>\n      <td>CA1</td>\n      <td>0</td>\n      <td>通常</td>\n      <td>ナイト</td>\n      <td>6000</td>\n      <td>2016-11-01</td>\n      <td>NaT</td>\n      <td>4.500000</td>\n      <td>5.0</td>\n      <td>7</td>\n      <td>2</td>\n      <td>2019-04-30</td>\n      <td>29</td>\n    </tr>\n    <tr>\n      <th>1</th>\n      <td>AS008805</td>\n      <td>1</td>\n      <td>XXXXX</td>\n      <td>C01</td>\n      <td>M</td>\n      <td>2018-06-07 00:00:00</td>\n      <td>2019-03-31 00:00:00</td>\n      <td>CA2</td>\n      <td>1</td>\n      <td>入会費半額</td>\n      <td>オールタイム</td>\n      <td>10500</td>\n      <td>2018-06-07</td>\n      <td>2019-03-31</td>\n      <td>4.000000</td>\n      <td>4.0</td>\n      <td>8</td>\n      <td>1</td>\n      <td>2019-03-31</td>\n      <td>9</td>\n    </tr>\n    <tr>\n      <th>2</th>\n      <td>AS009013</td>\n      <td>0</td>\n      <td>XXXXX</td>\n      <td>C03</td>\n      <td>M</td>\n      <td>2017-08-01 00:00:00</td>\n      <td>2018-04-30 00:00:00</td>\n      <td>CA2</td>\n      <td>1</td>\n      <td>入会費半額</td>\n      <td>ナイト</td>\n      <td>6000</td>\n      <td>2017-08-01</td>\n      <td>2018-04-30</td>\n      <td>2.000000</td>\n      <td>2.0</td>\n      <td>2</td>\n      <td>2</td>\n      <td>2018-04-30</td>\n      <td>8</td>\n    </tr>\n    <tr>\n      <th>3</th>\n      <td>AS009373</td>\n      <td>1</td>\n      <td>XX</td>\n      <td>C01</td>\n      <td>F</td>\n      <td>2015-11-01 00:00:00</td>\n      <td>NaN</td>\n      <td>CA1</td>\n      <td>0</td>\n      <td>通常</td>\n      <td>オールタイム</td>\n      <td>10500</td>\n      <td>2015-11-01</td>\n      <td>NaT</td>\n      <td>5.083333</td>\n      <td>5.0</td>\n      <td>7</td>\n      <td>3</td>\n      <td>2019-04-30</td>\n      <td>41</td>\n    </tr>\n    <tr>\n      <th>4</th>\n      <td>AS015233</td>\n      <td>1</td>\n      <td>XXXXX</td>\n      <td>C01</td>\n      <td>M</td>\n      <td>2018-05-13 00:00:00</td>\n      <td>NaN</td>\n      <td>CA2</td>\n      <td>0</td>\n      <td>入会費半額</td>\n      <td>オールタイム</td>\n      <td>10500</td>\n      <td>2018-05-13</td>\n      <td>NaT</td>\n      <td>7.545455</td>\n      <td>7.0</td>\n      <td>11</td>\n      <td>4</td>\n      <td>2019-04-30</td>\n      <td>11</td>\n    </tr>\n    <tr>\n      <th>...</th>\n      <td>...</td>\n      <td>...</td>\n      <td>...</td>\n      <td>...</td>\n      <td>...</td>\n      <td>...</td>\n      <td>...</td>\n      <td>...</td>\n      <td>...</td>\n      <td>...</td>\n      <td>...</td>\n      <td>...</td>\n      <td>...</td>\n      <td>...</td>\n      <td>...</td>\n      <td>...</td>\n      <td>...</td>\n      <td>...</td>\n      <td>...</td>\n      <td>...</td>\n    </tr>\n    <tr>\n      <th>4187</th>\n      <td>TS995853</td>\n      <td>1</td>\n      <td>XXXX</td>\n      <td>C01</td>\n      <td>M</td>\n      <td>2019-02-08 00:00:00</td>\n      <td>NaN</td>\n      <td>CA1</td>\n      <td>0</td>\n      <td>通常</td>\n      <td>オールタイム</td>\n      <td>10500</td>\n      <td>2019-02-08</td>\n      <td>NaT</td>\n      <td>9.500000</td>\n      <td>9.5</td>\n      <td>11</td>\n      <td>8</td>\n      <td>2019-04-30</td>\n      <td>2</td>\n    </tr>\n    <tr>\n      <th>4188</th>\n      <td>TS998593</td>\n      <td>1</td>\n      <td>XXXXX</td>\n      <td>C03</td>\n      <td>M</td>\n      <td>2018-09-01 00:00:00</td>\n      <td>NaN</td>\n      <td>CA1</td>\n      <td>0</td>\n      <td>通常</td>\n      <td>ナイト</td>\n      <td>6000</td>\n      <td>2018-09-01</td>\n      <td>NaT</td>\n      <td>8.142857</td>\n      <td>8.0</td>\n      <td>9</td>\n      <td>7</td>\n      <td>2019-04-30</td>\n      <td>7</td>\n    </tr>\n    <tr>\n      <th>4189</th>\n      <td>TS999079</td>\n      <td>1</td>\n      <td>XXX</td>\n      <td>C03</td>\n      <td>M</td>\n      <td>2016-06-01 00:00:00</td>\n      <td>NaN</td>\n      <td>CA1</td>\n      <td>0</td>\n      <td>通常</td>\n      <td>ナイト</td>\n      <td>6000</td>\n      <td>2016-06-01</td>\n      <td>NaT</td>\n      <td>4.916667</td>\n      <td>5.5</td>\n      <td>9</td>\n      <td>2</td>\n      <td>2019-04-30</td>\n      <td>34</td>\n    </tr>\n    <tr>\n      <th>4190</th>\n      <td>TS999231</td>\n      <td>1</td>\n      <td>XXXX</td>\n      <td>C01</td>\n      <td>M</td>\n      <td>2017-03-01 00:00:00</td>\n      <td>NaN</td>\n      <td>CA1</td>\n      <td>0</td>\n      <td>通常</td>\n      <td>オールタイム</td>\n      <td>10500</td>\n      <td>2017-03-01</td>\n      <td>NaT</td>\n      <td>4.666667</td>\n      <td>5.0</td>\n      <td>8</td>\n      <td>1</td>\n      <td>2019-04-30</td>\n      <td>25</td>\n    </tr>\n    <tr>\n      <th>4191</th>\n      <td>TS999855</td>\n      <td>1</td>\n      <td>XXXXXX</td>\n      <td>C01</td>\n      <td>F</td>\n      <td>2017-04-01 00:00:00</td>\n      <td>NaN</td>\n      <td>CA1</td>\n      <td>0</td>\n      <td>通常</td>\n      <td>オールタイム</td>\n      <td>10500</td>\n      <td>2017-04-01</td>\n      <td>NaT</td>\n      <td>4.583333</td>\n      <td>4.0</td>\n      <td>7</td>\n      <td>3</td>\n      <td>2019-04-30</td>\n      <td>24</td>\n    </tr>\n  </tbody>\n</table>\n<p>4192 rows × 20 columns</p>\n</div>"
     },
     "metadata": {},
     "execution_count": 328
    }
   ],
   "source": [
    "from dateutil.relativedelta import relativedelta\n",
    "customer_join[\"tmp_customer_end\"] = customer_join[\"customer_end\"]\n",
    "customer_join[\"tmp_customer_end\"] = customer_join[\"tmp_customer_end\"].fillna(pd.to_datetime(\"2019-04-30\"))\n",
    "customer_join[\"membership_period\"] = 0\n",
    "for i in range(len(customer_join)):\n",
    "    # iloc[index]で、indexでdataframeの各データを取得できる\n",
    "    delta = relativedelta(customer_join[\"tmp_customer_end\"].iloc[i], customer_join[\"customer_start\"].iloc[i])\n",
    "    customer_join[\"membership_period\"].iloc[i] = delta.years*12 + delta.months\n",
    "\n",
    "customer_join"
   ]
  },
  {
   "cell_type": "code",
   "execution_count": 331,
   "metadata": {},
   "outputs": [
    {
     "output_type": "execute_result",
     "data": {
      "text/plain": [
       "              mean       median          max          min\n",
       "count  4192.000000  4192.000000  4192.000000  4192.000000\n",
       "mean      5.333127     5.250596     7.823950     3.041269\n",
       "std       1.777533     1.874874     2.168959     1.951565\n",
       "min       1.000000     1.000000     1.000000     1.000000\n",
       "25%       4.250000     4.000000     7.000000     2.000000\n",
       "50%       5.000000     5.000000     8.000000     3.000000\n",
       "75%       6.416667     6.500000     9.000000     4.000000\n",
       "max      12.000000    12.000000    14.000000    12.000000"
      ],
      "text/html": "<div>\n<style scoped>\n    .dataframe tbody tr th:only-of-type {\n        vertical-align: middle;\n    }\n\n    .dataframe tbody tr th {\n        vertical-align: top;\n    }\n\n    .dataframe thead th {\n        text-align: right;\n    }\n</style>\n<table border=\"1\" class=\"dataframe\">\n  <thead>\n    <tr style=\"text-align: right;\">\n      <th></th>\n      <th>mean</th>\n      <th>median</th>\n      <th>max</th>\n      <th>min</th>\n    </tr>\n  </thead>\n  <tbody>\n    <tr>\n      <th>count</th>\n      <td>4192.000000</td>\n      <td>4192.000000</td>\n      <td>4192.000000</td>\n      <td>4192.000000</td>\n    </tr>\n    <tr>\n      <th>mean</th>\n      <td>5.333127</td>\n      <td>5.250596</td>\n      <td>7.823950</td>\n      <td>3.041269</td>\n    </tr>\n    <tr>\n      <th>std</th>\n      <td>1.777533</td>\n      <td>1.874874</td>\n      <td>2.168959</td>\n      <td>1.951565</td>\n    </tr>\n    <tr>\n      <th>min</th>\n      <td>1.000000</td>\n      <td>1.000000</td>\n      <td>1.000000</td>\n      <td>1.000000</td>\n    </tr>\n    <tr>\n      <th>25%</th>\n      <td>4.250000</td>\n      <td>4.000000</td>\n      <td>7.000000</td>\n      <td>2.000000</td>\n    </tr>\n    <tr>\n      <th>50%</th>\n      <td>5.000000</td>\n      <td>5.000000</td>\n      <td>8.000000</td>\n      <td>3.000000</td>\n    </tr>\n    <tr>\n      <th>75%</th>\n      <td>6.416667</td>\n      <td>6.500000</td>\n      <td>9.000000</td>\n      <td>4.000000</td>\n    </tr>\n    <tr>\n      <th>max</th>\n      <td>12.000000</td>\n      <td>12.000000</td>\n      <td>14.000000</td>\n      <td>12.000000</td>\n    </tr>\n  </tbody>\n</table>\n</div>"
     },
     "metadata": {},
     "execution_count": 331
    }
   ],
   "source": [
    "customer_join[[\"mean\", \"median\", \"max\", \"min\"]].describe()"
   ]
  },
  {
   "cell_type": "code",
   "execution_count": 337,
   "metadata": {},
   "outputs": [
    {
     "output_type": "execute_result",
     "data": {
      "text/plain": [
       "             customer_id\n",
       "routine_flg             \n",
       "0                    779\n",
       "1                   3413"
      ],
      "text/html": "<div>\n<style scoped>\n    .dataframe tbody tr th:only-of-type {\n        vertical-align: middle;\n    }\n\n    .dataframe tbody tr th {\n        vertical-align: top;\n    }\n\n    .dataframe thead th {\n        text-align: right;\n    }\n</style>\n<table border=\"1\" class=\"dataframe\">\n  <thead>\n    <tr style=\"text-align: right;\">\n      <th></th>\n      <th>customer_id</th>\n    </tr>\n    <tr>\n      <th>routine_flg</th>\n      <th></th>\n    </tr>\n  </thead>\n  <tbody>\n    <tr>\n      <th>0</th>\n      <td>779</td>\n    </tr>\n    <tr>\n      <th>1</th>\n      <td>3413</td>\n    </tr>\n  </tbody>\n</table>\n</div>"
     },
     "metadata": {},
     "execution_count": 337
    }
   ],
   "source": [
    "customer_join.groupby(\"routine_flg\").count()[[\"customer_id\"]]"
   ]
  },
  {
   "cell_type": "code",
   "execution_count": 343,
   "metadata": {},
   "outputs": [
    {
     "output_type": "execute_result",
     "data": {
      "text/plain": [
       "(array([857., 774., 395., 368., 311., 331., 323., 237., 288., 308.]),\n",
       " array([ 1. ,  5.6, 10.2, 14.8, 19.4, 24. , 28.6, 33.2, 37.8, 42.4, 47. ]),\n",
       " <BarContainer object of 10 artists>)"
      ]
     },
     "metadata": {},
     "execution_count": 343
    },
    {
     "output_type": "display_data",
     "data": {
      "text/plain": "<Figure size 432x288 with 1 Axes>",
      "image/svg+xml": "<?xml version=\"1.0\" encoding=\"utf-8\" standalone=\"no\"?>\n<!DOCTYPE svg PUBLIC \"-//W3C//DTD SVG 1.1//EN\"\n  \"http://www.w3.org/Graphics/SVG/1.1/DTD/svg11.dtd\">\n<!-- Created with matplotlib (https://matplotlib.org/) -->\n<svg height=\"248.518125pt\" version=\"1.1\" viewBox=\"0 0 375.2875 248.518125\" width=\"375.2875pt\" xmlns=\"http://www.w3.org/2000/svg\" xmlns:xlink=\"http://www.w3.org/1999/xlink\">\n <metadata>\n  <rdf:RDF xmlns:cc=\"http://creativecommons.org/ns#\" xmlns:dc=\"http://purl.org/dc/elements/1.1/\" xmlns:rdf=\"http://www.w3.org/1999/02/22-rdf-syntax-ns#\">\n   <cc:Work>\n    <dc:type rdf:resource=\"http://purl.org/dc/dcmitype/StillImage\"/>\n    <dc:date>2021-01-01T12:37:55.473676</dc:date>\n    <dc:format>image/svg+xml</dc:format>\n    <dc:creator>\n     <cc:Agent>\n      <dc:title>Matplotlib v3.3.2, https://matplotlib.org/</dc:title>\n     </cc:Agent>\n    </dc:creator>\n   </cc:Work>\n  </rdf:RDF>\n </metadata>\n <defs>\n  <style type=\"text/css\">*{stroke-linecap:butt;stroke-linejoin:round;}</style>\n </defs>\n <g id=\"figure_1\">\n  <g id=\"patch_1\">\n   <path d=\"M 0 248.518125 \nL 375.2875 248.518125 \nL 375.2875 0 \nL 0 0 \nz\n\" style=\"fill:none;\"/>\n  </g>\n  <g id=\"axes_1\">\n   <g id=\"patch_2\">\n    <path d=\"M 33.2875 224.64 \nL 368.0875 224.64 \nL 368.0875 7.2 \nL 33.2875 7.2 \nz\n\" style=\"fill:#ffffff;\"/>\n   </g>\n   <g id=\"patch_3\">\n    <path clip-path=\"url(#p7620c6ef5a)\" d=\"M 48.505682 224.64 \nL 78.942045 224.64 \nL 78.942045 17.554286 \nL 48.505682 17.554286 \nz\n\" style=\"fill:#1f77b4;\"/>\n   </g>\n   <g id=\"patch_4\">\n    <path clip-path=\"url(#p7620c6ef5a)\" d=\"M 78.942045 224.64 \nL 109.378409 224.64 \nL 109.378409 37.610428 \nL 78.942045 37.610428 \nz\n\" style=\"fill:#1f77b4;\"/>\n   </g>\n   <g id=\"patch_5\">\n    <path clip-path=\"url(#p7620c6ef5a)\" d=\"M 109.378409 224.64 \nL 139.814773 224.64 \nL 139.814773 129.192092 \nL 109.378409 129.192092 \nz\n\" style=\"fill:#1f77b4;\"/>\n   </g>\n   <g id=\"patch_6\">\n    <path clip-path=\"url(#p7620c6ef5a)\" d=\"M 139.814773 224.64 \nL 170.251136 224.64 \nL 170.251136 135.716379 \nL 139.814773 135.716379 \nz\n\" style=\"fill:#1f77b4;\"/>\n   </g>\n   <g id=\"patch_7\">\n    <path clip-path=\"url(#p7620c6ef5a)\" d=\"M 170.251136 224.64 \nL 200.6875 224.64 \nL 200.6875 149.489875 \nL 170.251136 149.489875 \nz\n\" style=\"fill:#1f77b4;\"/>\n   </g>\n   <g id=\"patch_8\">\n    <path clip-path=\"url(#p7620c6ef5a)\" d=\"M 200.6875 224.64 \nL 231.123864 224.64 \nL 231.123864 144.65707 \nL 200.6875 144.65707 \nz\n\" style=\"fill:#1f77b4;\"/>\n   </g>\n   <g id=\"patch_9\">\n    <path clip-path=\"url(#p7620c6ef5a)\" d=\"M 231.123864 224.64 \nL 261.560227 224.64 \nL 261.560227 146.590192 \nL 231.123864 146.590192 \nz\n\" style=\"fill:#1f77b4;\"/>\n   </g>\n   <g id=\"patch_10\">\n    <path clip-path=\"url(#p7620c6ef5a)\" d=\"M 261.560227 224.64 \nL 291.996591 224.64 \nL 291.996591 167.371255 \nL 261.560227 167.371255 \nz\n\" style=\"fill:#1f77b4;\"/>\n   </g>\n   <g id=\"patch_11\">\n    <path clip-path=\"url(#p7620c6ef5a)\" d=\"M 291.996591 224.64 \nL 322.432955 224.64 \nL 322.432955 155.047601 \nL 291.996591 155.047601 \nz\n\" style=\"fill:#1f77b4;\"/>\n   </g>\n   <g id=\"patch_12\">\n    <path clip-path=\"url(#p7620c6ef5a)\" d=\"M 322.432955 224.64 \nL 352.869318 224.64 \nL 352.869318 150.214796 \nL 322.432955 150.214796 \nz\n\" style=\"fill:#1f77b4;\"/>\n   </g>\n   <g id=\"matplotlib.axis_1\">\n    <g id=\"xtick_1\">\n     <g id=\"line2d_1\">\n      <defs>\n       <path d=\"M 0 0 \nL 0 3.5 \n\" id=\"mc05be27046\" style=\"stroke:#000000;stroke-width:0.8;\"/>\n      </defs>\n      <g>\n       <use style=\"stroke:#000000;stroke-width:0.8;\" x=\"41.889081\" xlink:href=\"#mc05be27046\" y=\"224.64\"/>\n      </g>\n     </g>\n     <g id=\"text_1\">\n      <!-- 0 -->\n      <g transform=\"translate(38.707831 239.238437)scale(0.1 -0.1)\">\n       <defs>\n        <path d=\"M 31.78125 66.40625 \nQ 24.171875 66.40625 20.328125 58.90625 \nQ 16.5 51.421875 16.5 36.375 \nQ 16.5 21.390625 20.328125 13.890625 \nQ 24.171875 6.390625 31.78125 6.390625 \nQ 39.453125 6.390625 43.28125 13.890625 \nQ 47.125 21.390625 47.125 36.375 \nQ 47.125 51.421875 43.28125 58.90625 \nQ 39.453125 66.40625 31.78125 66.40625 \nz\nM 31.78125 74.21875 \nQ 44.046875 74.21875 50.515625 64.515625 \nQ 56.984375 54.828125 56.984375 36.375 \nQ 56.984375 17.96875 50.515625 8.265625 \nQ 44.046875 -1.421875 31.78125 -1.421875 \nQ 19.53125 -1.421875 13.0625 8.265625 \nQ 6.59375 17.96875 6.59375 36.375 \nQ 6.59375 54.828125 13.0625 64.515625 \nQ 19.53125 74.21875 31.78125 74.21875 \nz\n\" id=\"DejaVuSans-48\"/>\n       </defs>\n       <use xlink:href=\"#DejaVuSans-48\"/>\n      </g>\n     </g>\n    </g>\n    <g id=\"xtick_2\">\n     <g id=\"line2d_2\">\n      <g>\n       <use style=\"stroke:#000000;stroke-width:0.8;\" x=\"108.055089\" xlink:href=\"#mc05be27046\" y=\"224.64\"/>\n      </g>\n     </g>\n     <g id=\"text_2\">\n      <!-- 10 -->\n      <g transform=\"translate(101.692589 239.238437)scale(0.1 -0.1)\">\n       <defs>\n        <path d=\"M 12.40625 8.296875 \nL 28.515625 8.296875 \nL 28.515625 63.921875 \nL 10.984375 60.40625 \nL 10.984375 69.390625 \nL 28.421875 72.90625 \nL 38.28125 72.90625 \nL 38.28125 8.296875 \nL 54.390625 8.296875 \nL 54.390625 0 \nL 12.40625 0 \nz\n\" id=\"DejaVuSans-49\"/>\n       </defs>\n       <use xlink:href=\"#DejaVuSans-49\"/>\n       <use x=\"63.623047\" xlink:href=\"#DejaVuSans-48\"/>\n      </g>\n     </g>\n    </g>\n    <g id=\"xtick_3\">\n     <g id=\"line2d_3\">\n      <g>\n       <use style=\"stroke:#000000;stroke-width:0.8;\" x=\"174.221097\" xlink:href=\"#mc05be27046\" y=\"224.64\"/>\n      </g>\n     </g>\n     <g id=\"text_3\">\n      <!-- 20 -->\n      <g transform=\"translate(167.858597 239.238437)scale(0.1 -0.1)\">\n       <defs>\n        <path d=\"M 19.1875 8.296875 \nL 53.609375 8.296875 \nL 53.609375 0 \nL 7.328125 0 \nL 7.328125 8.296875 \nQ 12.9375 14.109375 22.625 23.890625 \nQ 32.328125 33.6875 34.8125 36.53125 \nQ 39.546875 41.84375 41.421875 45.53125 \nQ 43.3125 49.21875 43.3125 52.78125 \nQ 43.3125 58.59375 39.234375 62.25 \nQ 35.15625 65.921875 28.609375 65.921875 \nQ 23.96875 65.921875 18.8125 64.3125 \nQ 13.671875 62.703125 7.8125 59.421875 \nL 7.8125 69.390625 \nQ 13.765625 71.78125 18.9375 73 \nQ 24.125 74.21875 28.421875 74.21875 \nQ 39.75 74.21875 46.484375 68.546875 \nQ 53.21875 62.890625 53.21875 53.421875 \nQ 53.21875 48.921875 51.53125 44.890625 \nQ 49.859375 40.875 45.40625 35.40625 \nQ 44.1875 33.984375 37.640625 27.21875 \nQ 31.109375 20.453125 19.1875 8.296875 \nz\n\" id=\"DejaVuSans-50\"/>\n       </defs>\n       <use xlink:href=\"#DejaVuSans-50\"/>\n       <use x=\"63.623047\" xlink:href=\"#DejaVuSans-48\"/>\n      </g>\n     </g>\n    </g>\n    <g id=\"xtick_4\">\n     <g id=\"line2d_4\">\n      <g>\n       <use style=\"stroke:#000000;stroke-width:0.8;\" x=\"240.387105\" xlink:href=\"#mc05be27046\" y=\"224.64\"/>\n      </g>\n     </g>\n     <g id=\"text_4\">\n      <!-- 30 -->\n      <g transform=\"translate(234.024605 239.238437)scale(0.1 -0.1)\">\n       <defs>\n        <path d=\"M 40.578125 39.3125 \nQ 47.65625 37.796875 51.625 33 \nQ 55.609375 28.21875 55.609375 21.1875 \nQ 55.609375 10.40625 48.1875 4.484375 \nQ 40.765625 -1.421875 27.09375 -1.421875 \nQ 22.515625 -1.421875 17.65625 -0.515625 \nQ 12.796875 0.390625 7.625 2.203125 \nL 7.625 11.71875 \nQ 11.71875 9.328125 16.59375 8.109375 \nQ 21.484375 6.890625 26.8125 6.890625 \nQ 36.078125 6.890625 40.9375 10.546875 \nQ 45.796875 14.203125 45.796875 21.1875 \nQ 45.796875 27.640625 41.28125 31.265625 \nQ 36.765625 34.90625 28.71875 34.90625 \nL 20.21875 34.90625 \nL 20.21875 43.015625 \nL 29.109375 43.015625 \nQ 36.375 43.015625 40.234375 45.921875 \nQ 44.09375 48.828125 44.09375 54.296875 \nQ 44.09375 59.90625 40.109375 62.90625 \nQ 36.140625 65.921875 28.71875 65.921875 \nQ 24.65625 65.921875 20.015625 65.03125 \nQ 15.375 64.15625 9.8125 62.3125 \nL 9.8125 71.09375 \nQ 15.4375 72.65625 20.34375 73.4375 \nQ 25.25 74.21875 29.59375 74.21875 \nQ 40.828125 74.21875 47.359375 69.109375 \nQ 53.90625 64.015625 53.90625 55.328125 \nQ 53.90625 49.265625 50.4375 45.09375 \nQ 46.96875 40.921875 40.578125 39.3125 \nz\n\" id=\"DejaVuSans-51\"/>\n       </defs>\n       <use xlink:href=\"#DejaVuSans-51\"/>\n       <use x=\"63.623047\" xlink:href=\"#DejaVuSans-48\"/>\n      </g>\n     </g>\n    </g>\n    <g id=\"xtick_5\">\n     <g id=\"line2d_5\">\n      <g>\n       <use style=\"stroke:#000000;stroke-width:0.8;\" x=\"306.553113\" xlink:href=\"#mc05be27046\" y=\"224.64\"/>\n      </g>\n     </g>\n     <g id=\"text_5\">\n      <!-- 40 -->\n      <g transform=\"translate(300.190613 239.238437)scale(0.1 -0.1)\">\n       <defs>\n        <path d=\"M 37.796875 64.3125 \nL 12.890625 25.390625 \nL 37.796875 25.390625 \nz\nM 35.203125 72.90625 \nL 47.609375 72.90625 \nL 47.609375 25.390625 \nL 58.015625 25.390625 \nL 58.015625 17.1875 \nL 47.609375 17.1875 \nL 47.609375 0 \nL 37.796875 0 \nL 37.796875 17.1875 \nL 4.890625 17.1875 \nL 4.890625 26.703125 \nz\n\" id=\"DejaVuSans-52\"/>\n       </defs>\n       <use xlink:href=\"#DejaVuSans-52\"/>\n       <use x=\"63.623047\" xlink:href=\"#DejaVuSans-48\"/>\n      </g>\n     </g>\n    </g>\n   </g>\n   <g id=\"matplotlib.axis_2\">\n    <g id=\"ytick_1\">\n     <g id=\"line2d_6\">\n      <defs>\n       <path d=\"M 0 0 \nL -3.5 0 \n\" id=\"m2b0f6397c9\" style=\"stroke:#000000;stroke-width:0.8;\"/>\n      </defs>\n      <g>\n       <use style=\"stroke:#000000;stroke-width:0.8;\" x=\"33.2875\" xlink:href=\"#m2b0f6397c9\" y=\"224.64\"/>\n      </g>\n     </g>\n     <g id=\"text_6\">\n      <!-- 0 -->\n      <g transform=\"translate(19.925 228.439219)scale(0.1 -0.1)\">\n       <use xlink:href=\"#DejaVuSans-48\"/>\n      </g>\n     </g>\n    </g>\n    <g id=\"ytick_2\">\n     <g id=\"line2d_7\">\n      <g>\n       <use style=\"stroke:#000000;stroke-width:0.8;\" x=\"33.2875\" xlink:href=\"#m2b0f6397c9\" y=\"200.475973\"/>\n      </g>\n     </g>\n     <g id=\"text_7\">\n      <!-- 100 -->\n      <g transform=\"translate(7.2 204.275191)scale(0.1 -0.1)\">\n       <use xlink:href=\"#DejaVuSans-49\"/>\n       <use x=\"63.623047\" xlink:href=\"#DejaVuSans-48\"/>\n       <use x=\"127.246094\" xlink:href=\"#DejaVuSans-48\"/>\n      </g>\n     </g>\n    </g>\n    <g id=\"ytick_3\">\n     <g id=\"line2d_8\">\n      <g>\n       <use style=\"stroke:#000000;stroke-width:0.8;\" x=\"33.2875\" xlink:href=\"#m2b0f6397c9\" y=\"176.311945\"/>\n      </g>\n     </g>\n     <g id=\"text_8\">\n      <!-- 200 -->\n      <g transform=\"translate(7.2 180.111164)scale(0.1 -0.1)\">\n       <use xlink:href=\"#DejaVuSans-50\"/>\n       <use x=\"63.623047\" xlink:href=\"#DejaVuSans-48\"/>\n       <use x=\"127.246094\" xlink:href=\"#DejaVuSans-48\"/>\n      </g>\n     </g>\n    </g>\n    <g id=\"ytick_4\">\n     <g id=\"line2d_9\">\n      <g>\n       <use style=\"stroke:#000000;stroke-width:0.8;\" x=\"33.2875\" xlink:href=\"#m2b0f6397c9\" y=\"152.147918\"/>\n      </g>\n     </g>\n     <g id=\"text_9\">\n      <!-- 300 -->\n      <g transform=\"translate(7.2 155.947137)scale(0.1 -0.1)\">\n       <use xlink:href=\"#DejaVuSans-51\"/>\n       <use x=\"63.623047\" xlink:href=\"#DejaVuSans-48\"/>\n       <use x=\"127.246094\" xlink:href=\"#DejaVuSans-48\"/>\n      </g>\n     </g>\n    </g>\n    <g id=\"ytick_5\">\n     <g id=\"line2d_10\">\n      <g>\n       <use style=\"stroke:#000000;stroke-width:0.8;\" x=\"33.2875\" xlink:href=\"#m2b0f6397c9\" y=\"127.983891\"/>\n      </g>\n     </g>\n     <g id=\"text_10\">\n      <!-- 400 -->\n      <g transform=\"translate(7.2 131.783109)scale(0.1 -0.1)\">\n       <use xlink:href=\"#DejaVuSans-52\"/>\n       <use x=\"63.623047\" xlink:href=\"#DejaVuSans-48\"/>\n       <use x=\"127.246094\" xlink:href=\"#DejaVuSans-48\"/>\n      </g>\n     </g>\n    </g>\n    <g id=\"ytick_6\">\n     <g id=\"line2d_11\">\n      <g>\n       <use style=\"stroke:#000000;stroke-width:0.8;\" x=\"33.2875\" xlink:href=\"#m2b0f6397c9\" y=\"103.819863\"/>\n      </g>\n     </g>\n     <g id=\"text_11\">\n      <!-- 500 -->\n      <g transform=\"translate(7.2 107.619082)scale(0.1 -0.1)\">\n       <defs>\n        <path d=\"M 10.796875 72.90625 \nL 49.515625 72.90625 \nL 49.515625 64.59375 \nL 19.828125 64.59375 \nL 19.828125 46.734375 \nQ 21.96875 47.46875 24.109375 47.828125 \nQ 26.265625 48.1875 28.421875 48.1875 \nQ 40.625 48.1875 47.75 41.5 \nQ 54.890625 34.8125 54.890625 23.390625 \nQ 54.890625 11.625 47.5625 5.09375 \nQ 40.234375 -1.421875 26.90625 -1.421875 \nQ 22.3125 -1.421875 17.546875 -0.640625 \nQ 12.796875 0.140625 7.71875 1.703125 \nL 7.71875 11.625 \nQ 12.109375 9.234375 16.796875 8.0625 \nQ 21.484375 6.890625 26.703125 6.890625 \nQ 35.15625 6.890625 40.078125 11.328125 \nQ 45.015625 15.765625 45.015625 23.390625 \nQ 45.015625 31 40.078125 35.4375 \nQ 35.15625 39.890625 26.703125 39.890625 \nQ 22.75 39.890625 18.8125 39.015625 \nQ 14.890625 38.140625 10.796875 36.28125 \nz\n\" id=\"DejaVuSans-53\"/>\n       </defs>\n       <use xlink:href=\"#DejaVuSans-53\"/>\n       <use x=\"63.623047\" xlink:href=\"#DejaVuSans-48\"/>\n       <use x=\"127.246094\" xlink:href=\"#DejaVuSans-48\"/>\n      </g>\n     </g>\n    </g>\n    <g id=\"ytick_7\">\n     <g id=\"line2d_12\">\n      <g>\n       <use style=\"stroke:#000000;stroke-width:0.8;\" x=\"33.2875\" xlink:href=\"#m2b0f6397c9\" y=\"79.655836\"/>\n      </g>\n     </g>\n     <g id=\"text_12\">\n      <!-- 600 -->\n      <g transform=\"translate(7.2 83.455055)scale(0.1 -0.1)\">\n       <defs>\n        <path d=\"M 33.015625 40.375 \nQ 26.375 40.375 22.484375 35.828125 \nQ 18.609375 31.296875 18.609375 23.390625 \nQ 18.609375 15.53125 22.484375 10.953125 \nQ 26.375 6.390625 33.015625 6.390625 \nQ 39.65625 6.390625 43.53125 10.953125 \nQ 47.40625 15.53125 47.40625 23.390625 \nQ 47.40625 31.296875 43.53125 35.828125 \nQ 39.65625 40.375 33.015625 40.375 \nz\nM 52.59375 71.296875 \nL 52.59375 62.3125 \nQ 48.875 64.0625 45.09375 64.984375 \nQ 41.3125 65.921875 37.59375 65.921875 \nQ 27.828125 65.921875 22.671875 59.328125 \nQ 17.53125 52.734375 16.796875 39.40625 \nQ 19.671875 43.65625 24.015625 45.921875 \nQ 28.375 48.1875 33.59375 48.1875 \nQ 44.578125 48.1875 50.953125 41.515625 \nQ 57.328125 34.859375 57.328125 23.390625 \nQ 57.328125 12.15625 50.6875 5.359375 \nQ 44.046875 -1.421875 33.015625 -1.421875 \nQ 20.359375 -1.421875 13.671875 8.265625 \nQ 6.984375 17.96875 6.984375 36.375 \nQ 6.984375 53.65625 15.1875 63.9375 \nQ 23.390625 74.21875 37.203125 74.21875 \nQ 40.921875 74.21875 44.703125 73.484375 \nQ 48.484375 72.75 52.59375 71.296875 \nz\n\" id=\"DejaVuSans-54\"/>\n       </defs>\n       <use xlink:href=\"#DejaVuSans-54\"/>\n       <use x=\"63.623047\" xlink:href=\"#DejaVuSans-48\"/>\n       <use x=\"127.246094\" xlink:href=\"#DejaVuSans-48\"/>\n      </g>\n     </g>\n    </g>\n    <g id=\"ytick_8\">\n     <g id=\"line2d_13\">\n      <g>\n       <use style=\"stroke:#000000;stroke-width:0.8;\" x=\"33.2875\" xlink:href=\"#m2b0f6397c9\" y=\"55.491809\"/>\n      </g>\n     </g>\n     <g id=\"text_13\">\n      <!-- 700 -->\n      <g transform=\"translate(7.2 59.291027)scale(0.1 -0.1)\">\n       <defs>\n        <path d=\"M 8.203125 72.90625 \nL 55.078125 72.90625 \nL 55.078125 68.703125 \nL 28.609375 0 \nL 18.3125 0 \nL 43.21875 64.59375 \nL 8.203125 64.59375 \nz\n\" id=\"DejaVuSans-55\"/>\n       </defs>\n       <use xlink:href=\"#DejaVuSans-55\"/>\n       <use x=\"63.623047\" xlink:href=\"#DejaVuSans-48\"/>\n       <use x=\"127.246094\" xlink:href=\"#DejaVuSans-48\"/>\n      </g>\n     </g>\n    </g>\n    <g id=\"ytick_9\">\n     <g id=\"line2d_14\">\n      <g>\n       <use style=\"stroke:#000000;stroke-width:0.8;\" x=\"33.2875\" xlink:href=\"#m2b0f6397c9\" y=\"31.327781\"/>\n      </g>\n     </g>\n     <g id=\"text_14\">\n      <!-- 800 -->\n      <g transform=\"translate(7.2 35.127)scale(0.1 -0.1)\">\n       <defs>\n        <path d=\"M 31.78125 34.625 \nQ 24.75 34.625 20.71875 30.859375 \nQ 16.703125 27.09375 16.703125 20.515625 \nQ 16.703125 13.921875 20.71875 10.15625 \nQ 24.75 6.390625 31.78125 6.390625 \nQ 38.8125 6.390625 42.859375 10.171875 \nQ 46.921875 13.96875 46.921875 20.515625 \nQ 46.921875 27.09375 42.890625 30.859375 \nQ 38.875 34.625 31.78125 34.625 \nz\nM 21.921875 38.8125 \nQ 15.578125 40.375 12.03125 44.71875 \nQ 8.5 49.078125 8.5 55.328125 \nQ 8.5 64.0625 14.71875 69.140625 \nQ 20.953125 74.21875 31.78125 74.21875 \nQ 42.671875 74.21875 48.875 69.140625 \nQ 55.078125 64.0625 55.078125 55.328125 \nQ 55.078125 49.078125 51.53125 44.71875 \nQ 48 40.375 41.703125 38.8125 \nQ 48.828125 37.15625 52.796875 32.3125 \nQ 56.78125 27.484375 56.78125 20.515625 \nQ 56.78125 9.90625 50.3125 4.234375 \nQ 43.84375 -1.421875 31.78125 -1.421875 \nQ 19.734375 -1.421875 13.25 4.234375 \nQ 6.78125 9.90625 6.78125 20.515625 \nQ 6.78125 27.484375 10.78125 32.3125 \nQ 14.796875 37.15625 21.921875 38.8125 \nz\nM 18.3125 54.390625 \nQ 18.3125 48.734375 21.84375 45.5625 \nQ 25.390625 42.390625 31.78125 42.390625 \nQ 38.140625 42.390625 41.71875 45.5625 \nQ 45.3125 48.734375 45.3125 54.390625 \nQ 45.3125 60.0625 41.71875 63.234375 \nQ 38.140625 66.40625 31.78125 66.40625 \nQ 25.390625 66.40625 21.84375 63.234375 \nQ 18.3125 60.0625 18.3125 54.390625 \nz\n\" id=\"DejaVuSans-56\"/>\n       </defs>\n       <use xlink:href=\"#DejaVuSans-56\"/>\n       <use x=\"63.623047\" xlink:href=\"#DejaVuSans-48\"/>\n       <use x=\"127.246094\" xlink:href=\"#DejaVuSans-48\"/>\n      </g>\n     </g>\n    </g>\n   </g>\n   <g id=\"patch_13\">\n    <path d=\"M 33.2875 224.64 \nL 33.2875 7.2 \n\" style=\"fill:none;stroke:#000000;stroke-linecap:square;stroke-linejoin:miter;stroke-width:0.8;\"/>\n   </g>\n   <g id=\"patch_14\">\n    <path d=\"M 368.0875 224.64 \nL 368.0875 7.2 \n\" style=\"fill:none;stroke:#000000;stroke-linecap:square;stroke-linejoin:miter;stroke-width:0.8;\"/>\n   </g>\n   <g id=\"patch_15\">\n    <path d=\"M 33.2875 224.64 \nL 368.0875 224.64 \n\" style=\"fill:none;stroke:#000000;stroke-linecap:square;stroke-linejoin:miter;stroke-width:0.8;\"/>\n   </g>\n   <g id=\"patch_16\">\n    <path d=\"M 33.2875 7.2 \nL 368.0875 7.2 \n\" style=\"fill:none;stroke:#000000;stroke-linecap:square;stroke-linejoin:miter;stroke-width:0.8;\"/>\n   </g>\n  </g>\n </g>\n <defs>\n  <clipPath id=\"p7620c6ef5a\">\n   <rect height=\"217.44\" width=\"334.8\" x=\"33.2875\" y=\"7.2\"/>\n  </clipPath>\n </defs>\n</svg>\n",
      "image/png": "[encoded data removed]"
     },
     "metadata": {
      "needs_background": "light"
     }
    }
   ],
   "source": [
    "# 会員期間の分布を求める\n",
    "import matplotlib.pyplot as plt\n",
    "%matplotlib inline\n",
    "\n",
    "plt.hist(customer_join[\"membership_period\"])"
   ]
  },
  {
   "cell_type": "code",
   "execution_count": 353,
   "metadata": {},
   "outputs": [
    {
     "output_type": "execute_result",
     "data": {
      "text/plain": [
       "   customer_id  routine_flg    name class gender           start_date  \\\n",
       "1     AS008805            1   XXXXX   C01      M  2018-06-07 00:00:00   \n",
       "2     AS009013            0   XXXXX   C03      M  2017-08-01 00:00:00   \n",
       "7     AS015746            0   XXXXX   C01      M  2017-12-01 00:00:00   \n",
       "8     AS019120            0    XXXX   C01      M  2018-08-07 00:00:00   \n",
       "11    AS025956            1  XXXXXX   C01      M  2018-05-09 00:00:00   \n",
       "\n",
       "               end_date campaign_id  is_deleted campaign_name class_name  \\\n",
       "1   2019-03-31 00:00:00         CA2           1         入会費半額     オールタイム   \n",
       "2   2018-04-30 00:00:00         CA2           1         入会費半額        ナイト   \n",
       "7   2018-08-31 00:00:00         CA3           1         入会費無料     オールタイム   \n",
       "8   2018-10-31 00:00:00         CA1           1            通常     オールタイム   \n",
       "11  2019-02-28 00:00:00         CA2           1         入会費半額     オールタイム   \n",
       "\n",
       "    price customer_start customer_end      mean  median  max  min  \\\n",
       "1   10500     2018-06-07   2019-03-31  4.000000     4.0    8    1   \n",
       "2    6000     2017-08-01   2018-04-30  2.000000     2.0    2    2   \n",
       "7   10500     2017-12-01   2018-08-31  2.600000     3.0    4    1   \n",
       "8   10500     2018-08-07   2018-10-31  5.333333     5.0    8    3   \n",
       "11  10500     2018-05-09   2019-02-28  4.400000     4.5    7    1   \n",
       "\n",
       "   tmp_customer_end  membership_period  \n",
       "1        2019-03-31                  9  \n",
       "2        2018-04-30                  8  \n",
       "7        2018-08-31                  8  \n",
       "8        2018-10-31                  2  \n",
       "11       2019-02-28                  9  "
      ],
      "text/html": "<div>\n<style scoped>\n    .dataframe tbody tr th:only-of-type {\n        vertical-align: middle;\n    }\n\n    .dataframe tbody tr th {\n        vertical-align: top;\n    }\n\n    .dataframe thead th {\n        text-align: right;\n    }\n</style>\n<table border=\"1\" class=\"dataframe\">\n  <thead>\n    <tr style=\"text-align: right;\">\n      <th></th>\n      <th>customer_id</th>\n      <th>routine_flg</th>\n      <th>name</th>\n      <th>class</th>\n      <th>gender</th>\n      <th>start_date</th>\n      <th>end_date</th>\n      <th>campaign_id</th>\n      <th>is_deleted</th>\n      <th>campaign_name</th>\n      <th>class_name</th>\n      <th>price</th>\n      <th>customer_start</th>\n      <th>customer_end</th>\n      <th>mean</th>\n      <th>median</th>\n      <th>max</th>\n      <th>min</th>\n      <th>tmp_customer_end</th>\n      <th>membership_period</th>\n    </tr>\n  </thead>\n  <tbody>\n    <tr>\n      <th>1</th>\n      <td>AS008805</td>\n      <td>1</td>\n      <td>XXXXX</td>\n      <td>C01</td>\n      <td>M</td>\n      <td>2018-06-07 00:00:00</td>\n      <td>2019-03-31 00:00:00</td>\n      <td>CA2</td>\n      <td>1</td>\n      <td>入会費半額</td>\n      <td>オールタイム</td>\n      <td>10500</td>\n      <td>2018-06-07</td>\n      <td>2019-03-31</td>\n      <td>4.000000</td>\n      <td>4.0</td>\n      <td>8</td>\n      <td>1</td>\n      <td>2019-03-31</td>\n      <td>9</td>\n    </tr>\n    <tr>\n      <th>2</th>\n      <td>AS009013</td>\n      <td>0</td>\n      <td>XXXXX</td>\n      <td>C03</td>\n      <td>M</td>\n      <td>2017-08-01 00:00:00</td>\n      <td>2018-04-30 00:00:00</td>\n      <td>CA2</td>\n      <td>1</td>\n      <td>入会費半額</td>\n      <td>ナイト</td>\n      <td>6000</td>\n      <td>2017-08-01</td>\n      <td>2018-04-30</td>\n      <td>2.000000</td>\n      <td>2.0</td>\n      <td>2</td>\n      <td>2</td>\n      <td>2018-04-30</td>\n      <td>8</td>\n    </tr>\n    <tr>\n      <th>7</th>\n      <td>AS015746</td>\n      <td>0</td>\n      <td>XXXXX</td>\n      <td>C01</td>\n      <td>M</td>\n      <td>2017-12-01 00:00:00</td>\n      <td>2018-08-31 00:00:00</td>\n      <td>CA3</td>\n      <td>1</td>\n      <td>入会費無料</td>\n      <td>オールタイム</td>\n      <td>10500</td>\n      <td>2017-12-01</td>\n      <td>2018-08-31</td>\n      <td>2.600000</td>\n      <td>3.0</td>\n      <td>4</td>\n      <td>1</td>\n      <td>2018-08-31</td>\n      <td>8</td>\n    </tr>\n    <tr>\n      <th>8</th>\n      <td>AS019120</td>\n      <td>0</td>\n      <td>XXXX</td>\n      <td>C01</td>\n      <td>M</td>\n      <td>2018-08-07 00:00:00</td>\n      <td>2018-10-31 00:00:00</td>\n      <td>CA1</td>\n      <td>1</td>\n      <td>通常</td>\n      <td>オールタイム</td>\n      <td>10500</td>\n      <td>2018-08-07</td>\n      <td>2018-10-31</td>\n      <td>5.333333</td>\n      <td>5.0</td>\n      <td>8</td>\n      <td>3</td>\n      <td>2018-10-31</td>\n      <td>2</td>\n    </tr>\n    <tr>\n      <th>11</th>\n      <td>AS025956</td>\n      <td>1</td>\n      <td>XXXXXX</td>\n      <td>C01</td>\n      <td>M</td>\n      <td>2018-05-09 00:00:00</td>\n      <td>2019-02-28 00:00:00</td>\n      <td>CA2</td>\n      <td>1</td>\n      <td>入会費半額</td>\n      <td>オールタイム</td>\n      <td>10500</td>\n      <td>2018-05-09</td>\n      <td>2019-02-28</td>\n      <td>4.400000</td>\n      <td>4.5</td>\n      <td>7</td>\n      <td>1</td>\n      <td>2019-02-28</td>\n      <td>9</td>\n    </tr>\n  </tbody>\n</table>\n</div>"
     },
     "metadata": {},
     "execution_count": 353
    }
   ],
   "source": [
    "# 10ヶ月以内に離れていくユーザーの特徴を掴む\n",
    "under_10_customer_join = customer_join.loc[customer_join[\"membership_period\"] < 10]\n",
    "under_10_and_end_customer_join = under_10_customer_join.loc[under_10_customer_join[\"is_deleted\"] == 1]\n",
    "under_10_and_end_customer_join.head()"
   ]
  },
  {
   "cell_type": "code",
   "execution_count": 357,
   "metadata": {},
   "outputs": [
    {
     "output_type": "execute_result",
     "data": {
      "text/plain": [
       "                          customer_id\n",
       "class_name campaign_name             \n",
       "オールタイム     入会費半額                  147\n",
       "           入会費無料                  103\n",
       "           通常                     189\n",
       "デイタイム      入会費半額                   64\n",
       "           入会費無料                   65\n",
       "           通常                     109\n",
       "ナイト        入会費半額                   71\n",
       "           入会費無料                   56\n",
       "           通常                     116"
      ],
      "text/html": "<div>\n<style scoped>\n    .dataframe tbody tr th:only-of-type {\n        vertical-align: middle;\n    }\n\n    .dataframe tbody tr th {\n        vertical-align: top;\n    }\n\n    .dataframe thead th {\n        text-align: right;\n    }\n</style>\n<table border=\"1\" class=\"dataframe\">\n  <thead>\n    <tr style=\"text-align: right;\">\n      <th></th>\n      <th></th>\n      <th>customer_id</th>\n    </tr>\n    <tr>\n      <th>class_name</th>\n      <th>campaign_name</th>\n      <th></th>\n    </tr>\n  </thead>\n  <tbody>\n    <tr>\n      <th rowspan=\"3\" valign=\"top\">オールタイム</th>\n      <th>入会費半額</th>\n      <td>147</td>\n    </tr>\n    <tr>\n      <th>入会費無料</th>\n      <td>103</td>\n    </tr>\n    <tr>\n      <th>通常</th>\n      <td>189</td>\n    </tr>\n    <tr>\n      <th rowspan=\"3\" valign=\"top\">デイタイム</th>\n      <th>入会費半額</th>\n      <td>64</td>\n    </tr>\n    <tr>\n      <th>入会費無料</th>\n      <td>65</td>\n    </tr>\n    <tr>\n      <th>通常</th>\n      <td>109</td>\n    </tr>\n    <tr>\n      <th rowspan=\"3\" valign=\"top\">ナイト</th>\n      <th>入会費半額</th>\n      <td>71</td>\n    </tr>\n    <tr>\n      <th>入会費無料</th>\n      <td>56</td>\n    </tr>\n    <tr>\n      <th>通常</th>\n      <td>116</td>\n    </tr>\n  </tbody>\n</table>\n</div>"
     },
     "metadata": {},
     "execution_count": 357
    }
   ],
   "source": [
    "# 10ヶ月以内に退会したユーザー\n",
    "under_10_and_end_customer_join.groupby([\"class_name\", \"campaign_name\"]).count()[[\"customer_id\"]]"
   ]
  },
  {
   "cell_type": "code",
   "execution_count": 369,
   "metadata": {},
   "outputs": [
    {
     "output_type": "execute_result",
     "data": {
      "text/plain": [
       "   customer_id  routine_flg   name class gender           start_date end_date  \\\n",
       "14    AS030590            0    XXX   C03      M  2019-03-08 00:00:00      NaN   \n",
       "28    AS065785            1  XXXXX   C02      F  2019-01-13 00:00:00      NaN   \n",
       "37    AS076940            0  XXXXX   C01      F  2019-03-12 00:00:00      NaN   \n",
       "44    AS093634            1    XXX   C03      M  2018-10-07 00:00:00      NaN   \n",
       "58    AS118198            1     XX   C03      M  2018-12-09 00:00:00      NaN   \n",
       "\n",
       "   campaign_id  is_deleted campaign_name class_name  price customer_start  \\\n",
       "14         CA1           0            通常        ナイト   6000     2019-03-08   \n",
       "28         CA1           0            通常      デイタイム   7500     2019-01-13   \n",
       "37         CA1           0            通常     オールタイム  10500     2019-03-12   \n",
       "44         CA1           0            通常        ナイト   6000     2018-10-07   \n",
       "58         CA3           0         入会費無料        ナイト   6000     2018-12-09   \n",
       "\n",
       "   customer_end       mean  median  max  min tmp_customer_end  \\\n",
       "14          NaT  12.000000    12.0   12   12       2019-04-30   \n",
       "28          NaT   8.333333     8.0    9    8       2019-04-30   \n",
       "37          NaT   7.000000     7.0    7    7       2019-04-30   \n",
       "44          NaT   8.166667     8.0   10    7       2019-04-30   \n",
       "58          NaT   8.750000     8.5   11    7       2019-04-30   \n",
       "\n",
       "    membership_period  \n",
       "14                  1  \n",
       "28                  3  \n",
       "37                  1  \n",
       "44                  6  \n",
       "58                  4  "
      ],
      "text/html": "<div>\n<style scoped>\n    .dataframe tbody tr th:only-of-type {\n        vertical-align: middle;\n    }\n\n    .dataframe tbody tr th {\n        vertical-align: top;\n    }\n\n    .dataframe thead th {\n        text-align: right;\n    }\n</style>\n<table border=\"1\" class=\"dataframe\">\n  <thead>\n    <tr style=\"text-align: right;\">\n      <th></th>\n      <th>customer_id</th>\n      <th>routine_flg</th>\n      <th>name</th>\n      <th>class</th>\n      <th>gender</th>\n      <th>start_date</th>\n      <th>end_date</th>\n      <th>campaign_id</th>\n      <th>is_deleted</th>\n      <th>campaign_name</th>\n      <th>class_name</th>\n      <th>price</th>\n      <th>customer_start</th>\n      <th>customer_end</th>\n      <th>mean</th>\n      <th>median</th>\n      <th>max</th>\n      <th>min</th>\n      <th>tmp_customer_end</th>\n      <th>membership_period</th>\n    </tr>\n  </thead>\n  <tbody>\n    <tr>\n      <th>14</th>\n      <td>AS030590</td>\n      <td>0</td>\n      <td>XXX</td>\n      <td>C03</td>\n      <td>M</td>\n      <td>2019-03-08 00:00:00</td>\n      <td>NaN</td>\n      <td>CA1</td>\n      <td>0</td>\n      <td>通常</td>\n      <td>ナイト</td>\n      <td>6000</td>\n      <td>2019-03-08</td>\n      <td>NaT</td>\n      <td>12.000000</td>\n      <td>12.0</td>\n      <td>12</td>\n      <td>12</td>\n      <td>2019-04-30</td>\n      <td>1</td>\n    </tr>\n    <tr>\n      <th>28</th>\n      <td>AS065785</td>\n      <td>1</td>\n      <td>XXXXX</td>\n      <td>C02</td>\n      <td>F</td>\n      <td>2019-01-13 00:00:00</td>\n      <td>NaN</td>\n      <td>CA1</td>\n      <td>0</td>\n      <td>通常</td>\n      <td>デイタイム</td>\n      <td>7500</td>\n      <td>2019-01-13</td>\n      <td>NaT</td>\n      <td>8.333333</td>\n      <td>8.0</td>\n      <td>9</td>\n      <td>8</td>\n      <td>2019-04-30</td>\n      <td>3</td>\n    </tr>\n    <tr>\n      <th>37</th>\n      <td>AS076940</td>\n      <td>0</td>\n      <td>XXXXX</td>\n      <td>C01</td>\n      <td>F</td>\n      <td>2019-03-12 00:00:00</td>\n      <td>NaN</td>\n      <td>CA1</td>\n      <td>0</td>\n      <td>通常</td>\n      <td>オールタイム</td>\n      <td>10500</td>\n      <td>2019-03-12</td>\n      <td>NaT</td>\n      <td>7.000000</td>\n      <td>7.0</td>\n      <td>7</td>\n      <td>7</td>\n      <td>2019-04-30</td>\n      <td>1</td>\n    </tr>\n    <tr>\n      <th>44</th>\n      <td>AS093634</td>\n      <td>1</td>\n      <td>XXX</td>\n      <td>C03</td>\n      <td>M</td>\n      <td>2018-10-07 00:00:00</td>\n      <td>NaN</td>\n      <td>CA1</td>\n      <td>0</td>\n      <td>通常</td>\n      <td>ナイト</td>\n      <td>6000</td>\n      <td>2018-10-07</td>\n      <td>NaT</td>\n      <td>8.166667</td>\n      <td>8.0</td>\n      <td>10</td>\n      <td>7</td>\n      <td>2019-04-30</td>\n      <td>6</td>\n    </tr>\n    <tr>\n      <th>58</th>\n      <td>AS118198</td>\n      <td>1</td>\n      <td>XX</td>\n      <td>C03</td>\n      <td>M</td>\n      <td>2018-12-09 00:00:00</td>\n      <td>NaN</td>\n      <td>CA3</td>\n      <td>0</td>\n      <td>入会費無料</td>\n      <td>ナイト</td>\n      <td>6000</td>\n      <td>2018-12-09</td>\n      <td>NaT</td>\n      <td>8.750000</td>\n      <td>8.5</td>\n      <td>11</td>\n      <td>7</td>\n      <td>2019-04-30</td>\n      <td>4</td>\n    </tr>\n  </tbody>\n</table>\n</div>"
     },
     "metadata": {},
     "execution_count": 369
    }
   ],
   "source": [
    "under_10_and_still_member_customer_join = customer_join.loc[(customer_join[\"membership_period\"] < 10) & (customer_join[\"is_deleted\"] == 0)]\n",
    "under_10_and_still_member_customer_join.head()"
   ]
  },
  {
   "cell_type": "code",
   "execution_count": 370,
   "metadata": {},
   "outputs": [
    {
     "output_type": "execute_result",
     "data": {
      "text/plain": [
       "                          customer_id\n",
       "class_name campaign_name             \n",
       "オールタイム     入会費無料                   66\n",
       "           通常                     211\n",
       "デイタイム      入会費無料                   26\n",
       "           通常                     110\n",
       "ナイト        入会費無料                   37\n",
       "           通常                     140"
      ],
      "text/html": "<div>\n<style scoped>\n    .dataframe tbody tr th:only-of-type {\n        vertical-align: middle;\n    }\n\n    .dataframe tbody tr th {\n        vertical-align: top;\n    }\n\n    .dataframe thead th {\n        text-align: right;\n    }\n</style>\n<table border=\"1\" class=\"dataframe\">\n  <thead>\n    <tr style=\"text-align: right;\">\n      <th></th>\n      <th></th>\n      <th>customer_id</th>\n    </tr>\n    <tr>\n      <th>class_name</th>\n      <th>campaign_name</th>\n      <th></th>\n    </tr>\n  </thead>\n  <tbody>\n    <tr>\n      <th rowspan=\"2\" valign=\"top\">オールタイム</th>\n      <th>入会費無料</th>\n      <td>66</td>\n    </tr>\n    <tr>\n      <th>通常</th>\n      <td>211</td>\n    </tr>\n    <tr>\n      <th rowspan=\"2\" valign=\"top\">デイタイム</th>\n      <th>入会費無料</th>\n      <td>26</td>\n    </tr>\n    <tr>\n      <th>通常</th>\n      <td>110</td>\n    </tr>\n    <tr>\n      <th rowspan=\"2\" valign=\"top\">ナイト</th>\n      <th>入会費無料</th>\n      <td>37</td>\n    </tr>\n    <tr>\n      <th>通常</th>\n      <td>140</td>\n    </tr>\n  </tbody>\n</table>\n</div>"
     },
     "metadata": {},
     "execution_count": 370
    }
   ],
   "source": [
    "# 10ヶ月以内で、またメンバーの人\n",
    "under_10_and_still_member_customer_join.groupby([\"class_name\", \"campaign_name\"]).count()[[\"customer_id\"]]\n",
    "\n",
    "# 退会したユーザーとまたメンバーの比較を行うと、\n",
    "# 通常入会したメンバーの方がよりメンバー維持していることが分かる\n",
    "# キャンペーンは、一時的に入会メンバーを増やすが、継続しない傾向にある"
   ]
  },
  {
   "cell_type": "code",
   "execution_count": 373,
   "metadata": {},
   "outputs": [
    {
     "output_type": "execute_result",
     "data": {
      "text/plain": [
       "       routine_flg  is_deleted         price        mean      median  \\\n",
       "count   920.000000       920.0    920.000000  920.000000  920.000000   \n",
       "mean      0.413043         1.0   8535.326087    4.113058    3.780435   \n",
       "std       0.492648         0.0   1954.766475    1.275170    1.326120   \n",
       "min       0.000000         1.0   6000.000000    1.000000    1.000000   \n",
       "25%       0.000000         1.0   6000.000000    3.333333    3.000000   \n",
       "50%       0.000000         1.0   7500.000000    4.200000    4.000000   \n",
       "75%       1.000000         1.0  10500.000000    4.878472    5.000000   \n",
       "max       1.000000         1.0  10500.000000    9.000000    9.000000   \n",
       "\n",
       "              max         min  membership_period  \n",
       "count  920.000000  920.000000         920.000000  \n",
       "mean     6.983696    1.897826           5.317391  \n",
       "std      2.545934    1.041258           2.500777  \n",
       "min      1.000000    1.000000           1.000000  \n",
       "25%      5.000000    1.000000           3.000000  \n",
       "50%      8.000000    2.000000           5.000000  \n",
       "75%      9.000000    2.000000           8.000000  \n",
       "max     13.000000    8.000000           9.000000  "
      ],
      "text/html": "<div>\n<style scoped>\n    .dataframe tbody tr th:only-of-type {\n        vertical-align: middle;\n    }\n\n    .dataframe tbody tr th {\n        vertical-align: top;\n    }\n\n    .dataframe thead th {\n        text-align: right;\n    }\n</style>\n<table border=\"1\" class=\"dataframe\">\n  <thead>\n    <tr style=\"text-align: right;\">\n      <th></th>\n      <th>routine_flg</th>\n      <th>is_deleted</th>\n      <th>price</th>\n      <th>mean</th>\n      <th>median</th>\n      <th>max</th>\n      <th>min</th>\n      <th>membership_period</th>\n    </tr>\n  </thead>\n  <tbody>\n    <tr>\n      <th>count</th>\n      <td>920.000000</td>\n      <td>920.0</td>\n      <td>920.000000</td>\n      <td>920.000000</td>\n      <td>920.000000</td>\n      <td>920.000000</td>\n      <td>920.000000</td>\n      <td>920.000000</td>\n    </tr>\n    <tr>\n      <th>mean</th>\n      <td>0.413043</td>\n      <td>1.0</td>\n      <td>8535.326087</td>\n      <td>4.113058</td>\n      <td>3.780435</td>\n      <td>6.983696</td>\n      <td>1.897826</td>\n      <td>5.317391</td>\n    </tr>\n    <tr>\n      <th>std</th>\n      <td>0.492648</td>\n      <td>0.0</td>\n      <td>1954.766475</td>\n      <td>1.275170</td>\n      <td>1.326120</td>\n      <td>2.545934</td>\n      <td>1.041258</td>\n      <td>2.500777</td>\n    </tr>\n    <tr>\n      <th>min</th>\n      <td>0.000000</td>\n      <td>1.0</td>\n      <td>6000.000000</td>\n      <td>1.000000</td>\n      <td>1.000000</td>\n      <td>1.000000</td>\n      <td>1.000000</td>\n      <td>1.000000</td>\n    </tr>\n    <tr>\n      <th>25%</th>\n      <td>0.000000</td>\n      <td>1.0</td>\n      <td>6000.000000</td>\n      <td>3.333333</td>\n      <td>3.000000</td>\n      <td>5.000000</td>\n      <td>1.000000</td>\n      <td>3.000000</td>\n    </tr>\n    <tr>\n      <th>50%</th>\n      <td>0.000000</td>\n      <td>1.0</td>\n      <td>7500.000000</td>\n      <td>4.200000</td>\n      <td>4.000000</td>\n      <td>8.000000</td>\n      <td>2.000000</td>\n      <td>5.000000</td>\n    </tr>\n    <tr>\n      <th>75%</th>\n      <td>1.000000</td>\n      <td>1.0</td>\n      <td>10500.000000</td>\n      <td>4.878472</td>\n      <td>5.000000</td>\n      <td>9.000000</td>\n      <td>2.000000</td>\n      <td>8.000000</td>\n    </tr>\n    <tr>\n      <th>max</th>\n      <td>1.000000</td>\n      <td>1.0</td>\n      <td>10500.000000</td>\n      <td>9.000000</td>\n      <td>9.000000</td>\n      <td>13.000000</td>\n      <td>8.000000</td>\n      <td>9.000000</td>\n    </tr>\n  </tbody>\n</table>\n</div>"
     },
     "metadata": {},
     "execution_count": 373
    }
   ],
   "source": [
    "under_10_and_end_customer_join.describe()"
   ]
  },
  {
   "cell_type": "code",
   "execution_count": 375,
   "metadata": {},
   "outputs": [
    {
     "output_type": "execute_result",
     "data": {
      "text/plain": [
       "       routine_flg  is_deleted         price        mean      median  \\\n",
       "count   590.000000       590.0    590.000000  590.000000  590.000000   \n",
       "mean      0.923729         0.0   8458.474576    8.260367    8.253390   \n",
       "std       0.265657         0.0   1997.125535    1.008933    1.079496   \n",
       "min       0.000000         0.0   6000.000000    5.000000    5.000000   \n",
       "25%       1.000000         0.0   6000.000000    7.666667    7.500000   \n",
       "50%       1.000000         0.0   7500.000000    8.142857    8.000000   \n",
       "75%       1.000000         0.0  10500.000000    8.750000    9.000000   \n",
       "max       1.000000         0.0  10500.000000   12.000000   12.000000   \n",
       "\n",
       "              max         min  membership_period  \n",
       "count  590.000000  590.000000         590.000000  \n",
       "mean     9.855932    6.659322           4.576271  \n",
       "std      1.365817    1.577927           2.464026  \n",
       "min      5.000000    1.000000           1.000000  \n",
       "25%      9.000000    6.000000           3.000000  \n",
       "50%     10.000000    7.000000           4.000000  \n",
       "75%     11.000000    7.000000           7.000000  \n",
       "max     14.000000   12.000000           9.000000  "
      ],
      "text/html": "<div>\n<style scoped>\n    .dataframe tbody tr th:only-of-type {\n        vertical-align: middle;\n    }\n\n    .dataframe tbody tr th {\n        vertical-align: top;\n    }\n\n    .dataframe thead th {\n        text-align: right;\n    }\n</style>\n<table border=\"1\" class=\"dataframe\">\n  <thead>\n    <tr style=\"text-align: right;\">\n      <th></th>\n      <th>routine_flg</th>\n      <th>is_deleted</th>\n      <th>price</th>\n      <th>mean</th>\n      <th>median</th>\n      <th>max</th>\n      <th>min</th>\n      <th>membership_period</th>\n    </tr>\n  </thead>\n  <tbody>\n    <tr>\n      <th>count</th>\n      <td>590.000000</td>\n      <td>590.0</td>\n      <td>590.000000</td>\n      <td>590.000000</td>\n      <td>590.000000</td>\n      <td>590.000000</td>\n      <td>590.000000</td>\n      <td>590.000000</td>\n    </tr>\n    <tr>\n      <th>mean</th>\n      <td>0.923729</td>\n      <td>0.0</td>\n      <td>8458.474576</td>\n      <td>8.260367</td>\n      <td>8.253390</td>\n      <td>9.855932</td>\n      <td>6.659322</td>\n      <td>4.576271</td>\n    </tr>\n    <tr>\n      <th>std</th>\n      <td>0.265657</td>\n      <td>0.0</td>\n      <td>1997.125535</td>\n      <td>1.008933</td>\n      <td>1.079496</td>\n      <td>1.365817</td>\n      <td>1.577927</td>\n      <td>2.464026</td>\n    </tr>\n    <tr>\n      <th>min</th>\n      <td>0.000000</td>\n      <td>0.0</td>\n      <td>6000.000000</td>\n      <td>5.000000</td>\n      <td>5.000000</td>\n      <td>5.000000</td>\n      <td>1.000000</td>\n      <td>1.000000</td>\n    </tr>\n    <tr>\n      <th>25%</th>\n      <td>1.000000</td>\n      <td>0.0</td>\n      <td>6000.000000</td>\n      <td>7.666667</td>\n      <td>7.500000</td>\n      <td>9.000000</td>\n      <td>6.000000</td>\n      <td>3.000000</td>\n    </tr>\n    <tr>\n      <th>50%</th>\n      <td>1.000000</td>\n      <td>0.0</td>\n      <td>7500.000000</td>\n      <td>8.142857</td>\n      <td>8.000000</td>\n      <td>10.000000</td>\n      <td>7.000000</td>\n      <td>4.000000</td>\n    </tr>\n    <tr>\n      <th>75%</th>\n      <td>1.000000</td>\n      <td>0.0</td>\n      <td>10500.000000</td>\n      <td>8.750000</td>\n      <td>9.000000</td>\n      <td>11.000000</td>\n      <td>7.000000</td>\n      <td>7.000000</td>\n    </tr>\n    <tr>\n      <th>max</th>\n      <td>1.000000</td>\n      <td>0.0</td>\n      <td>10500.000000</td>\n      <td>12.000000</td>\n      <td>12.000000</td>\n      <td>14.000000</td>\n      <td>12.000000</td>\n      <td>9.000000</td>\n    </tr>\n  </tbody>\n</table>\n</div>"
     },
     "metadata": {},
     "execution_count": 375
    }
   ],
   "source": [
    "under_10_and_still_member_customer_join.describe()"
   ]
  },
  {
   "cell_type": "code",
   "execution_count": 376,
   "metadata": {},
   "outputs": [],
   "source": [
    "customer_join.to_csv(\"customer_join.csv\", index=False)"
   ]
  }
 ]
}